{
 "cells": [
  {
   "cell_type": "markdown",
   "metadata": {},
   "source": [
    "Hunter Bennett | Glass Lab | Kupffer Strains Project | 14 March 2023\n",
    "\n",
    "In addition to calling differential peaks we want to examine the mutational burden in enhancers at different log2 fold change cutoffs - idea being the mutation rate should be highest within the most strain specific set of enhancers"
   ]
  },
  {
   "cell_type": "markdown",
   "metadata": {},
   "source": [
    "### Load packages"
   ]
  },
  {
   "cell_type": "code",
   "execution_count": 1,
   "metadata": {},
   "outputs": [],
   "source": [
    "### header ###\n",
    "__author__ = \"Hunter Bennett\"\n",
    "__license__ = \"BSD\"\n",
    "__email__ = \"hunter.r.bennett@gmail.com\"\n",
    "%load_ext autoreload\n",
    "%autoreload 2\n",
    "### imports ###\n",
    "%matplotlib inline\n",
    "import os\n",
    "import re\n",
    "import glob\n",
    "import pandas as pd\n",
    "import numpy as np"
   ]
  },
  {
   "cell_type": "markdown",
   "metadata": {},
   "source": [
    "Set working directory"
   ]
  },
  {
   "cell_type": "code",
   "execution_count": 2,
   "metadata": {},
   "outputs": [],
   "source": [
    "workingDirectory = '/home/h1bennet/strains_github/results/Figure2_ATAC/' # user will need to set own wd\n",
    "if not os.path.isdir(workingDirectory):\n",
    "    os.mkdir(workingDirectory)\n",
    "os.chdir(workingDirectory)"
   ]
  },
  {
   "cell_type": "markdown",
   "metadata": {},
   "source": [
    "Define custom functions"
   ]
  },
  {
   "cell_type": "code",
   "execution_count": 3,
   "metadata": {},
   "outputs": [],
   "source": [
    "def import_homer_diffpeak(depath, appath):\n",
    "    '''This function takes in a getDiffExpression file created from raw tag counts\n",
    "       and a peak tag file created with annotatePeaks\n",
    "       and processes the files so that they contain the same set of genes and can be\n",
    "       used for data visualization and analysis\n",
    "       Accepts:\n",
    "           depath (str): path to getDiffExpression file\n",
    "           appath (str): path to annotatePeaks file\n",
    "       Returns:\n",
    "           de (pandas.DataFrame): modified getDiffExpression file\n",
    "           ge (pandas.DataFrame): modified annotatePeaks,\n",
    "           ge_mat (pandas.DataFrame): annotatePeaks file without annotation\n",
    "           ge_mat_quatn (pandas.DataFrame) : annotatePeaks file without annotation\n",
    "           and quantile normalized\n",
    "       '''\n",
    "    # import packages\n",
    "    import pandas as pd\n",
    "    import numpy as np\n",
    "\n",
    "    # set autosomes for filtering\n",
    "    autosomes = ['chr1', 'chr2', 'chr3', 'chr4',\n",
    "                 'chr5', 'chr6', 'chr7', 'chr8',\n",
    "                 'chr9', 'chr10', 'chr11', 'chr12',\n",
    "                 'chr13', 'chr14', 'chr15', 'chr16',\n",
    "                 'chr17', 'chr18', 'chr19']\n",
    "\n",
    "    # import differential gene expression\n",
    "    de = pd.read_csv(depath, sep='\\t', index_col=0)\n",
    "    de.index.rename('PeakID', inplace=True)\n",
    "    de = de.loc[de.Chr.str.contains('|'.join(autosomes)), :]\n",
    "\n",
    "\n",
    "    # import ge file\n",
    "    ap = pd.read_csv(appath, sep='\\t', index_col=0)\n",
    "    ap.index.rename('PeakID', inplace=True)\n",
    "\n",
    "    # select ge transcripts that are in diff_gene\n",
    "    print('annotatePeaks all peaks', ap.shape)\n",
    "    print('getDiffExpression selected transcripts', de.shape)\n",
    "    ap = ap.loc[de.index.tolist(), :]\n",
    "    print('annotatePeaks selected peaks', ap.shape)\n",
    "\n",
    "\n",
    "    # return files\n",
    "    return (de, ap, ap.iloc[:, 18:]) # also return count matrix without annotation\n",
    "\n",
    "def pull_comparisons_get_diff(diff_gene, seq_type='Repeat'):\n",
    "    '''This function pulls out comparisons from a diff gene file with multiple comparision groups\n",
    "    and returns a dict of pandas DataFrames with one comparison each.\n",
    "\n",
    "    Accepts:\n",
    "        diff_gene (pandas.DataFrame): diff gene file processed to have\n",
    "        genes as index and column of RefSeqIDs titled RepeatID\n",
    "        seq_type (str): Repeat|Peak type of annotation file. repeat for RNA\n",
    "        peak for ChIP/ATAC\n",
    "\n",
    "    Returns:\n",
    "    comp_dict (dict): dictionary of 1 pandas Data Frame per each comparison\n",
    "    ''' \n",
    "\n",
    "\n",
    "    # import packages\n",
    "    import pandas as pd\n",
    "    import re\n",
    "    \n",
    "    if seq_type=='Repeat':\n",
    "        # extract groups\n",
    "        def subset_get_diff(diff_gene, comp):\n",
    "            return diff_gene.loc[:, [seq_type+'ID',\n",
    "                                     comp + ' Log2 Fold Change',\n",
    "                                     comp + ' p-value',\n",
    "                                     comp + ' adj. p-value']]\n",
    "\n",
    "    if seq_type=='Peak':\n",
    "        # exract groups\n",
    "        def subset_get_diff(diff_gene, comp):\n",
    "             return diff_gene.loc[:, ['Chr', 'Start', 'End',\n",
    "                                      'Annotation',\n",
    "                                      'Gene Name',\n",
    "                                      'Distance to TSS',\n",
    "                                       comp + ' Log2 Fold Change',\n",
    "                                       comp + ' p-value',\n",
    "                                       comp + ' adj. p-value']]\n",
    "    \n",
    "    comp_dict = {}\n",
    "    pattern='(\\w* vs. \\w*).*'\n",
    "    for col in diff_gene.columns.values:\n",
    "        m = re.search(string=col, pattern=pattern)\n",
    "        if m:\n",
    "            df = subset_get_diff(diff_gene, m.group(1))\n",
    "            if seq_type=='Repeat':\n",
    "                df.columns = ['RepeatID', 'log2fc', 'pval', 'adj_pval']\n",
    "            if seq_type=='Peak':\n",
    "                df['location'] = df.Chr.astype(str)+':'+df.Start.astype(str)+'-'+df.End.astype(str)\n",
    "                df.columns = ['Chr', 'Start', 'End',\n",
    "                              'Annotation', 'gene', 'TSS_dist',\n",
    "                              'log2fc', 'pval', 'adj_pval', 'location']\n",
    "    \n",
    "            comp_dict[re.sub('G0[0-9]_', '', m.group(1))] = df\n",
    "    \n",
    "    return comp_dict"
   ]
  },
  {
   "cell_type": "markdown",
   "metadata": {},
   "source": [
    "### Import differential peak analysis"
   ]
  },
  {
   "cell_type": "markdown",
   "metadata": {},
   "source": [
    "Best replicates determined by quality control in qc and annotation notebooks"
   ]
  },
  {
   "cell_type": "code",
   "execution_count": 4,
   "metadata": {},
   "outputs": [
    {
     "name": "stdout",
     "output_type": "stream",
     "text": [
      "annotatePeaks all peaks (84264, 30)\n",
      "getDiffExpression selected transcripts (84264, 39)\n",
      "annotatePeaks selected peaks (84264, 30)\n"
     ]
    }
   ],
   "source": [
    "diff_peak, peaks, peak_mat = import_homer_diffpeak(\n",
    "    './diff_output.txt',\n",
    "    './idr_peaks_atac_norm.txt')\n",
    "\n",
    "# create dictionary of sub data-frames for each comparison\n",
    "comp_dict = pull_comparisons_get_diff(diff_peak, seq_type='Peak')"
   ]
  },
  {
   "cell_type": "markdown",
   "metadata": {},
   "source": [
    "Make output directory"
   ]
  },
  {
   "cell_type": "code",
   "execution_count": 5,
   "metadata": {},
   "outputs": [],
   "source": [
    "if not os.path.isdir('./marge_mutational_burden/'):\n",
    "    os.mkdir('./marge_mutational_burden/')"
   ]
  },
  {
   "cell_type": "markdown",
   "metadata": {},
   "source": [
    "Set thresholds for analysis"
   ]
  },
  {
   "cell_type": "code",
   "execution_count": 6,
   "metadata": {},
   "outputs": [],
   "source": [
    "pval = 0.05\n",
    "fcs = [1,2,4]\n",
    "peak_list_dict = {}"
   ]
  },
  {
   "cell_type": "markdown",
   "metadata": {},
   "source": [
    "Generate peak lists for analysis with MMARGE"
   ]
  },
  {
   "cell_type": "code",
   "execution_count": 7,
   "metadata": {},
   "outputs": [],
   "source": [
    "for fc in fcs:   \n",
    "    for key in comp_dict.keys():\n",
    "        # select get diff data frame.\n",
    "        df = comp_dict[key]\n",
    "        deg = df.index[(df.loc[:, 'adj_pval'] < pval) & (np.abs(df.loc[:, 'log2fc']) >= fc)]\n",
    "        peak_list_dict[key+'_de_peaks_fc_'+str(fc)] = deg\n",
    "        \n",
    "        # add list for nonsig peaks\n",
    "        nondeg = df.index[(df.loc[:, 'adj_pval'] >= pval) & (np.abs(df.loc[:, 'log2fc']) < fc)]\n",
    "        peak_list_dict[key+'_nonsig'] = nondeg"
   ]
  },
  {
   "cell_type": "markdown",
   "metadata": {},
   "source": [
    "if np.NaN get introduced into the matrix then it converts 'int' type columns to 'float' type columns, this is not ideal and interferes with downstream peak analysis so we create a dict to change the start and end columns back to integers just in case"
   ]
  },
  {
   "cell_type": "code",
   "execution_count": 8,
   "metadata": {},
   "outputs": [],
   "source": [
    "convert_dict = {'Start': int,\n",
    "                'End': int}\n",
    "\n",
    "for key in peak_list_dict.keys():\n",
    "    # save cell specific promoters\n",
    "    tmp = diff_peak.reindex(peak_list_dict[key]).dropna(how='all').iloc[:, :4]\n",
    "    tmp = tmp.astype(convert_dict)\n",
    "    tmp.to_csv('./marge_mutational_burden/'+key.replace(' vs. ','_vs_')+'.txt',\n",
    "               sep='\\t')"
   ]
  },
  {
   "cell_type": "markdown",
   "metadata": {},
   "source": [
    "Annotate mutations with MMARGE"
   ]
  },
  {
   "cell_type": "code",
   "execution_count": 9,
   "metadata": {},
   "outputs": [],
   "source": [
    "with open('./marge_annotate_mutations.sh', 'w') as f:\n",
    "    for peakfile in glob.glob('./marge_mutational_burden/aj*c57*.txt'):\n",
    "        anno_mut = ['MMARGE.pl annotate_mutations', '-file', peakfile,\n",
    "                    '-output', peakfile.replace('.txt', '_anno_muts.txt'),\n",
    "                    '-ind', 'aj\\n\\n']\n",
    "        f.write(' '.join(anno_mut))\n",
    "        \n",
    "    for peakfile in glob.glob('./marge_mutational_burden/balbcj*c57*.txt'):\n",
    "        anno_mut = ['MMARGE.pl annotate_mutations', '-file', peakfile,\n",
    "                    '-output', peakfile.replace('.txt', '_anno_muts.txt'),\n",
    "                    '-ind', 'balbcj\\n\\n']\n",
    "        f.write(' '.join(anno_mut))\n",
    "        \n",
    "    for peakfile in glob.glob('./marge_mutational_burden/aj*balbcj*.txt'):\n",
    "        anno_mut = ['MMARGE.pl annotate_mutations', '-file', peakfile,\n",
    "                    '-output', peakfile.replace('.txt', '_anno_muts.txt'),\n",
    "                    '-ind', 'balbcj\\n\\n']\n",
    "        f.write(' '.join(anno_mut))"
   ]
  },
  {
   "cell_type": "markdown",
   "metadata": {},
   "source": [
    "Run the following in the command line\n",
    "\n",
    "    bash ./marge_annotate_mutations.sh"
   ]
  },
  {
   "cell_type": "markdown",
   "metadata": {},
   "source": [
    "### Calculate number of mutations in each file\n",
    "First look at generated files"
   ]
  },
  {
   "cell_type": "code",
   "execution_count": 13,
   "metadata": {
    "scrolled": true
   },
   "outputs": [
    {
     "data": {
      "text/plain": [
       "array(['./marge_mutational_burden/aj_vs_balbcj_de_peaks_fc_1_anno_muts.txt',\n",
       "       './marge_mutational_burden/aj_vs_balbcj_de_peaks_fc_2_anno_muts.txt',\n",
       "       './marge_mutational_burden/aj_vs_balbcj_de_peaks_fc_4_anno_muts.txt',\n",
       "       './marge_mutational_burden/aj_vs_balbcj_nonsig_anno_muts.txt',\n",
       "       './marge_mutational_burden/aj_vs_c57bl6j_de_peaks_fc_1_anno_muts.txt',\n",
       "       './marge_mutational_burden/aj_vs_c57bl6j_de_peaks_fc_2_anno_muts.txt',\n",
       "       './marge_mutational_burden/aj_vs_c57bl6j_de_peaks_fc_4_anno_muts.txt',\n",
       "       './marge_mutational_burden/aj_vs_c57bl6j_nonsig_anno_muts.txt',\n",
       "       './marge_mutational_burden/balbcj_vs_c57bl6j_de_peaks_fc_1_anno_muts.txt',\n",
       "       './marge_mutational_burden/balbcj_vs_c57bl6j_de_peaks_fc_2_anno_muts.txt',\n",
       "       './marge_mutational_burden/balbcj_vs_c57bl6j_de_peaks_fc_4_anno_muts.txt',\n",
       "       './marge_mutational_burden/balbcj_vs_c57bl6j_nonsig_anno_muts.txt'],\n",
       "      dtype='<U71')"
      ]
     },
     "execution_count": 13,
     "metadata": {},
     "output_type": "execute_result"
    }
   ],
   "source": [
    "np.sort(glob.glob('./marge_mutational_burden/*anno_muts.txt'))"
   ]
  },
  {
   "cell_type": "markdown",
   "metadata": {},
   "source": [
    "Read in total peaks with mutation logged (non-na peaks), and peaks without a mutation logged (na peaks)"
   ]
  },
  {
   "cell_type": "code",
   "execution_count": 14,
   "metadata": {},
   "outputs": [],
   "source": [
    "mut_frac_dict = {}\n",
    "for peakfile in np.sort(glob.glob('./marge_mutational_burden/*anno_muts.txt')):\n",
    "    mutfile = pd.read_csv(peakfile, index_col=0, sep='\\t')\n",
    "     #print(mutfile.iloc[:, -1].isna().value_counts())\n",
    "    nomut = mutfile.iloc[:, -1].isna().sum()\n",
    "    total_peaks = mutfile.iloc[:, -1].shape[0]\n",
    "    mut_frac_dict[peakfile.split('/')[-1]] = round((total_peaks-nomut)/(total_peaks),\n",
    "                                                   ndigits=3)"
   ]
  },
  {
   "cell_type": "code",
   "execution_count": 15,
   "metadata": {},
   "outputs": [
    {
     "data": {
      "text/plain": [
       "aj_vs_balbcj_de_peaks_fc_1_anno_muts.txt         0.263\n",
       "aj_vs_balbcj_de_peaks_fc_2_anno_muts.txt         0.307\n",
       "aj_vs_balbcj_de_peaks_fc_4_anno_muts.txt         0.356\n",
       "aj_vs_balbcj_nonsig_anno_muts.txt                0.176\n",
       "aj_vs_c57bl6j_de_peaks_fc_1_anno_muts.txt        0.552\n",
       "aj_vs_c57bl6j_de_peaks_fc_2_anno_muts.txt        0.641\n",
       "aj_vs_c57bl6j_de_peaks_fc_4_anno_muts.txt        0.654\n",
       "aj_vs_c57bl6j_nonsig_anno_muts.txt               0.166\n",
       "balbcj_vs_c57bl6j_de_peaks_fc_1_anno_muts.txt    0.491\n",
       "balbcj_vs_c57bl6j_de_peaks_fc_2_anno_muts.txt    0.593\n",
       "balbcj_vs_c57bl6j_de_peaks_fc_4_anno_muts.txt    0.641\n",
       "balbcj_vs_c57bl6j_nonsig_anno_muts.txt           0.148\n",
       "dtype: float64"
      ]
     },
     "execution_count": 15,
     "metadata": {},
     "output_type": "execute_result"
    }
   ],
   "source": [
    "pd.Series(mut_frac_dict)"
   ]
  },
  {
   "cell_type": "code",
   "execution_count": null,
   "metadata": {},
   "outputs": [],
   "source": []
  }
 ],
 "metadata": {
  "kernelspec": {
   "display_name": "dataviz",
   "language": "python",
   "name": "dataviz"
  },
  "language_info": {
   "codemirror_mode": {
    "name": "ipython",
    "version": 3
   },
   "file_extension": ".py",
   "mimetype": "text/x-python",
   "name": "python",
   "nbconvert_exporter": "python",
   "pygments_lexer": "ipython3",
   "version": "3.7.5"
  }
 },
 "nbformat": 4,
 "nbformat_minor": 2
}
