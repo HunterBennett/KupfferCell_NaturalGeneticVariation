{
 "cells": [
  {
   "cell_type": "markdown",
   "metadata": {},
   "source": [
    "Hunter Bennett | Glass Lab | Kupffer Strains Project | 14 March 2023\n",
    "\n",
    "Differential peak calling pipeline. Generates scatterplots describing pairwise peak comparisons and output file (via getDifferrentialExpression.pl) that is used to select peaks for motif analysis in future notebooks."
   ]
  },
  {
   "cell_type": "markdown",
   "metadata": {},
   "source": [
    "### Load packages, set plot parameters"
   ]
  },
  {
   "cell_type": "code",
   "execution_count": 1,
   "metadata": {},
   "outputs": [],
   "source": [
    "### header ###\n",
    "__author__ = \"Hunter Bennett\"\n",
    "__license__ = \"BSD\"\n",
    "__email__ = \"hunter.r.bennett@gmail.com\"\n",
    "%load_ext autoreload\n",
    "%autoreload 2\n",
    "### imports ###\n",
    "%matplotlib inline\n",
    "import os\n",
    "import glob\n",
    "import pandas as pd\n",
    "import numpy as np\n",
    "import matplotlib\n",
    "import matplotlib.pyplot as plt\n",
    "from matplotlib.lines import Line2D"
   ]
  },
  {
   "cell_type": "markdown",
   "metadata": {},
   "source": [
    "Set working directory"
   ]
  },
  {
   "cell_type": "code",
   "execution_count": 2,
   "metadata": {},
   "outputs": [],
   "source": [
    "workingDirectory = '/home/h1bennet/strains_github/results/Figure2_ATAC/' # user will need to set own wd\n",
    "if not os.path.isdir(workingDirectory):\n",
    "    os.mkdir(workingDirectory)\n",
    "os.chdir(workingDirectory)"
   ]
  },
  {
   "cell_type": "markdown",
   "metadata": {},
   "source": [
    "Define custom functions"
   ]
  },
  {
   "cell_type": "code",
   "execution_count": 3,
   "metadata": {},
   "outputs": [],
   "source": [
    "def read_annotated_peaks(path, filter_sex_unknown=True):\n",
    "    '''This function imports an annotated homer peak file using\n",
    "    pandas read_csv function. It also performes common preprocessing steps\n",
    "    such as placing the peak IDs in the index and filtering so that\n",
    "    only autosomal peaks are included. Also renames index to peakID.\n",
    "       \n",
    "       Accepts:\n",
    "           path (str): path to expression file\n",
    "           filter_sex_unkown (bool): filter unknown chromosomes\n",
    "           and sex chromosomes - focus analysis on autosomal chr.\n",
    "       \n",
    "       Returns:\n",
    "           df (pandas.Dataframe): genes by samples with annotation.\n",
    "           mat (pandas.DataFrame): genes by samples without annotation.\n",
    "       '''\n",
    "    # import functions\n",
    "    import pandas as pd\n",
    "\n",
    "    df = pd.read_csv(path, sep='\\t', index_col=0)\n",
    "\n",
    "    # rename index\n",
    "    df.index.rename('PeakID', inplace=True)\n",
    "    # rename sample columns so they are shorter (can add .str.split('/').str[-1] to shorten even more\n",
    "    df = df.rename(\n",
    "        columns=dict(zip(df.iloc[:, 18:].columns.values,\n",
    "                         pd.Series(df.iloc[:, 18:].columns.values).str.split(' Tag Count').str[0])))\n",
    "\n",
    "    \n",
    "    # filter unknown and sex chromosomes\n",
    "    autosomes = ['chr1', 'chr2', 'chr3', 'chr4',\n",
    "                 'chr5', 'chr6', 'chr7', 'chr8',\n",
    "                 'chr9', 'chr10', 'chr11', 'chr12',\n",
    "                 'chr13', 'chr14', 'chr15', 'chr16',\n",
    "                 'chr17', 'chr18', 'chr19']\n",
    "\n",
    "    df = df.loc[df.Chr.str.contains('|'.join(autosomes)), :]\n",
    "      \n",
    "    mat = df.iloc[:, 18:]\n",
    "        \n",
    "    return (df, mat)\n",
    "\n",
    "def import_homer_diffpeak(depath, appath):\n",
    "    '''This function takes in a getDiffExpression file created from raw tag counts\n",
    "       and a peak tag file created with annotatePeaks\n",
    "       and processes the files so that they contain the same set of genes and can be\n",
    "       used for data visualization and analysis\n",
    "       Accepts:\n",
    "           depath (str): path to getDiffExpression file\n",
    "           appath (str): path to annotatePeaks file\n",
    "       Returns:\n",
    "           de (pandas.DataFrame): modified getDiffExpression file\n",
    "           ge (pandas.DataFrame): modified annotatePeaks,\n",
    "           ge_mat (pandas.DataFrame): annotatePeaks file without annotation\n",
    "           ge_mat_quatn (pandas.DataFrame) : annotatePeaks file without annotation\n",
    "           and quantile normalized\n",
    "       '''\n",
    "    # import packages\n",
    "    import pandas as pd\n",
    "    import numpy as np\n",
    "\n",
    "    # set autosomes for filtering\n",
    "    autosomes = ['chr1', 'chr2', 'chr3', 'chr4',\n",
    "                 'chr5', 'chr6', 'chr7', 'chr8',\n",
    "                 'chr9', 'chr10', 'chr11', 'chr12',\n",
    "                 'chr13', 'chr14', 'chr15', 'chr16',\n",
    "                 'chr17', 'chr18', 'chr19']\n",
    "\n",
    "    # import differential gene expression\n",
    "    de = pd.read_csv(depath, sep='\\t', index_col=0)\n",
    "    de.index.rename('PeakID', inplace=True)\n",
    "    de = de.loc[de.Chr.str.contains('|'.join(autosomes)), :]\n",
    "\n",
    "\n",
    "    # import ge file\n",
    "    ap = pd.read_csv(appath, sep='\\t', index_col=0)\n",
    "    ap.index.rename('PeakID', inplace=True)\n",
    "\n",
    "    # select ge transcripts that are in diff_gene\n",
    "    print('annotatePeaks all peaks', ap.shape)\n",
    "    print('getDiffExpression selected transcripts', de.shape)\n",
    "    ap = ap.loc[de.index.tolist(), :]\n",
    "    print('annotatePeaks selected peaks', ap.shape)\n",
    "\n",
    "\n",
    "    # return files\n",
    "    return (de, ap, ap.iloc[:, 18:]) # also return count matrix without annotation\n",
    "\n",
    "def pull_comparisons_get_diff(diff_gene, seq_type='Repeat'):\n",
    "    '''This function pulls out comparisons from a diff gene file with multiple comparision groups\n",
    "    and returns a dict of pandas DataFrames with one comparison each.\n",
    "\n",
    "    Accepts:\n",
    "        diff_gene (pandas.DataFrame): diff gene file processed to have\n",
    "        genes as index and column of RefSeqIDs titled RepeatID\n",
    "        seq_type (str): Repeat|Peak type of annotation file. repeat for RNA\n",
    "        peak for ChIP/ATAC\n",
    "\n",
    "    Returns:\n",
    "    comp_dict (dict): dictionary of 1 pandas Data Frame per each comparison\n",
    "    ''' \n",
    "\n",
    "\n",
    "    # import packages\n",
    "    import pandas as pd\n",
    "    import re\n",
    "    \n",
    "    if seq_type=='Repeat':\n",
    "        # extract groups\n",
    "        def subset_get_diff(diff_gene, comp):\n",
    "            return diff_gene.loc[:, [seq_type+'ID',\n",
    "                                     comp + ' Log2 Fold Change',\n",
    "                                     comp + ' p-value',\n",
    "                                     comp + ' adj. p-value']]\n",
    "\n",
    "    if seq_type=='Peak':\n",
    "        # exract groups\n",
    "        def subset_get_diff(diff_gene, comp):\n",
    "             return diff_gene.loc[:, ['Chr', 'Start', 'End',\n",
    "                                      'Annotation',\n",
    "                                      'Gene Name',\n",
    "                                      'Distance to TSS',\n",
    "                                       comp + ' Log2 Fold Change',\n",
    "                                       comp + ' p-value',\n",
    "                                       comp + ' adj. p-value']]\n",
    "    \n",
    "    comp_dict = {}\n",
    "    pattern='(\\w* vs. \\w*).*'\n",
    "    for col in diff_gene.columns.values:\n",
    "        m = re.search(string=col, pattern=pattern)\n",
    "        if m:\n",
    "            df = subset_get_diff(diff_gene, m.group(1))\n",
    "            if seq_type=='Repeat':\n",
    "                df.columns = ['RepeatID', 'log2fc', 'pval', 'adj_pval']\n",
    "            if seq_type=='Peak':\n",
    "                df['location'] = df.Chr.astype(str)+':'+df.Start.astype(str)+'-'+df.End.astype(str)\n",
    "                df.columns = ['Chr', 'Start', 'End',\n",
    "                              'Annotation', 'gene', 'TSS_dist',\n",
    "                              'log2fc', 'pval', 'adj_pval', 'location']\n",
    "    \n",
    "            comp_dict[re.sub('G0[0-9]_', '', m.group(1))] = df\n",
    "    \n",
    "    return comp_dict"
   ]
  },
  {
   "cell_type": "code",
   "execution_count": 4,
   "metadata": {},
   "outputs": [],
   "source": [
    "#### PLOTTING PARAMETERS FOR MANUSCRIPT ####\n",
    "# # get matplotlib to save readable fonts\n",
    "matplotlib.rcParams['pdf.fonttype'] = 42\n",
    "matplotlib.rcParams['ps.fonttype'] = 42\n",
    "matplotlib.rcParams['font.size'] = 8\n",
    "matplotlib.rcParams['savefig.dpi'] = 500\n",
    "\n",
    "\n",
    "# line widths\n",
    "matplotlib.rcParams['axes.linewidth'] = 1\n",
    "matplotlib.rcParams['xtick.major.width'] = 1\n",
    "matplotlib.rcParams['ytick.major.width'] = 1\n",
    "\n",
    "# adjust defualt color for plots to black\n",
    "# normal default is a dark gray\n",
    "COLOR = 'black'\n",
    "matplotlib.rcParams['text.color'] = COLOR\n",
    "matplotlib.rcParams['axes.labelcolor'] = COLOR\n",
    "matplotlib.rcParams['xtick.color'] = COLOR\n",
    "matplotlib.rcParams['ytick.color'] = COLOR\n",
    "matplotlib.rcParams['axes.edgecolor'] = COLOR\n",
    "\n",
    "#### PLOT PARAMETERS FOR THIS PLOT ####"
   ]
  },
  {
   "cell_type": "markdown",
   "metadata": {},
   "source": [
    "### Read in raw peak tag count files"
   ]
  },
  {
   "cell_type": "code",
   "execution_count": 5,
   "metadata": {},
   "outputs": [],
   "source": [
    "# import annotation file\n",
    "df, mat = read_annotated_peaks('https://zenodo.org/record/7829622/files/idr_peaks_atac_raw.txt') # replace with Zenodo URL\n",
    "\n",
    "df.to_csv('./idr_peaks_atac_raw.txt', sep='\\t')"
   ]
  },
  {
   "cell_type": "markdown",
   "metadata": {},
   "source": [
    "### Calculate differential peaks with DESeq2"
   ]
  },
  {
   "cell_type": "markdown",
   "metadata": {},
   "source": [
    "Run the following in the command line (requires homer installation with DESeq2)\n",
    "\n",
    "    getDiffExpression.pl \\\n",
    "    ./idr_peaks_atac_raw.txt \\\n",
    "    aj aj aj aj \\\n",
    "    balbcj balbcj balbcj balbcj \\\n",
    "    c57bl6j c57bl6j c57bl6j c57bl6j \\\n",
    "    -AvsA -peaks > ./diff_output.txt"
   ]
  },
  {
   "cell_type": "markdown",
   "metadata": {},
   "source": [
    "### Plotting differrential peaks\n",
    "We will need to create a filtered normalized tag matrix for plotting differentially expressed genes"
   ]
  },
  {
   "cell_type": "markdown",
   "metadata": {},
   "source": [
    "Import differential peaks"
   ]
  },
  {
   "cell_type": "code",
   "execution_count": 6,
   "metadata": {
    "scrolled": true
   },
   "outputs": [
    {
     "name": "stdout",
     "output_type": "stream",
     "text": [
      "annotatePeaks all peaks (84264, 30)\n",
      "getDiffExpression selected transcripts (84264, 39)\n",
      "annotatePeaks selected peaks (84264, 30)\n"
     ]
    }
   ],
   "source": [
    "diff_peak, peaks, peak_mat = import_homer_diffpeak(\n",
    "    './diff_output.txt',\n",
    "    './idr_peaks_atac_norm.txt')\n",
    "\n",
    "# create dictionary of sub data-frames for each comparison\n",
    "comp_dict = pull_comparisons_get_diff(diff_peak, seq_type='Peak')"
   ]
  },
  {
   "cell_type": "markdown",
   "metadata": {},
   "source": [
    "Calculate average tags for each peak"
   ]
  },
  {
   "cell_type": "code",
   "execution_count": 7,
   "metadata": {},
   "outputs": [],
   "source": [
    "peak_mat['aj_avg'] = peak_mat.loc[:, peak_mat.columns.str.contains('aj')].mean(1)\n",
    "peak_mat['balbcj_avg'] = peak_mat.loc[:, peak_mat.columns.str.contains('balbcj')].mean(1)\n",
    "peak_mat['c57bl6j_avg'] = peak_mat.loc[:, peak_mat.columns.str.contains('c57bl6j')].mean(1)"
   ]
  },
  {
   "cell_type": "markdown",
   "metadata": {},
   "source": [
    "Set plot parameters"
   ]
  },
  {
   "cell_type": "code",
   "execution_count": 8,
   "metadata": {},
   "outputs": [],
   "source": [
    "comps = ['aj vs. balbcj',\n",
    "         'aj vs. c57bl6j',\n",
    "         'balbcj vs. c57bl6j']\n",
    "\n",
    "labels = [['A/J\\nlog2(tag counts + 1)',\n",
    "           'BALB/cJ\\nlog2(tag counts + 1)'],\n",
    "          ['A/J\\nlog2(tag counts + 1)',\n",
    "           'C57BL/6J\\nlog2(tag counts + 1)'],\n",
    "          ['BALB/cJ\\nlog2(tag counts + 1)',\n",
    "           'C57BL/6J\\nlog2(tag counts + 1)']]\n",
    "\n",
    "groups = [[peak_mat.columns.str.contains('AJ_Kupffer_Control'),\n",
    "           peak_mat.columns.str.contains('BALBcJ_Kupffer_Control')],\n",
    "         [peak_mat.columns.str.contains('AJ_Kupffer_Control'),\n",
    "          peak_mat.columns.str.contains('C57_Kupffer_Control')],\n",
    "         [peak_mat.columns.str.contains('BALBcJ_Kupffer_Control'),\n",
    "          peak_mat.columns.str.contains('C57_Kupffer_Control')]]\n",
    "\n",
    "cols = []\n",
    "for i in groups:\n",
    "    union = i[0] | i[1]\n",
    "    cols.append(union)\n",
    "\n",
    "# set plotting thresholds\n",
    "pthresh = 0.05\n",
    "lfcthresh = (1,2)\n",
    "dotsize = 3\n",
    "ax_max = 12\n",
    "n_yticks = 5\n",
    "ytickstep = 3\n",
    "\n",
    "colors = [['#969696', '#6baed6', '#fd8d3c'],\n",
    "          ['#969696', '#6baed6', '#fd8d3c'],\n",
    "          ['#969696', '#6baed6', '#fd8d3c']]\n",
    "    \n",
    "dotsize=0.5\n",
    "tag_thresh=2\n",
    "fontsize=8"
   ]
  },
  {
   "cell_type": "markdown",
   "metadata": {},
   "source": [
    "Plot with log2fc thresholds, nonspecific coloring for log2fc thresholds"
   ]
  },
  {
   "cell_type": "code",
   "execution_count": 9,
   "metadata": {},
   "outputs": [
    {
     "data": {
      "image/png": "[encoded data removed]",
      "text/plain": [
       "<Figure size 864x216 with 3 Axes>"
      ]
     },
     "metadata": {
      "needs_background": "light"
     },
     "output_type": "display_data"
    }
   ],
   "source": [
    "\n",
    "fig, axs = plt.subplots(1,3, figsize=(12,3))\n",
    "plt.subplots_adjust(wspace=0.5)\n",
    "\n",
    "i=0\n",
    "\n",
    "for key, col, group, labs, color, ax in zip(comps, cols, groups, labels, colors, axs.reshape(-1)):\n",
    "    \n",
    "    de = comp_dict[key]\n",
    "    de['logtpm'] = np.log2(peak_mat.loc[:, col].mean(1)+1)\n",
    "    de['log10p'] = -np.log10(de.adj_pval + 10**(-50))\n",
    "    de['g0_mean'] = np.log2(peak_mat.loc[:, group[0]].mean(1)+1)\n",
    "    de['g1_mean'] = np.log2(peak_mat.loc[:, group[1]].mean(1)+1)\n",
    "    de['unadj_log2fc'] = np.log2((peak_mat.loc[:, group[1]].mean(1)+1)/((peak_mat.loc[:, group[0]].mean(1))+1))\n",
    "    \n",
    "    # filter lowly genes\n",
    "    de = de.loc[(de.g0_mean > tag_thresh) | (de.g1_mean > tag_thresh)]\n",
    "       \n",
    "    # plot group by group scatter:\n",
    "    de_nonsig = de.reindex(de.index[(np.abs(de.unadj_log2fc <= lfcthresh[0]))])\n",
    "    de_sig_fc1 = de.reindex(de.index[(np.abs(de.unadj_log2fc) >= lfcthresh[0]) & (np.abs(de.unadj_log2fc) < lfcthresh[1])])\n",
    "    de_sig_fc2 = de.reindex(de.index[(np.abs(de.unadj_log2fc) >= lfcthresh[1])])\n",
    "    \n",
    "    for df, c, z in zip([de_nonsig, de_sig_fc1, de_sig_fc2],\n",
    "                     color,\n",
    "                     np.arange(len(color))[::-1]*-5): # set zorder, need to be ascending negative because axis line should be in front at 0\n",
    "        ax.scatter(\n",
    "            x=df.g0_mean,\n",
    "            y=df.g1_mean,\n",
    "            c=c,\n",
    "            s=dotsize,\n",
    "            zorder=z)\n",
    "        \n",
    "    # Hide the right and top spines\n",
    "    ax.spines['top'].set_visible(False)\n",
    "    ax.spines['right'].set_visible(False)\n",
    "    ax.spines['left'].set_linewidth(1)\n",
    "    ax.spines['bottom'].set_linewidth(1)\n",
    "    \n",
    "    # set axis labels\n",
    "    ax.set_xlabel(labs[0], fontsize=fontsize+2)\n",
    "    ax.set_ylabel(labs[1], fontsize=fontsize+2)\n",
    "    \n",
    "    #set max and min\n",
    "    ax.set_xlim([0,ax_max])\n",
    "    ax.set_ylim([0,ax_max])\n",
    "    \n",
    "\n",
    "    # set ticks\n",
    "    ax.tick_params(width=1, length=fontsize)\n",
    "    ax.set_xticks(np.arange(0,ax_max,ytickstep))\n",
    "    ax.set_xticklabels(np.arange(0,ax_max,ytickstep), fontsize=fontsize)\n",
    "    ax.set_yticks(np.arange(0,ax_max,ytickstep))\n",
    "    ax.set_yticklabels(np.arange(0,ax_max,ytickstep), fontsize=fontsize)\n",
    "    \n",
    "    # make legend\n",
    "    g1_legend_elements = [Line2D([0], [0], marker='o', color='w',\n",
    "                                 label='FC > %i: %i' % (lfcthresh[0], (de_sig_fc1.unadj_log2fc > 0).sum()),\n",
    "                                 markerfacecolor=color[1], markersize=5),\n",
    "                        Line2D([0], [0], marker='o', color='w',\n",
    "                                 label='FC > %i: %i' % (lfcthresh[1], (de_sig_fc2.unadj_log2fc > 0).sum()),\n",
    "                                 markerfacecolor=color[2], markersize=5)]\n",
    "    \n",
    "    g2_legend_elements = [Line2D([0], [0], marker='o', color='w',\n",
    "                                 label='FC > %i: %i' % (lfcthresh[0], (de_sig_fc1.unadj_log2fc < 0).sum()),\n",
    "                                 markerfacecolor=color[1], markersize=5),\n",
    "                        Line2D([0], [0], marker='o', color='w',\n",
    "                                 label='FC > %i: %i' % (lfcthresh[1], (de_sig_fc2.unadj_log2fc < 0).sum()),\n",
    "                                 markerfacecolor=color[2], markersize=5)]\n",
    "    \n",
    "    legend1 = axs[i].legend(handles=g1_legend_elements,\n",
    "                         fontsize=fontsize, loc='upper left',\n",
    "                         frameon=True, facecolor='white', framealpha=1, edgecolor='white')\n",
    "    \n",
    "    legend2 = axs[i].legend(handles=g2_legend_elements,\n",
    "                        fontsize=fontsize, loc='lower right',\n",
    "                        frameon=True, facecolor='white', framealpha=1, edgecolor='white')\n",
    "    \n",
    "    axs[i].add_artist(legend1)\n",
    "\n",
    "    i += 1"
   ]
  },
  {
   "cell_type": "code",
   "execution_count": null,
   "metadata": {},
   "outputs": [],
   "source": []
  }
 ],
 "metadata": {
  "kernelspec": {
   "display_name": "dataviz",
   "language": "python",
   "name": "dataviz"
  },
  "language_info": {
   "codemirror_mode": {
    "name": "ipython",
    "version": 3
   },
   "file_extension": ".py",
   "mimetype": "text/x-python",
   "name": "python",
   "nbconvert_exporter": "python",
   "pygments_lexer": "ipython3",
   "version": "3.7.5"
  }
 },
 "nbformat": 4,
 "nbformat_minor": 2
}
