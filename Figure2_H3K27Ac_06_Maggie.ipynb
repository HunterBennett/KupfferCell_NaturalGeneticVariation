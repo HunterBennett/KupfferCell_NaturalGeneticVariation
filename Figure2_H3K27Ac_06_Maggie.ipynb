{
 "cells": [
  {
   "cell_type": "markdown",
   "metadata": {},
   "source": [
    "Hunter Bennett | Glass Lab | Kupffer Strains Project | 14 March 2023\n",
    "\n",
    "Notebook for motif mutation analysis with MAGGIE"
   ]
  },
  {
   "cell_type": "markdown",
   "metadata": {},
   "source": [
    "### Load packages, set plot parameters"
   ]
  },
  {
   "cell_type": "code",
   "execution_count": 1,
   "metadata": {},
   "outputs": [],
   "source": [
    "### header ###\n",
    "__author__ = \"Hunter Bennett\"\n",
    "__license__ = \"BSD\"\n",
    "__email__ = \"hunter.r.bennett@gmail.com\"\n",
    "%load_ext autoreload\n",
    "%autoreload 2\n",
    "### imports ###\n",
    "%matplotlib inline\n",
    "import os\n",
    "import re\n",
    "import glob\n",
    "import pandas as pd\n",
    "import numpy as np"
   ]
  },
  {
   "cell_type": "markdown",
   "metadata": {},
   "source": [
    "Set working directory"
   ]
  },
  {
   "cell_type": "code",
   "execution_count": 2,
   "metadata": {},
   "outputs": [],
   "source": [
    "workingDirectory = '/home/h1bennet/strains_github/results/Figure2_H3K27Ac/' # user will need to set own wd\n",
    "if not os.path.isdir(workingDirectory):\n",
    "    os.mkdir(workingDirectory)\n",
    "os.chdir(workingDirectory)"
   ]
  },
  {
   "cell_type": "markdown",
   "metadata": {},
   "source": [
    "Define custom functions"
   ]
  },
  {
   "cell_type": "code",
   "execution_count": 3,
   "metadata": {},
   "outputs": [],
   "source": [
    "def import_homer_diffpeak(depath, appath):\n",
    "    '''This function takes in a getDiffExpression file created from raw tag counts\n",
    "       and a peak tag file created with annotatePeaks\n",
    "       and processes the files so that they contain the same set of genes and can be\n",
    "       used for data visualization and analysis\n",
    "       Accepts:\n",
    "           depath (str): path to getDiffExpression file\n",
    "           appath (str): path to annotatePeaks file\n",
    "       Returns:\n",
    "           de (pandas.DataFrame): modified getDiffExpression file\n",
    "           ge (pandas.DataFrame): modified annotatePeaks,\n",
    "           ge_mat (pandas.DataFrame): annotatePeaks file without annotation\n",
    "           ge_mat_quatn (pandas.DataFrame) : annotatePeaks file without annotation\n",
    "           and quantile normalized\n",
    "       '''\n",
    "    # import packages\n",
    "    import pandas as pd\n",
    "    import numpy as np\n",
    "\n",
    "    # set autosomes for filtering\n",
    "    autosomes = ['chr1', 'chr2', 'chr3', 'chr4',\n",
    "                 'chr5', 'chr6', 'chr7', 'chr8',\n",
    "                 'chr9', 'chr10', 'chr11', 'chr12',\n",
    "                 'chr13', 'chr14', 'chr15', 'chr16',\n",
    "                 'chr17', 'chr18', 'chr19']\n",
    "\n",
    "    # import differential gene expression\n",
    "    de = pd.read_csv(depath, sep='\\t', index_col=0)\n",
    "    de.index.rename('PeakID', inplace=True)\n",
    "    de = de.loc[de.Chr.str.contains('|'.join(autosomes)), :]\n",
    "\n",
    "\n",
    "    # import ge file\n",
    "    ap = pd.read_csv(appath, sep='\\t', index_col=0)\n",
    "    ap.index.rename('PeakID', inplace=True)\n",
    "\n",
    "    # select ge transcripts that are in diff_gene\n",
    "    print('annotatePeaks all peaks', ap.shape)\n",
    "    print('getDiffExpression selected transcripts', de.shape)\n",
    "    ap = ap.loc[de.index.tolist(), :]\n",
    "    print('annotatePeaks selected peaks', ap.shape)\n",
    "\n",
    "\n",
    "    # return files\n",
    "    return (de, ap, ap.iloc[:, 18:]) # also return count matrix without annotation\n",
    "\n",
    "def pull_comparisons_get_diff(diff_gene, seq_type='Repeat'):\n",
    "    '''This function pulls out comparisons from a diff gene file with multiple comparision groups\n",
    "    and returns a dict of pandas DataFrames with one comparison each.\n",
    "\n",
    "    Accepts:\n",
    "        diff_gene (pandas.DataFrame): diff gene file processed to have\n",
    "        genes as index and column of RefSeqIDs titled RepeatID\n",
    "        seq_type (str): Repeat|Peak type of annotation file. repeat for RNA\n",
    "        peak for ChIP/ATAC\n",
    "\n",
    "    Returns:\n",
    "    comp_dict (dict): dictionary of 1 pandas Data Frame per each comparison\n",
    "    ''' \n",
    "\n",
    "\n",
    "    # import packages\n",
    "    import pandas as pd\n",
    "    import re\n",
    "    \n",
    "    if seq_type=='Repeat':\n",
    "        # extract groups\n",
    "        def subset_get_diff(diff_gene, comp):\n",
    "            return diff_gene.loc[:, [seq_type+'ID',\n",
    "                                     comp + ' Log2 Fold Change',\n",
    "                                     comp + ' p-value',\n",
    "                                     comp + ' adj. p-value']]\n",
    "\n",
    "    if seq_type=='Peak':\n",
    "        # exract groups\n",
    "        def subset_get_diff(diff_gene, comp):\n",
    "             return diff_gene.loc[:, ['Chr', 'Start', 'End',\n",
    "                                      'Annotation',\n",
    "                                      'Gene Name',\n",
    "                                      'Distance to TSS',\n",
    "                                       comp + ' Log2 Fold Change',\n",
    "                                       comp + ' p-value',\n",
    "                                       comp + ' adj. p-value']]\n",
    "    \n",
    "    comp_dict = {}\n",
    "    pattern='(\\w* vs. \\w*).*'\n",
    "    for col in diff_gene.columns.values:\n",
    "        m = re.search(string=col, pattern=pattern)\n",
    "        if m:\n",
    "            df = subset_get_diff(diff_gene, m.group(1))\n",
    "            if seq_type=='Repeat':\n",
    "                df.columns = ['RepeatID', 'log2fc', 'pval', 'adj_pval']\n",
    "            if seq_type=='Peak':\n",
    "                df['location'] = df.Chr.astype(str)+':'+df.Start.astype(str)+'-'+df.End.astype(str)\n",
    "                df.columns = ['Chr', 'Start', 'End',\n",
    "                              'Annotation', 'gene', 'TSS_dist',\n",
    "                              'log2fc', 'pval', 'adj_pval', 'location']\n",
    "    \n",
    "            comp_dict[re.sub('G0[0-9]_', '', m.group(1))] = df\n",
    "    \n",
    "    return comp_dict"
   ]
  },
  {
   "cell_type": "markdown",
   "metadata": {},
   "source": [
    "###  Import differential peak analysis"
   ]
  },
  {
   "cell_type": "code",
   "execution_count": 4,
   "metadata": {},
   "outputs": [
    {
     "name": "stdout",
     "output_type": "stream",
     "text": [
      "annotatePeaks all peaks (84264, 27)\n",
      "getDiffExpression selected transcripts (84264, 36)\n",
      "annotatePeaks selected peaks (84264, 27)\n"
     ]
    }
   ],
   "source": [
    "diff_peak, peaks, peak_mat = import_homer_diffpeak(\n",
    "    './diff_output.txt',\n",
    "    './idr_peaks_h3k27ac_norm.txt')\n",
    "\n",
    "# create dictionary of sub data-frames for each comparison\n",
    "comp_dict = pull_comparisons_get_diff(diff_peak, seq_type='Peak')"
   ]
  },
  {
   "cell_type": "markdown",
   "metadata": {},
   "source": [
    "### Process for motif calling with MAGGIE"
   ]
  },
  {
   "cell_type": "markdown",
   "metadata": {},
   "source": [
    "#### Correct merge-peaks shifting of atac peak files\n",
    "Make atac peak file with 200bp peaks set on center of current peak (rounding down if fractional center)"
   ]
  },
  {
   "cell_type": "code",
   "execution_count": 5,
   "metadata": {},
   "outputs": [],
   "source": [
    "atac_peaks = pd.read_csv('./idr_peaks.txt', sep='\\t', index_col=0)\n",
    "\n",
    "atac_peaks.columns = atac_peaks.columns.str.capitalize()"
   ]
  },
  {
   "cell_type": "code",
   "execution_count": 6,
   "metadata": {},
   "outputs": [],
   "source": [
    "new_start = []\n",
    "new_end = []\n",
    "for index, row in atac_peaks.iterrows():\n",
    "    center = row.Start + int(np.floor((row.End - row.Start)/2))\n",
    "    new_start.append(center - 100)\n",
    "    new_end.append(center + 100)\n",
    "    \n",
    "atac_peaks_200bp = atac_peaks.iloc[:, :4].copy(deep=True)\n",
    "atac_peaks_200bp['Start'] = new_start\n",
    "atac_peaks_200bp['End'] = new_end\n",
    "atac_peaks_200bp.index.rename('PeakID', inplace=True)"
   ]
  },
  {
   "cell_type": "markdown",
   "metadata": {},
   "source": [
    "Next, select distal peak subset for distal motif calling. In this case we will use 3kb to differentiate between prozimal and distal enhancers"
   ]
  },
  {
   "cell_type": "code",
   "execution_count": 7,
   "metadata": {},
   "outputs": [
    {
     "name": "stdout",
     "output_type": "stream",
     "text": [
      "84264 peaks in differential peak file\n",
      "86301 peaks in ATAC-seq file\n",
      "\n",
      "56602 distal peaks in differential peak file\n",
      "56602 distal peaks in ATAC-seq file\n"
     ]
    }
   ],
   "source": [
    "diff_peak_distal = diff_peak.loc[np.abs(diff_peak.loc[:, 'Distance to TSS'])>3000, :]\n",
    "atac_peaks_200bp_distal = atac_peaks_200bp.reindex(diff_peak_distal.index).dropna(how='all')\n",
    "\n",
    "# print to check that this worked\n",
    "print(diff_peak.shape[0], 'peaks in differential peak file')\n",
    "print(atac_peaks_200bp.shape[0], 'peaks in ATAC-seq file')\n",
    "print()\n",
    "print(diff_peak_distal.shape[0], 'distal peaks in differential peak file')\n",
    "print(atac_peaks_200bp_distal.shape[0], 'distal peaks in ATAC-seq file')"
   ]
  },
  {
   "cell_type": "markdown",
   "metadata": {},
   "source": [
    "Here we just want to take peaks that are increased specifically in one strain when compared to another, but i would prefer to do this all in one go so that we can pool our power. Perhaps we can start by doing everything relevant to C57 - this would introduce duplicate peaks which could affect our overall power"
   ]
  },
  {
   "cell_type": "markdown",
   "metadata": {},
   "source": [
    "To do this part it helps to have some understanding of the diffpeak file that homer puts out... the columns at the end are \"group1 vs group2\" with p value and log2fold change. The log2fold change here looks like this:  \\\n",
    "\n",
    "$\\log2(\\frac{group2 tags}{group1 tags})$  \n",
    "\n",
    "So in this case things that are higher in group 1 will be negative and things that are higher in group 2 will be positive. Since C57 is group 1 in this case it all negative peaks will be up in C57"
   ]
  },
  {
   "cell_type": "code",
   "execution_count": 8,
   "metadata": {},
   "outputs": [],
   "source": [
    "if not os.path.isdir('./differential_peaks/'):\n",
    "    os.mkdir('./differential_peaks/')"
   ]
  },
  {
   "cell_type": "code",
   "execution_count": 9,
   "metadata": {},
   "outputs": [],
   "source": [
    "comps = ['aj vs. balbcj',\n",
    "         'aj vs. c57bl6j',\n",
    "         'balbcj vs. c57bl6j']\n",
    "\n",
    "# set cutoffs\n",
    "fc = 1\n",
    "pval = 0.05"
   ]
  },
  {
   "cell_type": "markdown",
   "metadata": {},
   "source": [
    "Select peak sets"
   ]
  },
  {
   "cell_type": "code",
   "execution_count": 10,
   "metadata": {
    "scrolled": true
   },
   "outputs": [
    {
     "name": "stdout",
     "output_type": "stream",
     "text": [
      " analysis\n",
      "815 peaks upregualted in aj relative to balbcj\n",
      "1260 peaks upregualted in balbcj relative to aj\n",
      "1620 peaks upregualted in aj relative to c57bl6j\n",
      "2246 peaks upregualted in c57bl6j relative to aj\n",
      "2474 peaks upregualted in balbcj relative to c57bl6j\n",
      "2397 peaks upregualted in c57bl6j relative to balbcj\n",
      "_distal analysis\n",
      "605 peaks upregualted in aj relative to balbcj\n",
      "991 peaks upregualted in balbcj relative to aj\n",
      "1275 peaks upregualted in aj relative to c57bl6j\n",
      "1751 peaks upregualted in c57bl6j relative to aj\n",
      "1965 peaks upregualted in balbcj relative to c57bl6j\n",
      "1823 peaks upregualted in c57bl6j relative to balbcj\n"
     ]
    }
   ],
   "source": [
    "for df, text in zip([diff_peak, diff_peak_distal], ['', '_distal']):\n",
    "    print(text, 'analysis')\n",
    "    for comp in comps:\n",
    "        # extract strains\n",
    "        s1 = comp.split(' vs. ')[0]\n",
    "        s2 = comp.split(' vs. ')[1]\n",
    "\n",
    "        # write group 2 activated\n",
    "        g1 = df.loc[(df.loc[:, comp+' adj. p-value'] <=pval) & (df.loc[:, comp+' Log2 Fold Change'] < -fc)].index.tolist()\n",
    "        print(len(g1), 'peaks upregualted in', s1, 'relative to', s2)\n",
    "        atac_peaks_200bp.loc[g1, :].to_csv('./differential_peaks/'+s1+'_spec_'+s2+'_200bp'+text+'.txt', sep='\\t')\n",
    "\n",
    "        g2 = df.loc[(df.loc[:, comp+' adj. p-value'] <=pval) & (df.loc[:, comp+' Log2 Fold Change'] > fc)].index.tolist()\n",
    "        print(len(g2), 'peaks upregualted in', s2, 'relative to', s1)\n",
    "        atac_peaks_200bp.loc[g2, :].to_csv('./differential_peaks/'+s2+'_spec_'+s1+'_200bp'+text+'.txt', sep='\\t')"
   ]
  },
  {
   "cell_type": "markdown",
   "metadata": {},
   "source": [
    "Extract sequences for maggie"
   ]
  },
  {
   "cell_type": "code",
   "execution_count": 11,
   "metadata": {},
   "outputs": [],
   "source": [
    "if not os.path.isdir('./differential_fasta/'):\n",
    "    os.mkdir('./differential_fasta/')"
   ]
  },
  {
   "cell_type": "markdown",
   "metadata": {
    "scrolled": true
   },
   "source": [
    "Run in terminal\n",
    "\n",
    "    ### c57 vs balb\n",
    "    /home/vlink/code/marge/bin/MMARGE.pl extract_sequences \\\n",
    "     -ind BALBCJ -file ./differential_peaks/balbcj_spec_c57bl6j_200bp.txt \\\n",
    "    -output ./differential_fasta/balbcj_spec_c57bl6j_ref_200bp.fa\n",
    "    /home/vlink/code/marge/bin/MMARGE.pl extract_sequences \\\n",
    "     -ind C57BL6J -file ./differential_peaks/balbcj_spec_c57bl6j_200bp.txt \\\n",
    "     -output ./differential_fasta/balbcj_spec_c57bl6j_mut_200bp.fa\n",
    "\n",
    "    /home/vlink/code/marge/bin/MMARGE.pl extract_sequences \\\n",
    "     -ind C57BL6J -file ./differential_peaks/c57bl6j_spec_balbcj_200bp.txt \\\n",
    "     -output ./differential_fasta/c57bl6j_spec_balbcj_ref_200bp.fa\n",
    "    /home/vlink/code/marge/bin/MMARGE.pl extract_sequences \\\n",
    "     -ind BALBCJ -file ./differential_peaks/c57bl6j_spec_balbcj_200bp.txt \\\n",
    "     -output ./differential_fasta/c57bl6j_spec_balbcj_mut_200bp.fa\n",
    "\n",
    "    # distal\n",
    "\n",
    "    /home/vlink/code/marge/bin/MMARGE.pl extract_sequences \\\n",
    "     -ind BALBCJ -file ./differential_peaks/balbcj_spec_c57bl6j_200bp_distal.txt \\\n",
    "     -output ./differential_fasta/balbcj_spec_c57bl6j_ref_200bp_distal.fa\n",
    "    /home/vlink/code/marge/bin/MMARGE.pl extract_sequences \\\n",
    "     -ind C57BL6J -file ./differential_peaks/balbcj_spec_c57bl6j_200bp_distal.txt \\\n",
    "     -output ./differential_fasta/balbcj_spec_c57bl6j_mut_200bp_distal.fa\n",
    "\n",
    "    /home/vlink/code/marge/bin/MMARGE.pl extract_sequences \\\n",
    "     -ind C57BL6J -file ./differential_peaks/c57bl6j_spec_balbcj_200bp_distal.txt \\\n",
    "     -output ./differential_fasta/c57bl6j_spec_balbcj_ref_200bp_distal.fa\n",
    "    /home/vlink/code/marge/bin/MMARGE.pl extract_sequences \\\n",
    "     -ind BALBCJ -file ./differential_peaks/c57bl6j_spec_balbcj_200bp_distal.txt \\\n",
    "     -output ./differential_fasta/c57bl6j_spec_balbcj_mut_200bp_distal.fa\n",
    "\n",
    "    ### balb vs aj\n",
    "\n",
    "    /home/vlink/code/marge/bin/MMARGE.pl extract_sequences \\\n",
    "     -ind BALBCJ -file ./differential_peaks/balbcj_spec_aj_200bp.txt \\\n",
    "     -output ./differential_fasta/balbcj_spec_aj_ref_200bp.fa\n",
    "    /home/vlink/code/marge/bin/MMARGE.pl extract_sequences \\\n",
    "     -ind AJ -file ./differential_peaks/balbcj_spec_aj_200bp.txt \\\n",
    "     -output ./differential_fasta/balbcj_spec_aj_mut_200bp.fa\n",
    "\n",
    "    /home/vlink/code/marge/bin/MMARGE.pl extract_sequences \\\n",
    "     -ind AJ -file ./differential_peaks/aj_spec_balbcj_200bp.txt \\\n",
    "     -output ./differential_fasta/aj_spec_balbcj_ref_200bp.fa\n",
    "    /home/vlink/code/marge/bin/MMARGE.pl extract_sequences \\\n",
    "     -ind BALBCJ -file ./differential_peaks/aj_spec_balbcj_200bp.txt \\\n",
    "     -output ./differential_fasta/aj_spec_balbcj_mut_200bp.fa\n",
    "\n",
    "    # distal\n",
    "\n",
    "    /home/vlink/code/marge/bin/MMARGE.pl extract_sequences \\\n",
    "     -ind BALBCJ -file ./differential_peaks/balbcj_spec_aj_200bp_distal.txt \\\n",
    "     -output ./differential_fasta/balbcj_spec_aj_ref_200bp_distal.fa\n",
    "    /home/vlink/code/marge/bin/MMARGE.pl extract_sequences \\\n",
    "     -ind AJ -file ./differential_peaks/balbcj_spec_aj_200bp_distal.txt \\\n",
    "     -output ./differential_fasta/balbcj_spec_aj_mut_200bp_distal.fa\n",
    "\n",
    "    /home/vlink/code/marge/bin/MMARGE.pl extract_sequences \\\n",
    "     -ind AJ -file ./differential_peaks/aj_spec_balbcj_200bp_distal.txt \\\n",
    "     -output ./differential_fasta/aj_spec_balbcj_ref_200bp_distal.fa\n",
    "    /home/vlink/code/marge/bin/MMARGE.pl extract_sequences \\\n",
    "     -ind BALBCJ -file ./differential_peaks/aj_spec_balbcj_200bp_distal.txt \\\n",
    "     -output ./differential_fasta/aj_spec_balbcj_mut_200bp_distal.fa\n",
    "\n",
    "    ### c57 vs aj\n",
    "\n",
    "    /home/vlink/code/marge/bin/MMARGE.pl extract_sequences \\\n",
    "     -ind C57BL6J -file ./differential_peaks/c57bl6j_spec_aj_200bp.txt \\\n",
    "     -output ./differential_fasta/c57bl6j_spec_aj_ref_200bp.fa\n",
    "    /home/vlink/code/marge/bin/MMARGE.pl extract_sequences \\\n",
    "     -ind AJ -file ./differential_peaks/c57bl6j_spec_aj_200bp.txt \\\n",
    "     -output ./differential_fasta/c57bl6j_spec_aj_mut_200bp.fa\n",
    "\n",
    "    /home/vlink/code/marge/bin/MMARGE.pl extract_sequences \\\n",
    "     -ind AJ -file ./differential_peaks/aj_spec_c57bl6j_200bp.txt \\\n",
    "     -output ./differential_fasta/aj_spec_c57bl6j_ref_200bp.fa\n",
    "    /home/vlink/code/marge/bin/MMARGE.pl extract_sequences \\\n",
    "     -ind C57BL6J -file ./differential_peaks/aj_spec_c57bl6j_200bp.txt \\\n",
    "     -output ./differential_fasta/aj_spec_c57bl6j_mut_200bp.fa\n",
    "\n",
    "    # distal\n",
    "\n",
    "    /home/vlink/code/marge/bin/MMARGE.pl extract_sequences \\\n",
    "     -ind C57BL6J -file ./differential_peaks/c57bl6j_spec_aj_200bp_distal.txt \\\n",
    "     -output ./differential_fasta/c57bl6j_spec_aj_ref_200bp_distal.fa\n",
    "    /home/vlink/code/marge/bin/MMARGE.pl extract_sequences \\\n",
    "     -ind AJ -file ./differential_peaks/c57bl6j_spec_aj_200bp_distal.txt \\\n",
    "     -output ./differential_fasta/c57bl6j_spec_aj_mut_200bp_distal.fa\n",
    "\n",
    "    /home/vlink/code/marge/bin/MMARGE.pl extract_sequences \\\n",
    "     -ind AJ -file ./differential_peaks/aj_spec_c57bl6j_200bp_distal.txt \\\n",
    "     -output ./differential_fasta/aj_spec_c57bl6j_ref_200bp_distal.fa\n",
    "    /home/vlink/code/marge/bin/MMARGE.pl extract_sequences \\\n",
    "     -ind C57BL6J -file ./differential_peaks/aj_spec_c57bl6j_200bp_distal.txt \\\n",
    "     -output ./differential_fasta/aj_spec_c57bl6j_mut_200bp_distal.fa\n"
   ]
  },
  {
   "cell_type": "markdown",
   "metadata": {},
   "source": [
    "# Run Maggie"
   ]
  },
  {
   "cell_type": "code",
   "execution_count": 12,
   "metadata": {},
   "outputs": [],
   "source": [
    "if not os.path.isdir('./maggie_output/'):\n",
    "    os.mkdir('./maggie_output/')"
   ]
  },
  {
   "cell_type": "markdown",
   "metadata": {},
   "source": [
    "Run in command line  \n",
    "\n",
    "All peaks\n",
    "\n",
    "    /home/h1bennet/anaconda3/envs/maggie/bin/python ~/maggie/bin/maggie_fasta_input.py \\\n",
    "    ./differential_fasta/balbcj_spec_c57bl6j_ref_200bp.fa,\\\n",
    "    ./differential_fasta/c57bl6j_spec_balbcj_ref_200bp.fa,\\\n",
    "    ./differential_fasta/aj_spec_c57bl6j_ref_200bp.fa,\\\n",
    "    ./differential_fasta/c57bl6j_spec_aj_ref_200bp.fa,\\\n",
    "    ./differential_fasta/balbcj_spec_aj_ref_200bp.fa,\\\n",
    "    ./differential_fasta/aj_spec_balbcj_ref_200bp.fa \\\n",
    "    ./differential_fasta/balbcj_spec_c57bl6j_mut_200bp.fa,\\\n",
    "    ./differential_fasta/c57bl6j_spec_balbcj_mut_200bp.fa,\\\n",
    "    ./differential_fasta/aj_spec_c57bl6j_mut_200bp.fa,\\\n",
    "    ./differential_fasta/c57bl6j_spec_aj_mut_200bp.fa,\\\n",
    "    ./differential_fasta/balbcj_spec_aj_mut_200bp.fa,\\\n",
    "    ./differential_fasta/aj_spec_balbcj_mut_200bp.fa \\\n",
    "    -o ./maggie_output/all_200bp/ \\\n",
    "    -p 8\n",
    "    \n",
    "Distal peaks\n",
    "\n",
    "    /home/h1bennet/anaconda3/envs/maggie/bin/python ~/maggie/bin/maggie_fasta_input.py \\\n",
    "    ./differential_fasta/balbcj_spec_c57bl6j_ref_200bp_distal.fa, \\\n",
    "        ./differential_fasta/c57bl6j_spec_balbcj_ref_200bp_distal.fa, \\\n",
    "        ./differential_fasta/aj_spec_c57bl6j_ref_200bp_distal.fa, \\\n",
    "        ./differential_fasta/c57bl6j_spec_aj_ref_200bp_distal.fa, \\\n",
    "        ./differential_fasta/balbcj_spec_aj_ref_200bp_distal.fa, \\\n",
    "        ./differential_fasta/aj_spec_balbcj_ref_200bp_distal.fa \\\n",
    "    ./differential_fasta/balbcj_spec_c57bl6j_mut_200bp_distal.fa, \\\n",
    "        ./differential_fasta/c57bl6j_spec_balbcj_mut_200bp_distal.fa, \\\n",
    "        ./differential_fasta/aj_spec_c57bl6j_mut_200bp_distal.fa, \\\n",
    "        ./differential_fasta/c57bl6j_spec_aj_mut_200bp_distal.fa, \\\n",
    "        ./differential_fasta/balbcj_spec_aj_mut_200bp_distal.fa, \\\n",
    "        ./differential_fasta/aj_spec_balbcj_mut_200bp_distal.fa \\\n",
    "    -o ./maggie_output/all_200bp_distal/ \\\n",
    "    -p 8"
   ]
  },
  {
   "cell_type": "markdown",
   "metadata": {},
   "source": [
    "Aggregate all maggie results into data frame"
   ]
  },
  {
   "cell_type": "code",
   "execution_count": null,
   "metadata": {},
   "outputs": [],
   "source": [
    "maggie_merged_pval_dict = {}\n",
    "for f in glob.glob('./maggie_output/*/maggie_output_merged.tsv'):\n",
    "    # read in signifance values using pandas\n",
    "    frame = pd.read_csv(f, sep='\\t', index_col=0)\n",
    "\n",
    "    # remove duplicates\n",
    "    # frame = frame[~frame.index.duplicated(keep='first')]\n",
    "    pval = frame.loc[:, 'Median p-val']\n",
    "\n",
    "    # extract name of sample\n",
    "    sample = f.split('/')[2]\n",
    "\n",
    "    # store in dict\n",
    "    maggie_merged_pval_dict[sample] = pval    \n",
    "    \n",
    "# create data frame\n",
    "maggie_merged_pval_frame = pd.DataFrame(maggie_merged_pval_dict)\n",
    "\n",
    "# sort by average p value\n",
    "maggie_merged_pval_frame = maggie_merged_pval_frame.reindex(maggie_merged_pval_frame.mean(axis=1).sort_values().index.tolist())\n",
    "\n",
    "maggie_merged_pval_frame.to_csv('./maggie_all_merged_log_github.txt', sep='\\t')"
   ]
  },
  {
   "cell_type": "code",
   "execution_count": null,
   "metadata": {},
   "outputs": [],
   "source": []
  }
 ],
 "metadata": {
  "kernelspec": {
   "display_name": "dataviz",
   "language": "python",
   "name": "dataviz"
  },
  "language_info": {
   "codemirror_mode": {
    "name": "ipython",
    "version": 3
   },
   "file_extension": ".py",
   "mimetype": "text/x-python",
   "name": "python",
   "nbconvert_exporter": "python",
   "pygments_lexer": "ipython3",
   "version": "3.7.5"
  }
 },
 "nbformat": 4,
 "nbformat_minor": 2
}
