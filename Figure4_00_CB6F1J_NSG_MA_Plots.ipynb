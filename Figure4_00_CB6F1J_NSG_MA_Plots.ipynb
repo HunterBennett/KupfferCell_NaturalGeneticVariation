{
 "cells": [
  {
   "cell_type": "markdown",
   "id": "regional-monroe",
   "metadata": {},
   "source": [
    "Hunter Bennett | Glass Lab | Kupffer Strains Project | 14 March 2023  \n",
    "\n",
    "Notebook for MA plot analysis of F1 hybrid RNA-seq data\n",
    "\n",
    "### Import packages, set plotting parameters"
   ]
  },
  {
   "cell_type": "code",
   "execution_count": 1,
   "id": "enabling-pharmacy",
   "metadata": {},
   "outputs": [],
   "source": [
    "### header ###\n",
    "__author__ = \"Hunter Bennett\"\n",
    "__license__ = \"BSD\"\n",
    "__email__ = \"hunter.r.bennett@gmail.com\"\n",
    "%load_ext autoreload\n",
    "%autoreload 2\n",
    "%matplotlib inline\n",
    "### imports ###\n",
    "import sys\n",
    "import os\n",
    "import re\n",
    "import glob\n",
    "import pandas as pd\n",
    "import numpy as np\n",
    "import matplotlib\n",
    "import matplotlib.pyplot as plt\n",
    "from matplotlib.patches import Patch"
   ]
  },
  {
   "cell_type": "markdown",
   "id": "rough-france",
   "metadata": {},
   "source": [
    "Set working directory"
   ]
  },
  {
   "cell_type": "code",
   "execution_count": 2,
   "id": "varied-period",
   "metadata": {},
   "outputs": [],
   "source": [
    "workingDirectory = '/home/h1bennet/strains_github/results/Figure4/'\n",
    "if not os.path.isdir(workingDirectory):\n",
    "    os.mkdir(workingDirectory)\n",
    "os.chdir(workingDirectory)"
   ]
  },
  {
   "cell_type": "code",
   "execution_count": 3,
   "id": "remarkable-blood",
   "metadata": {},
   "outputs": [],
   "source": [
    "#### PLOTTING PARAMETERS FOR MANUSCRIPT ####\n",
    "# # get matplotlib to save readable fonts\n",
    "matplotlib.rcParams['pdf.fonttype'] = 42\n",
    "matplotlib.rcParams['ps.fonttype'] = 42\n",
    "matplotlib.rcParams['font.size'] = 10\n",
    "matplotlib.rcParams['savefig.dpi'] = 500\n",
    "\n",
    "\n",
    "# line widths\n",
    "matplotlib.rcParams['axes.linewidth'] = 1\n",
    "matplotlib.rcParams['xtick.major.width'] = 1\n",
    "matplotlib.rcParams['ytick.major.width'] = 1\n",
    "\n",
    "# adjust defualt color for plots to black\n",
    "# normal default is a dark gray\n",
    "COLOR = 'black'\n",
    "matplotlib.rcParams['text.color'] = COLOR\n",
    "matplotlib.rcParams['axes.labelcolor'] = COLOR\n",
    "matplotlib.rcParams['xtick.color'] = COLOR\n",
    "matplotlib.rcParams['ytick.color'] = COLOR\n",
    "matplotlib.rcParams['axes.edgecolor'] = COLOR\n",
    "\n",
    "#### PLOT PARAMETERS FOR THIS PLOT ####"
   ]
  },
  {
   "cell_type": "markdown",
   "id": "gentle-sarah",
   "metadata": {},
   "source": [
    "Download deseq2 output files for figure 4"
   ]
  },
  {
   "cell_type": "code",
   "execution_count": 4,
   "id": "executive-electricity",
   "metadata": {},
   "outputs": [],
   "source": [
    "# replace with zenodo link\n",
    "files = ['https://zenodo.org/record/7829622/files/balbcj_control.vs.c57bl6j_control.deseq.txt',\n",
    "         'https://zenodo.org/record/7829622/files/balbcj_NSG.vs.c57bl6j_NSG.deseq.txt',\n",
    "         'https://zenodo.org/record/7829622/files/balbcj_variants.vs.c57bl6j_variants.deseq.txt',\n",
    "         'https://zenodo.org/record/7829622/files/balbcj_f1nsg_variants.vs.c57bl6j_f1nsg_variants.deseq.txt',\n",
    "         'https://zenodo.org/record/7829622/files/c57bl6j_control.vs.balbcj_control.deseq.txt',\n",
    "         'https://zenodo.org/record/7829622/files/c57bl6j_NSG.vs.balbcj_NSG.deseq.txt',\n",
    "         'https://zenodo.org/record/7829622/files/c57bl6j_variants.vs.balbcj_variants.deseq.txt',\n",
    "         'https://zenodo.org/record/7829622/files/c57bl6j_f1nsg_variants.vs.balbcj_f1nsg_variants.deseq.txt']\n",
    "\n",
    "for f in files:\n",
    "    df = pd.read_csv(f, sep='\\t', index_col=0)\n",
    "    df.to_csv('./'+f.split('/')[-1], sep='\\t')"
   ]
  },
  {
   "cell_type": "markdown",
   "id": "rational-scoop",
   "metadata": {},
   "source": [
    "Read in differential expression files for each analysis"
   ]
  },
  {
   "cell_type": "code",
   "execution_count": 5,
   "id": "ignored-sixth",
   "metadata": {},
   "outputs": [],
   "source": [
    "# set cutoffs for differential genes\n",
    "log2fc = 1\n",
    "pval = 0.05\n",
    "gene_list_dict ={}"
   ]
  },
  {
   "cell_type": "markdown",
   "id": "common-beginning",
   "metadata": {},
   "source": [
    "Create dictionary of differential genes"
   ]
  },
  {
   "cell_type": "code",
   "execution_count": 6,
   "id": "severe-romantic",
   "metadata": {},
   "outputs": [],
   "source": [
    "comps = np.concatenate(\n",
    "    [np.sort(glob.glob('./*variants*variants*deseq.txt')),\n",
    "     np.sort(glob.glob('./*NSG*NSG*deseq.txt'))])"
   ]
  },
  {
   "cell_type": "code",
   "execution_count": 7,
   "id": "photographic-haiti",
   "metadata": {},
   "outputs": [
    {
     "data": {
      "text/plain": [
       "array(['./balbcj_f1nsg_variants.vs.c57bl6j_f1nsg_variants.deseq.txt',\n",
       "       './balbcj_variants.vs.c57bl6j_variants.deseq.txt',\n",
       "       './c57bl6j_f1nsg_variants.vs.balbcj_f1nsg_variants.deseq.txt',\n",
       "       './c57bl6j_variants.vs.balbcj_variants.deseq.txt',\n",
       "       './balbcj_NSG.vs.c57bl6j_NSG.deseq.txt',\n",
       "       './c57bl6j_NSG.vs.balbcj_NSG.deseq.txt'], dtype='<U59')"
      ]
     },
     "execution_count": 7,
     "metadata": {},
     "output_type": "execute_result"
    }
   ],
   "source": [
    "comps"
   ]
  },
  {
   "cell_type": "code",
   "execution_count": 8,
   "id": "atmospheric-dominican",
   "metadata": {},
   "outputs": [
    {
     "name": "stdout",
     "output_type": "stream",
     "text": [
      "./balbcj_NSG.vs.c57bl6j_NSG.deseq.txt\n",
      "./balbcj_f1nsg_variants.vs.c57bl6j_f1nsg_variants.deseq.txt\n",
      "./balbcj_variants.vs.c57bl6j_variants.deseq.txt\n",
      "./c57bl6j_NSG.vs.balbcj_NSG.deseq.txt\n",
      "./c57bl6j_f1nsg_variants.vs.balbcj_f1nsg_variants.deseq.txt\n",
      "./c57bl6j_variants.vs.balbcj_variants.deseq.txt\n"
     ]
    }
   ],
   "source": [
    "for i in np.sort(comps):\n",
    "    print(i)\n",
    "    # read in gene expression data\n",
    "    df = pd.read_csv(i,\n",
    "                     sep='\\t',\n",
    "                     index_col=0)\n",
    "    sig_genes = df.index[(df['padj'] < pval) & (df['log2FoldChange'] >= log2fc)].to_list()\n",
    "    gene_list_dict[i.split('.')[3]+'_up'] = list(sig_genes)\n",
    "    \n",
    "    # save"
   ]
  },
  {
   "cell_type": "markdown",
   "id": "confirmed-legend",
   "metadata": {},
   "source": [
    "# Plot all at once..."
   ]
  },
  {
   "cell_type": "code",
   "execution_count": 9,
   "id": "sorted-plenty",
   "metadata": {},
   "outputs": [
    {
     "data": {
      "text/plain": [
       "Text(0.5,1,'F1')"
      ]
     },
     "execution_count": 9,
     "metadata": {},
     "output_type": "execute_result"
    },
    {
     "data": {
      "image/png": "[encoded data removed]",
      "text/plain": [
       "<Figure size 648x144 with 3 Axes>"
      ]
     },
     "metadata": {
      "needs_background": "light"
     },
     "output_type": "display_data"
    }
   ],
   "source": [
    "#### NSG ####\n",
    "df = pd.read_csv('./balbcj_NSG.vs.c57bl6j_NSG.deseq.txt',\n",
    "                 sep='\\t', index_col=0)\n",
    "\n",
    "fig, axs = plt.subplots(1, 3, figsize=(9,2),sharey=True, sharex=True)\n",
    "# make general plot of data\n",
    "axs[0].scatter(np.log2(df.baseMean+1),\n",
    "               df.log2FoldChange,\n",
    "               s=1, rasterized=True, c='#bdbdbd', zorder=0)\n",
    "# plot differential genes in each direction...\n",
    "axs[0].scatter(np.log2(df.loc[gene_list_dict['c57bl6j_NSG_up'], 'baseMean']+1),\n",
    "               df.loc[gene_list_dict['c57bl6j_NSG_up'], 'log2FoldChange'],\n",
    "               s=1, rasterized=True, c='#31a354', zorder=1)\n",
    "\n",
    "axs[0].scatter(np.log2(df.loc[gene_list_dict['balbcj_NSG_up'], 'baseMean']+1),\n",
    "               df.loc[gene_list_dict['balbcj_NSG_up'], 'log2FoldChange'],\n",
    "               s=1, rasterized=True, c='#3182bd',zorder=1)\n",
    "# change plot parameters a bit\n",
    "axs[0].set_ylim([-8, 8])\n",
    "axs[0].spines['right'].set_visible(False)\n",
    "axs[0].spines['top'].set_visible(False)\n",
    "axs[0].text(2.5, 7, 'C57BL/6J: %i' % len(gene_list_dict['c57bl6j_NSG_up']))\n",
    "axs[0].text(2.5, -7, 'BALB/cJ: %i' % len(gene_list_dict['balbcj_NSG_up']))\n",
    "axs[0].set_xlabel('Log2(Mean TPM + 1)')\n",
    "axs[0].set_ylabel('Log2(Fold Change)')\n",
    "axs[0].set_title('F0-NSG')\n",
    "\n",
    "\n",
    "#### F1-NSG ####\n",
    "df = pd.read_csv('./balbcj_f1nsg_variants.vs.c57bl6j_f1nsg_variants.deseq.txt',\n",
    "                 sep='\\t', index_col=0)\n",
    "\n",
    "# make general plot of data\n",
    "axs[1].scatter(np.log2(df.baseMean+1),\n",
    "               df.log2FoldChange,\n",
    "               s=1, rasterized=True, c='#bdbdbd', zorder=0)\n",
    "# plot differential genes in each direction...\n",
    "axs[1].scatter(np.log2(df.loc[gene_list_dict['c57bl6j_f1nsg_variants_up'], 'baseMean']+1),\n",
    "               df.loc[gene_list_dict['c57bl6j_f1nsg_variants_up'], 'log2FoldChange'],\n",
    "               s=1, rasterized=True, c='#31a354', zorder=1)\n",
    "\n",
    "axs[1].scatter(np.log2(df.loc[gene_list_dict['balbcj_f1nsg_variants_up'], 'baseMean']+1),\n",
    "               df.loc[gene_list_dict['balbcj_f1nsg_variants_up'], 'log2FoldChange'],\n",
    "               s=1, rasterized=True, c='#3182bd',zorder=1)\n",
    "# change plot parameters a bit\n",
    "\n",
    "axs[1].set_ylim([-8, 8])\n",
    "axs[1].spines['right'].set_visible(False)\n",
    "axs[1].spines['top'].set_visible(False)\n",
    "axs[1].text(2.5, 7, 'C57BL/6J: %i' % len(gene_list_dict['c57bl6j_f1nsg_variants_up']))\n",
    "axs[1].text(2.5, -7, 'BALB/cJ: %i' % len(gene_list_dict['balbcj_f1nsg_variants_up']))\n",
    "axs[1].set_xlabel('Log2(Mean TPM + 1)')\n",
    "axs[1].set_ylabel('Log2(Fold Change)')\n",
    "axs[1].set_title('F1-NSG')\n",
    "\n",
    "\n",
    "#### F1 ####\n",
    "df = pd.read_csv('./balbcj_variants.vs.c57bl6j_variants.deseq.txt',\n",
    "                 sep='\\t', index_col=0)\n",
    "\n",
    "# make general plot of data\n",
    "axs[2].scatter(np.log2(df.baseMean+1),\n",
    "               df.log2FoldChange,\n",
    "               s=1, rasterized=True, c='#bdbdbd', zorder=0)\n",
    "# plot differential genes in each direction...\n",
    "axs[2].scatter(np.log2(df.loc[gene_list_dict['c57bl6j_variants_up'], 'baseMean']+1),\n",
    "               df.loc[gene_list_dict['c57bl6j_variants_up'], 'log2FoldChange'],\n",
    "               s=1, rasterized=True, c='#31a354', zorder=1)\n",
    "\n",
    "axs[2].scatter(np.log2(df.loc[gene_list_dict['balbcj_variants_up'], 'baseMean']+1),\n",
    "               df.loc[gene_list_dict['balbcj_variants_up'], 'log2FoldChange'],\n",
    "               s=1, rasterized=True, c='#3182bd',zorder=1)\n",
    "# change plot parameters a bit\n",
    "\n",
    "axs[2].set_ylim([-8, 8])\n",
    "axs[2].spines['right'].set_visible(False)\n",
    "axs[2].spines['top'].set_visible(False)\n",
    "axs[2].text(2.5, 7, 'C57BL/6J: %i' % len(gene_list_dict['c57bl6j_variants_up']))\n",
    "axs[2].text(2.5, -7, 'BALB/cJ: %i' % len(gene_list_dict['balbcj_variants_up']))\n",
    "axs[2].set_xlabel('Log2(Mean TPM + 1)')\n",
    "axs[2].set_ylabel('Log2(Fold Change)')\n",
    "axs[2].set_title('F1')"
   ]
  },
  {
   "cell_type": "markdown",
   "id": "ordinary-mercy",
   "metadata": {},
   "source": [
    "### MA plots with particular genes annotated"
   ]
  },
  {
   "cell_type": "code",
   "execution_count": 10,
   "id": "suitable-yemen",
   "metadata": {},
   "outputs": [],
   "source": [
    "genes_long = ['Fos', 'Fosb', 'Fosl1', 'Fosl2', 'Jun', 'Junb', 'Jund',\n",
    "       'Atf1', 'Atf2', 'Atf3', 'Atf4', 'Batf', 'Batf3', 'Maf', 'Mafb',\n",
    "       'Mitf', 'Tfe3', 'Tfeb', 'Tfec',\n",
    "       'Nfkb1','Nfkb2','Rel','Rela', 'Relb', \n",
    "       'Runx1', 'Runx2', 'Runx3',\n",
    "       'Irf1', 'Irf2', 'Irf3', 'Irf4', 'Irf5', 'Irf6', 'Irf7', 'Irf8', 'Irf9',\n",
    "       'Nr1h2', 'Nr1h3'\n",
    "]"
   ]
  },
  {
   "cell_type": "code",
   "execution_count": 11,
   "id": "posted-significance",
   "metadata": {},
   "outputs": [
    {
     "data": {
      "text/plain": [
       "Text(0.5,1,'F1')"
      ]
     },
     "execution_count": 11,
     "metadata": {},
     "output_type": "execute_result"
    },
    {
     "data": {
      "image/png": "[encoded data removed]",
      "text/plain": [
       "<Figure size 648x144 with 3 Axes>"
      ]
     },
     "metadata": {
      "needs_background": "light"
     },
     "output_type": "display_data"
    }
   ],
   "source": [
    "fig, axs = plt.subplots(1, 3, figsize=(9,2),sharey=True)\n",
    "#### F0-NSG ####\n",
    "df = pd.read_csv('./balbcj_NSG.vs.c57bl6j_NSG.deseq.txt',\n",
    "                 sep='\\t', index_col=0)\n",
    "\n",
    "df_target_genes = df.reindex(genes_long).dropna()\n",
    "\n",
    "# make general plot of data\n",
    "axs[0].scatter(np.log2(df.baseMean+1),\n",
    "               df.log2FoldChange,\n",
    "               s=1, c='#bdbdbd', zorder=0,\n",
    "               rasterized=True)\n",
    "\n",
    "\n",
    "# plot TFs of interest\n",
    "# red dot\n",
    "axs[0].scatter(np.log2(df_target_genes.baseMean+1),\n",
    "               df_target_genes.log2FoldChange,\n",
    "               s=1, c='red', zorder=0,\n",
    "               rasterized=True)\n",
    "\n",
    "# change plot parameters a bit\n",
    "axs[0].set_ylim([-8, 8])\n",
    "axs[0].spines['right'].set_visible(False)\n",
    "axs[0].spines['top'].set_visible(False)\n",
    "axs[0].set_xlabel('Log2(Mean TPM + 1)')\n",
    "axs[0].set_ylabel('Log2(Fold Change)')\n",
    "axs[0].set_title('F0-NSG')\n",
    "\n",
    "\n",
    "#### F1-NSG ####\n",
    "df = pd.read_csv('./balbcj_f1nsg_variants.vs.c57bl6j_f1nsg_variants.deseq.txt',\n",
    "                 sep='\\t', index_col=0)\n",
    "\n",
    "df_target_genes = df.reindex(genes_long).dropna()\n",
    "\n",
    "# make general plot of data\n",
    "axs[1].scatter(np.log2(df.baseMean+1),\n",
    "               df.log2FoldChange,\n",
    "               s=1, c='#bdbdbd', zorder=0,\n",
    "               rasterized=True)\n",
    "\n",
    "# plot TFs of interest\n",
    "# red dot\n",
    "axs[1].scatter(np.log2(df_target_genes.baseMean+1),\n",
    "               df_target_genes.log2FoldChange,\n",
    "               s=1, c='red', zorder=0,\n",
    "               rasterized=True)\n",
    "\n",
    "# change plot parameters a bit\n",
    "axs[1].set_ylim([-8, 8])\n",
    "axs[1].spines['right'].set_visible(False)\n",
    "axs[1].spines['top'].set_visible(False)\n",
    "axs[1].set_xlabel('Log2(Mean TPM + 1)')\n",
    "axs[1].set_ylabel('Log2(Fold Change)')\n",
    "axs[1].set_title('F1-NSG')\n",
    "\n",
    "#### F1 ####\n",
    "df = pd.read_csv('./balbcj_variants.vs.c57bl6j_variants.deseq.txt',\n",
    "                 sep='\\t', index_col=0)\n",
    "\n",
    "df_target_genes = df.reindex(genes_long).dropna()\n",
    "\n",
    "# make general plot of data\n",
    "axs[2].scatter(np.log2(df.baseMean+1),\n",
    "               df.log2FoldChange,\n",
    "               s=1, c='#bdbdbd', zorder=0,\n",
    "               rasterized=True)\n",
    "\n",
    "# plot TFs of interest\n",
    "# red dot\n",
    "axs[2].scatter(np.log2(df_target_genes.baseMean+1),\n",
    "               df_target_genes.log2FoldChange,\n",
    "               s=1, c='red', zorder=0,\n",
    "               rasterized=True)\n",
    "\n",
    "# change plot parameters a bit\n",
    "axs[2].set_ylim([-8, 8])\n",
    "axs[2].spines['right'].set_visible(False)\n",
    "axs[2].spines['top'].set_visible(False)\n",
    "axs[2].set_xlabel('Log2(Mean TPM + 1)')\n",
    "axs[2].set_ylabel('Log2(Fold Change)')\n",
    "axs[2].set_title('F1')\n"
   ]
  },
  {
   "cell_type": "code",
   "execution_count": 12,
   "id": "tested-advocate",
   "metadata": {},
   "outputs": [
    {
     "data": {
      "text/plain": [
       "Text(0.5,1,'F1')"
      ]
     },
     "execution_count": 12,
     "metadata": {},
     "output_type": "execute_result"
    },
    {
     "data": {
      "image/png": "[encoded data removed]",
      "text/plain": [
       "<Figure size 648x144 with 3 Axes>"
      ]
     },
     "metadata": {
      "needs_background": "light"
     },
     "output_type": "display_data"
    }
   ],
   "source": [
    "fig, axs = plt.subplots(1, 3, figsize=(9,2),sharey=True)\n",
    "\n",
    "#### NSG ####\n",
    "\n",
    "df = pd.read_csv('./balbcj_NSG.vs.c57bl6j_NSG.deseq.txt',\n",
    "                 sep='\\t', index_col=0)\n",
    "\n",
    "df_target_genes = df.reindex(genes_long).dropna()\n",
    "\n",
    "# make general plot of data\n",
    "axs[0].scatter(np.log2(df.baseMean+1),\n",
    "               df.log2FoldChange,\n",
    "               s=1, c='#bdbdbd', zorder=0,\n",
    "               rasterized=True)\n",
    "\n",
    "\n",
    "# plot TFs of interest\n",
    "# red dot\n",
    "axs[0].scatter(np.log2(df_target_genes.baseMean+1),\n",
    "               df_target_genes.log2FoldChange,\n",
    "               s=1, c='red', zorder=0,\n",
    "               rasterized=True)\n",
    "\n",
    "# label\n",
    "for i, row in df_target_genes.iterrows():\n",
    "    axs[0].text(np.log2(row.baseMean+1),\n",
    "                   row.log2FoldChange,\n",
    "                   i)\n",
    "    \n",
    "# change plot parameters a bit\n",
    "axs[0].set_ylim([-1, 1])\n",
    "axs[0].spines['right'].set_visible(False)\n",
    "axs[0].spines['top'].set_visible(False)\n",
    "axs[0].set_xlabel('Log2(Mean TPM + 1)')\n",
    "axs[0].set_ylabel('Log2(Fold Change)')\n",
    "axs[0].set_title('F0-NSG')\n",
    "\n",
    "\n",
    "#### F1-NSG ####\n",
    "df = pd.read_csv('./balbcj_f1nsg_variants.vs.c57bl6j_f1nsg_variants.deseq.txt',\n",
    "                 sep='\\t', index_col=0)\n",
    "\n",
    "df_target_genes = df.reindex(genes_long).dropna()\n",
    "\n",
    "# make general plot of data\n",
    "axs[1].scatter(np.log2(df.baseMean+1),\n",
    "               df.log2FoldChange,\n",
    "               s=1, c='#bdbdbd', zorder=0,\n",
    "               rasterized=True)\n",
    "\n",
    "# plot TFs of interest\n",
    "# red dot\n",
    "axs[1].scatter(np.log2(df_target_genes.baseMean+1),\n",
    "               df_target_genes.log2FoldChange,\n",
    "               s=1, c='red', zorder=0,\n",
    "               rasterized=True)\n",
    "\n",
    "# label\n",
    "for i, row in df_target_genes.iterrows():\n",
    "    axs[1].text(np.log2(row.baseMean+1),\n",
    "                   row.log2FoldChange,\n",
    "                   i)\n",
    "\n",
    "# change plot parameters a bit\n",
    "axs[1].set_ylim([-8, 8])\n",
    "axs[1].spines['right'].set_visible(False)\n",
    "axs[1].spines['top'].set_visible(False)\n",
    "axs[1].set_xlabel('Log2(Mean TPM + 1)')\n",
    "axs[1].set_ylabel('Log2(Fold Change)')\n",
    "axs[1].set_title('F1-NSG')\n",
    "\n",
    "\n",
    "#### F1 ####\n",
    "df = pd.read_csv('./balbcj_variants.vs.c57bl6j_variants.deseq.txt',\n",
    "                 sep='\\t', index_col=0)\n",
    "\n",
    "df_target_genes = df.reindex(genes_long).dropna()\n",
    "\n",
    "# make general plot of data\n",
    "axs[2].scatter(np.log2(df.baseMean+1),\n",
    "               df.log2FoldChange,\n",
    "               s=1, c='#bdbdbd', zorder=0,\n",
    "               rasterized=True)\n",
    "\n",
    "# plot TFs of interest\n",
    "# red dot\n",
    "axs[2].scatter(np.log2(df_target_genes.baseMean+1),\n",
    "               df_target_genes.log2FoldChange,\n",
    "               s=1, c='red', zorder=0,\n",
    "               rasterized=True)\n",
    "\n",
    "# label\n",
    "for i, row in df_target_genes.iterrows():\n",
    "    axs[2].text(np.log2(row.baseMean+1),\n",
    "                   row.log2FoldChange,\n",
    "                   i)\n",
    "\n",
    "# change plot parameters a bit\n",
    "axs[2].set_ylim([-8, 8])\n",
    "axs[2].spines['right'].set_visible(False)\n",
    "axs[2].spines['top'].set_visible(False)\n",
    "axs[2].set_xlabel('Log2(Mean TPM + 1)')\n",
    "axs[2].set_ylabel('Log2(Fold Change)')\n",
    "axs[2].set_title('F1')"
   ]
  }
 ],
 "metadata": {
  "kernelspec": {
   "display_name": "dataviz",
   "language": "python",
   "name": "dataviz"
  },
  "language_info": {
   "codemirror_mode": {
    "name": "ipython",
    "version": 3
   },
   "file_extension": ".py",
   "mimetype": "text/x-python",
   "name": "python",
   "nbconvert_exporter": "python",
   "pygments_lexer": "ipython3",
   "version": "3.7.5"
  }
 },
 "nbformat": 4,
 "nbformat_minor": 5
}
