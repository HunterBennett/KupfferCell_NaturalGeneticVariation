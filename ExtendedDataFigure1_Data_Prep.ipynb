{
 "cells": [
  {
   "cell_type": "markdown",
   "id": "passive-aberdeen",
   "metadata": {},
   "source": [
    "Hunter Bennett | Glass Lab | Kupffer Strains Project | 11 April 2023\n",
    "\n",
    "Script to download and prepare data for analysis with R scripts"
   ]
  },
  {
   "cell_type": "code",
   "execution_count": 1,
   "id": "existing-input",
   "metadata": {},
   "outputs": [],
   "source": [
    "### header ###\n",
    "__author__ = \"Hunter Bennett\"\n",
    "__license__ = \"BSD\"\n",
    "__email__ = \"hunter.r.bennett@gmail.com\"\n",
    "import os\n",
    "import pandas as pd"
   ]
  },
  {
   "cell_type": "markdown",
   "id": "communist-medicare",
   "metadata": {},
   "source": [
    "Set working directory"
   ]
  },
  {
   "cell_type": "code",
   "execution_count": 2,
   "id": "acute-avatar",
   "metadata": {},
   "outputs": [],
   "source": [
    "workingDirectory = '/home/h1bennet/strains_github/results/ExtendedData_Figure1/'\n",
    "if not os.path.isdir(workingDirectory):\n",
    "    os.mkdir(workingDirectory)\n",
    "os.chdir(workingDirectory)"
   ]
  },
  {
   "cell_type": "markdown",
   "id": "adapted-target",
   "metadata": {},
   "source": [
    "Download and save files"
   ]
  },
  {
   "cell_type": "code",
   "execution_count": 3,
   "id": "sexual-garbage",
   "metadata": {},
   "outputs": [],
   "source": [
    "files = ['https://zenodo.org/record/7829622/files/extended_figure1bc_sample_size.csv',\n",
    "         'https://zenodo.org/record/7829622/files/data_extended_figure1c_weights.tsv']\n",
    "\n",
    "for file in files:\n",
    "    df = pd.read_csv(file, sep='\\t', index_col=0)\n",
    "    df.to_csv(file.split('/')[-1], sep='\\t')"
   ]
  },
  {
   "cell_type": "code",
   "execution_count": 4,
   "id": "effective-orleans",
   "metadata": {},
   "outputs": [],
   "source": [
    "excel_files = ['https://zenodo.org/record/7829622/files/data_extended_figure1e.xlsx']\n",
    "\n",
    "for file in excel_files:\n",
    "    df = pd.read_excel(file, sep='\\t', index_col=0)\n",
    "    df.to_csv(file.split('/')[-1].replace('xlsx', 'txt'), sep='\\t')"
   ]
  },
  {
   "cell_type": "code",
   "execution_count": null,
   "id": "placed-needle",
   "metadata": {},
   "outputs": [],
   "source": []
  }
 ],
 "metadata": {
  "kernelspec": {
   "display_name": "dataviz",
   "language": "python",
   "name": "dataviz"
  },
  "language_info": {
   "codemirror_mode": {
    "name": "ipython",
    "version": 3
   },
   "file_extension": ".py",
   "mimetype": "text/x-python",
   "name": "python",
   "nbconvert_exporter": "python",
   "pygments_lexer": "ipython3",
   "version": "3.7.5"
  }
 },
 "nbformat": 4,
 "nbformat_minor": 5
}
