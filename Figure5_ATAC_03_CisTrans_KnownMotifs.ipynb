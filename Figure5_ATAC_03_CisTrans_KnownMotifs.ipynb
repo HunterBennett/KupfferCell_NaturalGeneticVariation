{
 "cells": [
  {
   "cell_type": "markdown",
   "id": "weird-profit",
   "metadata": {},
   "source": [
    "Hunter Bennett | Glass Lab | Kupffer Strains Project | 05 April 2023\n",
    "\n",
    "Notebook for motif analysis of ATAC-seq cis trans peak sets\n",
    "\n",
    "\n",
    "### Import packages, set plotting parameters"
   ]
  },
  {
   "cell_type": "code",
   "execution_count": 1,
   "id": "african-belize",
   "metadata": {},
   "outputs": [],
   "source": [
    "### header ###\n",
    "__author__ = \"Hunter Bennett\"\n",
    "__license__ = \"BSD\"\n",
    "__email__ = \"hunter.r.bennett@gmail.com\"\n",
    "%load_ext autoreload\n",
    "%autoreload 2\n",
    "### imports ###\n",
    "%matplotlib inline\n",
    "import os\n",
    "import re\n",
    "import glob\n",
    "import pandas as pd\n",
    "import numpy as np"
   ]
  },
  {
   "cell_type": "markdown",
   "id": "dimensional-resolution",
   "metadata": {},
   "source": [
    "Set working directory "
   ]
  },
  {
   "cell_type": "code",
   "execution_count": 2,
   "id": "noticed-stopping",
   "metadata": {},
   "outputs": [],
   "source": [
    "workingDirectory = '/home/h1bennet/strains_github/results/Figure5_ATAC/'\n",
    "if not os.path.isdir(workingDirectory):\n",
    "    os.mkdir(workingDirectory)\n",
    "os.chdir(workingDirectory)"
   ]
  },
  {
   "cell_type": "markdown",
   "id": "three-awareness",
   "metadata": {},
   "source": [
    "Create folder for motif analysis"
   ]
  },
  {
   "cell_type": "code",
   "execution_count": 3,
   "id": "protecting-frost",
   "metadata": {},
   "outputs": [],
   "source": [
    "if not os.path.isdir('./motif_calling//'):\n",
    "    os.mkdir('./motif_calling//')"
   ]
  },
  {
   "cell_type": "markdown",
   "id": "taken-portugal",
   "metadata": {},
   "source": [
    "Create scripts for running motif analysis"
   ]
  },
  {
   "cell_type": "code",
   "execution_count": 4,
   "id": "informational-heading",
   "metadata": {},
   "outputs": [],
   "source": [
    "strain_dict = {'c57': 'c57bl6j',\n",
    "               'balb': 'balbcj',\n",
    "               'aj': 'aj'}\n",
    "\n",
    "with open('./findMotifs_differential_trans.sh', 'w') as f:\n",
    "    for peakfile in np.sort(glob.glob('./motif_calling//atac*trans*.txt')):\n",
    "        strain = peakfile.split('/')[-1].split('_')[2]\n",
    "        if 'distal' in peakfile:\n",
    "            call = ['/home/vlink/code/marge/bin/MMARGE.pl', 'denovo_motifs',\n",
    "                    peakfile, 'mm10', peakfile.replace('.txt', '_motifs'),\n",
    "                    '-len 8,10,12,14,16', '-fg_strain', strain_dict[strain],\n",
    "                    '-bg_strain', strain_dict[strain], '-p 16\\n\\n']\n",
    "        else:\n",
    "            call = ['/home/vlink/code/marge/bin/MMARGE.pl', 'denovo_motifs',\n",
    "                    peakfile, 'mm10', peakfile.replace('.txt', '_motifs'),\n",
    "                    '-len 8,10,12,14,16', '-fg_strain', strain_dict[strain],\n",
    "                    '-bg_strain', strain_dict[strain], '-p 16\\n\\n']\n",
    "        f.write(' '.join(call))\n",
    "        \n",
    "with open('./findMotifs_differential_cis.sh', 'w') as f:\n",
    "    for peakfile in np.sort(glob.glob('./motif_calling//atac*cis*.txt')):\n",
    "        strain = peakfile.split('/')[-1].split('_')[2]\n",
    "        if 'distal' in peakfile:\n",
    "            call = ['/home/vlink/code/marge/bin/MMARGE.pl', 'denovo_motifs',\n",
    "                    peakfile, 'mm10', peakfile.replace('.txt', '_motifs'),\n",
    "                    '-len 8,10,12,14,16', '-fg_strain', strain_dict[strain],\n",
    "                    '-bg_strain', strain_dict[strain], '-p 16\\n\\n']\n",
    "        else:\n",
    "            call = ['/home/vlink/code/marge/bin/MMARGE.pl', 'denovo_motifs',\n",
    "                    peakfile, 'mm10', peakfile.replace('.txt', '_motifs'),\n",
    "                    '-len 8,10,12,14,16', '-fg_strain', strain_dict[strain],\n",
    "                    '-bg_strain', strain_dict[strain], '-p 16\\n\\n']\n",
    "        f.write(' '.join(call))"
   ]
  },
  {
   "cell_type": "markdown",
   "id": "bronze-warning",
   "metadata": {},
   "source": [
    "Run scripts in terminal\n",
    "\n",
    "    bash ./findMotifs_differential_trans/.sh\n",
    "    bash ./findMotifs_differential_cis/.sh"
   ]
  },
  {
   "cell_type": "code",
   "execution_count": 5,
   "id": "vocational-toner",
   "metadata": {},
   "outputs": [
    {
     "ename": "FileNotFoundError",
     "evalue": "[Errno 2] No such file or directory: './homer_known_motifs_all/.txt'",
     "output_type": "error",
     "traceback": [
      "\u001b[0;31m---------------------------------------------------------------------------\u001b[0m",
      "\u001b[0;31mFileNotFoundError\u001b[0m                         Traceback (most recent call last)",
      "\u001b[0;32m<ipython-input-5-b810c84032ea>\u001b[0m in \u001b[0;36m<module>\u001b[0;34m\u001b[0m\n\u001b[1;32m     20\u001b[0m \u001b[0mknown_motif_pval_frame\u001b[0m \u001b[0;34m=\u001b[0m \u001b[0mknown_motif_pval_frame\u001b[0m\u001b[0;34m.\u001b[0m\u001b[0mreindex\u001b[0m\u001b[0;34m(\u001b[0m\u001b[0mknown_motif_pval_frame\u001b[0m\u001b[0;34m.\u001b[0m\u001b[0mmean\u001b[0m\u001b[0;34m(\u001b[0m\u001b[0maxis\u001b[0m\u001b[0;34m=\u001b[0m\u001b[0;36m1\u001b[0m\u001b[0;34m)\u001b[0m\u001b[0;34m.\u001b[0m\u001b[0msort_values\u001b[0m\u001b[0;34m(\u001b[0m\u001b[0;34m)\u001b[0m\u001b[0;34m.\u001b[0m\u001b[0mindex\u001b[0m\u001b[0;34m.\u001b[0m\u001b[0mtolist\u001b[0m\u001b[0;34m(\u001b[0m\u001b[0;34m)\u001b[0m\u001b[0;34m)\u001b[0m\u001b[0;34m\u001b[0m\u001b[0;34m\u001b[0m\u001b[0m\n\u001b[1;32m     21\u001b[0m \u001b[0;34m\u001b[0m\u001b[0m\n\u001b[0;32m---> 22\u001b[0;31m \u001b[0mknown_motif_pval_frame\u001b[0m\u001b[0;34m.\u001b[0m\u001b[0mto_csv\u001b[0m\u001b[0;34m(\u001b[0m\u001b[0;34m'./homer_known_motifs_all/.txt'\u001b[0m\u001b[0;34m,\u001b[0m \u001b[0msep\u001b[0m\u001b[0;34m=\u001b[0m\u001b[0;34m'\\t'\u001b[0m\u001b[0;34m)\u001b[0m\u001b[0;34m\u001b[0m\u001b[0;34m\u001b[0m\u001b[0m\n\u001b[0m",
      "\u001b[0;32m~/.conda/envs/dataviz/lib/python3.7/site-packages/pandas/core/generic.py\u001b[0m in \u001b[0;36mto_csv\u001b[0;34m(self, path_or_buf, sep, na_rep, float_format, columns, header, index, index_label, mode, encoding, compression, quoting, quotechar, line_terminator, chunksize, date_format, doublequote, escapechar, decimal)\u001b[0m\n\u001b[1;32m   3226\u001b[0m             \u001b[0mdecimal\u001b[0m\u001b[0;34m=\u001b[0m\u001b[0mdecimal\u001b[0m\u001b[0;34m,\u001b[0m\u001b[0;34m\u001b[0m\u001b[0;34m\u001b[0m\u001b[0m\n\u001b[1;32m   3227\u001b[0m         )\n\u001b[0;32m-> 3228\u001b[0;31m         \u001b[0mformatter\u001b[0m\u001b[0;34m.\u001b[0m\u001b[0msave\u001b[0m\u001b[0;34m(\u001b[0m\u001b[0;34m)\u001b[0m\u001b[0;34m\u001b[0m\u001b[0;34m\u001b[0m\u001b[0m\n\u001b[0m\u001b[1;32m   3229\u001b[0m \u001b[0;34m\u001b[0m\u001b[0m\n\u001b[1;32m   3230\u001b[0m         \u001b[0;32mif\u001b[0m \u001b[0mpath_or_buf\u001b[0m \u001b[0;32mis\u001b[0m \u001b[0;32mNone\u001b[0m\u001b[0;34m:\u001b[0m\u001b[0;34m\u001b[0m\u001b[0;34m\u001b[0m\u001b[0m\n",
      "\u001b[0;32m~/.conda/envs/dataviz/lib/python3.7/site-packages/pandas/io/formats/csvs.py\u001b[0m in \u001b[0;36msave\u001b[0;34m(self)\u001b[0m\n\u001b[1;32m    181\u001b[0m                 \u001b[0mself\u001b[0m\u001b[0;34m.\u001b[0m\u001b[0mmode\u001b[0m\u001b[0;34m,\u001b[0m\u001b[0;34m\u001b[0m\u001b[0;34m\u001b[0m\u001b[0m\n\u001b[1;32m    182\u001b[0m                 \u001b[0mencoding\u001b[0m\u001b[0;34m=\u001b[0m\u001b[0mself\u001b[0m\u001b[0;34m.\u001b[0m\u001b[0mencoding\u001b[0m\u001b[0;34m,\u001b[0m\u001b[0;34m\u001b[0m\u001b[0;34m\u001b[0m\u001b[0m\n\u001b[0;32m--> 183\u001b[0;31m                 \u001b[0mcompression\u001b[0m\u001b[0;34m=\u001b[0m\u001b[0mself\u001b[0m\u001b[0;34m.\u001b[0m\u001b[0mcompression\u001b[0m\u001b[0;34m,\u001b[0m\u001b[0;34m\u001b[0m\u001b[0;34m\u001b[0m\u001b[0m\n\u001b[0m\u001b[1;32m    184\u001b[0m             )\n\u001b[1;32m    185\u001b[0m             \u001b[0mclose\u001b[0m \u001b[0;34m=\u001b[0m \u001b[0;32mTrue\u001b[0m\u001b[0;34m\u001b[0m\u001b[0;34m\u001b[0m\u001b[0m\n",
      "\u001b[0;32m~/.conda/envs/dataviz/lib/python3.7/site-packages/pandas/io/common.py\u001b[0m in \u001b[0;36m_get_handle\u001b[0;34m(path_or_buf, mode, encoding, compression, memory_map, is_text)\u001b[0m\n\u001b[1;32m    397\u001b[0m         \u001b[0;32mif\u001b[0m \u001b[0mencoding\u001b[0m\u001b[0;34m:\u001b[0m\u001b[0;34m\u001b[0m\u001b[0;34m\u001b[0m\u001b[0m\n\u001b[1;32m    398\u001b[0m             \u001b[0;31m# Encoding\u001b[0m\u001b[0;34m\u001b[0m\u001b[0;34m\u001b[0m\u001b[0;34m\u001b[0m\u001b[0m\n\u001b[0;32m--> 399\u001b[0;31m             \u001b[0mf\u001b[0m \u001b[0;34m=\u001b[0m \u001b[0mopen\u001b[0m\u001b[0;34m(\u001b[0m\u001b[0mpath_or_buf\u001b[0m\u001b[0;34m,\u001b[0m \u001b[0mmode\u001b[0m\u001b[0;34m,\u001b[0m \u001b[0mencoding\u001b[0m\u001b[0;34m=\u001b[0m\u001b[0mencoding\u001b[0m\u001b[0;34m,\u001b[0m \u001b[0mnewline\u001b[0m\u001b[0;34m=\u001b[0m\u001b[0;34m\"\"\u001b[0m\u001b[0;34m)\u001b[0m\u001b[0;34m\u001b[0m\u001b[0;34m\u001b[0m\u001b[0m\n\u001b[0m\u001b[1;32m    400\u001b[0m         \u001b[0;32melif\u001b[0m \u001b[0mis_text\u001b[0m\u001b[0;34m:\u001b[0m\u001b[0;34m\u001b[0m\u001b[0;34m\u001b[0m\u001b[0m\n\u001b[1;32m    401\u001b[0m             \u001b[0;31m# No explicit encoding\u001b[0m\u001b[0;34m\u001b[0m\u001b[0;34m\u001b[0m\u001b[0;34m\u001b[0m\u001b[0m\n",
      "\u001b[0;31mFileNotFoundError\u001b[0m: [Errno 2] No such file or directory: './homer_known_motifs_all/.txt'"
     ]
    }
   ],
   "source": [
    "known_motif_pval_dict = {}\n",
    "for f in np.sort(glob.glob('./motif_calling/*/knownResults.txt')):\n",
    "    # read in signifance values using pandas\n",
    "    frame = pd.read_csv(f, sep='\\t', index_col=0)\n",
    "    \n",
    "    # remove duplicates\n",
    "    frame = frame[~frame.index.duplicated(keep='first')]\n",
    "    pval = frame.iloc[:, 2]\n",
    "    \n",
    "    # extract name of sample\n",
    "    sample = f.split('/')[-2]\n",
    "    \n",
    "    # store in dict\n",
    "    known_motif_pval_dict[sample] = pval    \n",
    "    \n",
    "# create data frame\n",
    "known_motif_pval_frame = pd.DataFrame(known_motif_pval_dict)\n",
    "\n",
    "# sort by average p value\n",
    "known_motif_pval_frame = known_motif_pval_frame.reindex(known_motif_pval_frame.mean(axis=1).sort_values().index.tolist())\n",
    "\n",
    "known_motif_pval_frame.to_csv('./homer_known_motifs_all/.txt', sep='\\t')"
   ]
  },
  {
   "cell_type": "markdown",
   "id": "optical-bones",
   "metadata": {},
   "source": [
    "# Create scatterplots of knownMotif enrichment"
   ]
  },
  {
   "cell_type": "markdown",
   "id": "czech-harvard",
   "metadata": {},
   "source": [
    "Full scatterplot"
   ]
  },
  {
   "cell_type": "code",
   "execution_count": null,
   "id": "finished-sierra",
   "metadata": {},
   "outputs": [],
   "source": [
    "fig, ax = plt.subplots(figsize=(2,2))\n",
    "xaxis = 'atac_trans_c57_hunterFCThenPadj_motifs'\n",
    "yaxis = 'atac_trans_balb_hunterFCThenPadj_motifs'\n",
    "\n",
    "ax.scatter(-known_motif_pval_frame.loc[:, xaxis],\n",
    "           -known_motif_pval_frame.loc[:, yaxis],\n",
    "           s=1,\n",
    "           c='k',\n",
    "           zorder=1)\n",
    "ax.plot([0,200],[0,200],c='gray',linewidth=1, zorder=0)\n",
    "ax.set_xlim([0,200])\n",
    "ax.set_ylim([0,200])\n",
    "\n",
    "ax.set_xlabel('C57BL/6J log10(q-value)')\n",
    "ax.set_ylabel('BALB/cJ log10(q-value)')\n",
    "\n",
    "\n",
    "for lab, row in filt_frame.sort_values('pval_diff', ascending=True).iloc[:10, :].iterrows():\n",
    "    ax.text(-row[0], -row[1], lab.split('(')[0])\n",
    "    \n",
    "for lab, row in filt_frame.sort_values('pval_diff', ascending=False).iloc[:10, :].iterrows():\n",
    "    ax.text(-row[0], -row[1], lab.split('(')[0])\n"
   ]
  },
  {
   "cell_type": "markdown",
   "id": "embedded-diagnosis",
   "metadata": {},
   "source": [
    "\"Zoomed in\" scatterplot"
   ]
  },
  {
   "cell_type": "code",
   "execution_count": null,
   "id": "patient-preservation",
   "metadata": {},
   "outputs": [],
   "source": [
    "fig, ax = plt.subplots(figsize=(2,2))\n",
    "xaxis = 'atac_trans_c57_hunterFCThenPadj_motifs\n",
    "yaxis = 'atac_trans_balb_hunterFCThenPadj_motifs'\n",
    "\n",
    "ax.scatter(-known_motif_pval_frame.loc[:, xaxis],\n",
    "           -known_motif_pval_frame.loc[:, yaxis],\n",
    "           s=1,\n",
    "           c='k',\n",
    "           zorder=1)\n",
    "ax.plot([0,100],[0,100],c='gray',linewidth=1, zorder=0)\n",
    "ax.set_xlim([0,20])\n",
    "ax.set_ylim([0,20])\n",
    "\n",
    "ax.set_xlabel('C57BL/6J log10(q-value)')\n",
    "ax.set_ylabel('BALB/cJ log10(q-value)')\n",
    "\n",
    "\n",
    "for lab, row in filt_frame.sort_values('pval_diff', ascending=True).iloc[:20, :].iterrows():\n",
    "    ax.text(-row[0], -row[1], lab.split('(')[0])\n",
    "    \n",
    "for lab, row in filt_frame.sort_values('pval_diff', ascending=False).iloc[:20, :].iterrows():\n",
    "    ax.text(-row[0], -row[1], lab.split('(')[0])\n",
    "        "
   ]
  }
 ],
 "metadata": {
  "kernelspec": {
   "display_name": "dataviz",
   "language": "python",
   "name": "dataviz"
  },
  "language_info": {
   "codemirror_mode": {
    "name": "ipython",
    "version": 3
   },
   "file_extension": ".py",
   "mimetype": "text/x-python",
   "name": "python",
   "nbconvert_exporter": "python",
   "pygments_lexer": "ipython3",
   "version": "3.7.5"
  }
 },
 "nbformat": 4,
 "nbformat_minor": 5
}
