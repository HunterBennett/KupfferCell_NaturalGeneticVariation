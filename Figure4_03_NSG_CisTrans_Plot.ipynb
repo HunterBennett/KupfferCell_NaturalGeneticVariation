{
 "cells": [
  {
   "cell_type": "markdown",
   "metadata": {},
   "source": [
    "Hunter Bennett | Glass Lab | Kupffer Strains Project | 14 March 2023\n",
    "\n",
    "Notebook for cis trans analysis of F0 NSG transplant RNA-seq data\n",
    "\n",
    "### Import packages, set plotting parameters"
   ]
  },
  {
   "cell_type": "code",
   "execution_count": 1,
   "metadata": {},
   "outputs": [],
   "source": [
    "# header ###\n",
    "__author__ = \"Hunter Bennett\"\n",
    "__license__ = \"BSD\"\n",
    "__email__ = \"hunter.r.bennett@gmail.com\"\n",
    "%load_ext autoreload\n",
    "%autoreload 2\n",
    "%matplotlib inline\n",
    "### imports ###\n",
    "import os\n",
    "import re\n",
    "import glob\n",
    "import pandas as pd\n",
    "import numpy as np\n",
    "import matplotlib\n",
    "import matplotlib.pyplot as plt\n",
    "from matplotlib.patches import Patch\n",
    "from matplotlib.lines import Line2D\n",
    "import seaborn as sns"
   ]
  },
  {
   "cell_type": "markdown",
   "metadata": {},
   "source": [
    "Set working directory"
   ]
  },
  {
   "cell_type": "code",
   "execution_count": 2,
   "metadata": {},
   "outputs": [],
   "source": [
    "workingDirectory = '/home/h1bennet/strains_github/results/Figure4/'\n",
    "if not os.path.isdir(workingDirectory):\n",
    "    os.mkdir(workingDirectory)\n",
    "os.chdir(workingDirectory)"
   ]
  },
  {
   "cell_type": "markdown",
   "metadata": {},
   "source": [
    "Define custom functions"
   ]
  },
  {
   "cell_type": "code",
   "execution_count": 3,
   "metadata": {},
   "outputs": [],
   "source": [
    "def import_homer_diffgene(depath, gepath, gene_name_index=False):\n",
    "    '''This function takes in a getDiffExpression file created from raw RNA counts\n",
    "       and a gene expression file created with analyzeRepeates (tpm, ge, etc)\n",
    "       and processes the files so that they contain the same set of genes and can be\n",
    "       used for data visualization and analysis\n",
    "       Accepts:\n",
    "           depath (str): path to getDiffExpression file\n",
    "           gepath (str): path to analyzeRepeats file\n",
    "       Returns:\n",
    "           de (pandas.DataFrame): modified getDiffExpression file\n",
    "           ge (pandas.DataFrame): modified analyzerepeatsFile,\n",
    "           ge_mat (pandas.DataFrame): analyzeRepeates file without annotation\n",
    "           ge_mat_quatn (pandas.DataFrame) : analyzeRepeats file without annotation\n",
    "           and quantile normalized\n",
    "       '''\n",
    "    # import packages\n",
    "    import pandas as pd\n",
    "    import numpy as np\n",
    "    \n",
    "    # import differential gene expression\n",
    "    de = pd.read_csv(depath, sep='\\t', index_col=0)\n",
    "    de.index.rename('RepeatID', inplace=True)\n",
    "    \n",
    "    # import ge file\n",
    "    ge = pd.read_csv(gepath, sep='\\t', index_col=0)\n",
    "    ge.index.rename('RepeatID', inplace=True)\n",
    "    \n",
    "    # select ge transcripts that are in diff_gene\n",
    "    print('ge all transcripts', ge.shape)\n",
    "    print('Diff Gene selected transcripts', de.shape)\n",
    "    ge = ge.loc[de.index.tolist(), :]\n",
    "    print('ge selected transcripts', ge.shape)\n",
    "    \n",
    "    if gene_name_index:\n",
    "        # set index as gene\n",
    "        ge['gene'] = ge['Annotation/Divergence'].str.split('|').str[0]\n",
    "        de['gene'] = de['Annotation/Divergence'].str.split('|').str[0]\n",
    "\n",
    "        # create gene name index\n",
    "        ge = ge.reset_index().set_index('gene')\n",
    "        de = de.reset_index().set_index('gene')\n",
    "\n",
    "        # subset count matrix\n",
    "        ge_mat = ge.iloc[:, 8:]\n",
    "    else:\n",
    "        # subset count matrix\n",
    "        ge_mat = ge.iloc[:, 7:]\n",
    "\n",
    "    # return files\n",
    "    return (de, ge, ge_mat)"
   ]
  },
  {
   "cell_type": "code",
   "execution_count": 4,
   "metadata": {},
   "outputs": [],
   "source": [
    "#### PLOTTING PARAMETERS FOR MANUSCRIPT ####\n",
    "# # get matplotlib to save readable fonts\n",
    "matplotlib.rcParams['pdf.fonttype'] = 42\n",
    "matplotlib.rcParams['ps.fonttype'] = 42\n",
    "matplotlib.rcParams['font.size'] = 10\n",
    "matplotlib.rcParams['savefig.dpi'] = 500\n",
    "\n",
    "\n",
    "# line widths\n",
    "matplotlib.rcParams['axes.linewidth'] = 1\n",
    "matplotlib.rcParams['xtick.major.width'] = 1\n",
    "matplotlib.rcParams['ytick.major.width'] = 1\n",
    "\n",
    "# adjust defualt color for plots to black\n",
    "# normal default is a dark gray\n",
    "COLOR = 'black'\n",
    "matplotlib.rcParams['text.color'] = COLOR\n",
    "matplotlib.rcParams['axes.labelcolor'] = COLOR\n",
    "matplotlib.rcParams['xtick.color'] = COLOR\n",
    "matplotlib.rcParams['ytick.color'] = COLOR\n",
    "matplotlib.rcParams['axes.edgecolor'] = COLOR\n",
    "\n",
    "#### PLOT PARAMETERS FOR THIS PLOT ####"
   ]
  },
  {
   "cell_type": "markdown",
   "metadata": {},
   "source": [
    "# Cis/trans analysis\n",
    "\n",
    "For this analysis we define *cis* regulated transcripts as those that are differentially expressed in a strain specific manner in both the F1 hybrid and the F0 parental strains at **a particular p-value and fold change threshold**.\n",
    "\n",
    "we define *trans* regulated transcripts as those that are differentially expressed in a strain specific manner in the F0 parental strain but not the F1 hybrid at **a particular p-value and fold change threshold**.\n",
    "\n",
    "we define *mixed* regulated transcripts as those that are differentially expressed in a strain specific manner in the F1 hybrid strain but not the F0 parental strain at **a particular p-value and fold change threshold**.\n",
    "\n",
    "This approach gives us greater confidence in our estimate of biased allelic expression of a particular transcript, as there is some variance in the relative average expression."
   ]
  },
  {
   "cell_type": "markdown",
   "metadata": {},
   "source": [
    "Read in F0 parental differential gene expression"
   ]
  },
  {
   "cell_type": "code",
   "execution_count": 5,
   "metadata": {},
   "outputs": [
    {
     "name": "stdout",
     "output_type": "stream",
     "text": [
      "ge all transcripts (23608, 20)\n",
      "Diff Gene selected transcripts (7667, 7)\n",
      "ge selected transcripts (7667, 20)\n"
     ]
    }
   ],
   "source": [
    "diff_gene_control, tpm_control, tpm_mat_control = import_homer_diffgene(\n",
    "    './balbcj_control.vs.c57bl6j_control.deseq.txt',\n",
    "    './rna_f1f0_tpm_mat.txt')"
   ]
  },
  {
   "cell_type": "markdown",
   "metadata": {},
   "source": [
    "Read in NSG hybrid differential expression"
   ]
  },
  {
   "cell_type": "code",
   "execution_count": 6,
   "metadata": {},
   "outputs": [
    {
     "name": "stdout",
     "output_type": "stream",
     "text": [
      "ge all transcripts (23608, 20)\n",
      "Diff Gene selected transcripts (8134, 7)\n",
      "ge selected transcripts (8134, 20)\n"
     ]
    }
   ],
   "source": [
    "diff_gene_NSG, tpm_NSG, tpm_mat_NSG = import_homer_diffgene(\n",
    "    './balbcj_NSG.vs.c57bl6j_NSG.deseq.txt',\n",
    "    './rna_f1f0_tpm_mat.txt')"
   ]
  },
  {
   "cell_type": "markdown",
   "metadata": {},
   "source": [
    "Merge differential gene files, drop any genes that are present in one file but not the other, as these genes cannot be confidently determined to be cis or trans regulated"
   ]
  },
  {
   "cell_type": "code",
   "execution_count": 7,
   "metadata": {
    "scrolled": true
   },
   "outputs": [
    {
     "data": {
      "text/plain": [
       "(7405, 14)"
      ]
     },
     "execution_count": 7,
     "metadata": {},
     "output_type": "execute_result"
    }
   ],
   "source": [
    "df = diff_gene_control.merge(diff_gene_NSG,\n",
    "                             suffixes=['_p1', '_f1'],\n",
    "                             left_index=True,\n",
    "                             right_index=True,\n",
    "                             how='outer')\n",
    "\n",
    "df = df.dropna(how='any')\n",
    "df.shape"
   ]
  },
  {
   "cell_type": "markdown",
   "metadata": {},
   "source": [
    "Set fold change and p value thresholds"
   ]
  },
  {
   "cell_type": "code",
   "execution_count": 8,
   "metadata": {},
   "outputs": [],
   "source": [
    "fc = np.log2(2)\n",
    "padj = 0.05"
   ]
  },
  {
   "cell_type": "code",
   "execution_count": 9,
   "metadata": {},
   "outputs": [],
   "source": [
    "parental_balb = (df['log2FoldChange_p1'] < -fc) & (df['padj_p1'] < padj)\n",
    "f1_balb = (df['log2FoldChange_f1'] < -fc) & (df['padj_f1'] < padj)\n",
    "parental_c57 = (df['log2FoldChange_p1'] > fc) & (df['padj_p1'] < padj)\n",
    "f1_c57 = (df['log2FoldChange_f1']  > fc) & (df['padj_f1'] < padj)\n",
    "\n",
    "cis_balb = parental_balb & f1_balb\n",
    "trans_balb = parental_balb & (~f1_balb)\n",
    "mixed_balb = (~parental_balb) & (f1_balb)\n",
    "cis_c57 = parental_c57 & f1_c57\n",
    "trans_c57 = parental_c57 & (~f1_c57)\n",
    "mixed_c57 = (~parental_c57) & (f1_c57)"
   ]
  },
  {
   "cell_type": "code",
   "execution_count": 10,
   "metadata": {},
   "outputs": [],
   "source": [
    "lists = [cis_balb, trans_balb, mixed_balb,\n",
    "         cis_c57, trans_c57, mixed_c57]\n",
    "labels = ['cis_balb_filt_pval', 'trans_balb_filt_pval', 'mixed_balb_filt_pval',\n",
    "          'cis_c57_filt_pval', 'trans_c57_filt_pval', 'mixed_c57_filt_pval']\n",
    "\n",
    "# set color palette\n",
    "pal = matplotlib.cm.get_cmap('rocket')\n",
    "colors = [pal(0.6), pal(0.4), pal(0.2),\n",
    "          pal(0.6), pal(0.4), pal(0.2)]\n",
    "\n",
    "# create legend objects\n",
    "n_cis = cis_balb.sum() + cis_c57.sum()\n",
    "n_trans = trans_balb.sum() + trans_c57.sum()\n",
    "n_mixed = mixed_balb.sum() + mixed_c57.sum()\n",
    "n_same = df.shape[0] - (n_cis + n_trans + n_mixed)\n",
    "\n",
    "from matplotlib.lines import Line2D\n",
    "legend_elements = [Line2D([0], [0],\n",
    "                          marker='o', color='w',\n",
    "                          label='Same: %i' % n_same,\n",
    "                          markerfacecolor=pal(0.99),\n",
    "                          markersize=3),\n",
    "                   Line2D([0], [0],\n",
    "                          marker='o', color='w',\n",
    "                          label='Cis: %i' % n_cis,\n",
    "                          markerfacecolor=pal(0.6),\n",
    "                          markersize=3),\n",
    "                   Line2D([0], [0],\n",
    "                          marker='o', color='w',\n",
    "                          label='Trans: %i' % n_trans,\n",
    "                          markerfacecolor=pal(0.4),\n",
    "                          markersize=3),\n",
    "                   Line2D([0], [0],\n",
    "                          marker='o', color='w',\n",
    "                          label='Mixed: %i' % n_mixed,\n",
    "                          markerfacecolor=pal(0.2),\n",
    "                          markersize=3)]"
   ]
  },
  {
   "cell_type": "markdown",
   "metadata": {},
   "source": [
    "Make plot"
   ]
  },
  {
   "cell_type": "code",
   "execution_count": 11,
   "metadata": {},
   "outputs": [
    {
     "data": {
      "image/png": "[encoded data removed]",
      "text/plain": [
       "<Figure size 288x288 with 1 Axes>"
      ]
     },
     "metadata": {
      "needs_background": "light"
     },
     "output_type": "display_data"
    }
   ],
   "source": [
    "fig, ax = plt.subplots(figsize=(4,4))\n",
    "\n",
    "# plot bounding lines\n",
    "ax.plot([-10,10], [-10,10], c='k',\n",
    "        linewidth=0.5, zorder=1)\n",
    "ax.axhline(0, c='k', linewidth=0.5,\n",
    "           zorder=1)\n",
    "ax.axvline(0, c='k', linewidth=0.5,\n",
    "           zorder=1)\n",
    "\n",
    "ax.scatter(df.log2FoldChange_p1,\n",
    "           df.log2FoldChange_f1,\n",
    "           s=1,\n",
    "           c=[pal(0.99)],\n",
    "           zorder=2)\n",
    "\n",
    "for genelist, color in zip(lists, colors):\n",
    "    ax.scatter(df.loc[genelist, 'log2FoldChange_p1'],\n",
    "               df.loc[genelist, 'log2FoldChange_f1'],\n",
    "               s=1,\n",
    "               c=[color],\n",
    "               zorder=3)\n",
    "# Hide the right and top spines\n",
    "ax.spines['right'].set_visible(False)\n",
    "ax.spines['top'].set_visible(False)\n",
    "# ax.set_xticklabels([])\n",
    "\n",
    "ax.set_xlabel('C57/BALB\\nLog2(FC F0)')\n",
    "ax.set_ylabel('C57/BALB\\nLog2(FC F1)')\n",
    "\n",
    "ax.legend(handles=legend_elements,\n",
    "          frameon=False, ncol=1, loc=(-0.05,0.7),\n",
    "          handletextpad=0.05, columnspacing=0.05)\n",
    "\n",
    "ax.set_xlim([-6,6]);\n",
    "ax.set_ylim([-6,6]);\n"
   ]
  },
  {
   "cell_type": "markdown",
   "metadata": {},
   "source": [
    "Write out gene lists"
   ]
  },
  {
   "cell_type": "code",
   "execution_count": 12,
   "metadata": {},
   "outputs": [],
   "source": [
    "if not os.path.isdir('./gene_lists/'):\n",
    "    os.mkdir('./gene_lists')\n",
    "\n",
    "for label, genelist in zip(labels, lists):\n",
    "    with open('./gene_lists/nsg_kupffer_'+label+'.txt', 'w') as f:\n",
    "        f.write('Gene\\n')\n",
    "        for i in genelist.index[genelist].tolist():\n",
    "            f.write(i+'\\n')\n",
    "        f.close()"
   ]
  },
  {
   "cell_type": "code",
   "execution_count": null,
   "metadata": {},
   "outputs": [],
   "source": []
  }
 ],
 "metadata": {
  "kernelspec": {
   "display_name": "dataviz",
   "language": "python",
   "name": "dataviz"
  },
  "language_info": {
   "codemirror_mode": {
    "name": "ipython",
    "version": 3
   },
   "file_extension": ".py",
   "mimetype": "text/x-python",
   "name": "python",
   "nbconvert_exporter": "python",
   "pygments_lexer": "ipython3",
   "version": "3.7.5"
  }
 },
 "nbformat": 4,
 "nbformat_minor": 2
}
