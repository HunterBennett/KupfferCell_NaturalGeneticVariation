{
 "cells": [
  {
   "cell_type": "markdown",
   "metadata": {},
   "source": [
    "Hunter Bennett | Glass Lab | Kupffer Strains Project | 15 March 2023\n",
    "\n",
    "Notebook for motif analysis with HOMER, used to assess differential H3K27Ac ChIP-seq peaks"
   ]
  },
  {
   "cell_type": "markdown",
   "metadata": {},
   "source": [
    "### Load packages, set plot parameters"
   ]
  },
  {
   "cell_type": "code",
   "execution_count": 1,
   "metadata": {},
   "outputs": [],
   "source": [
    "### header ###\n",
    "__author__ = \"Hunter Bennett\"\n",
    "__license__ = \"BSD\"\n",
    "__email__ = \"hunter.r.bennett@gmail.com\"\n",
    "%load_ext autoreload\n",
    "%autoreload 2\n",
    "### imports ###\n",
    "import sys\n",
    "%matplotlib inline\n",
    "import os\n",
    "import re\n",
    "import glob\n",
    "import pandas as pd\n",
    "import numpy as np\n",
    "\n",
    "# import custom functions\n",
    "sys.path.insert(0, '/home/h1bennet/code/')\n",
    "from homer_preprocessing import import_homer_diffpeak, pull_comparisons_get_diff"
   ]
  },
  {
   "cell_type": "markdown",
   "metadata": {},
   "source": [
    "Set working directory  "
   ]
  },
  {
   "cell_type": "code",
   "execution_count": 2,
   "metadata": {},
   "outputs": [],
   "source": [
    "workingDirectory = '/home/h1bennet/strains_github/results/Figure2_H3K27Ac/' # user will need to set own wd\n",
    "if not os.path.isdir(workingDirectory):\n",
    "    os.mkdir(workingDirectory)\n",
    "os.chdir(workingDirectory)"
   ]
  },
  {
   "cell_type": "markdown",
   "metadata": {},
   "source": [
    "Define custom functions"
   ]
  },
  {
   "cell_type": "code",
   "execution_count": 3,
   "metadata": {},
   "outputs": [],
   "source": [
    "def import_homer_diffpeak(depath, appath):\n",
    "    '''This function takes in a getDiffExpression file created from raw tag counts\n",
    "       and a peak tag file created with annotatePeaks\n",
    "       and processes the files so that they contain the same set of genes and can be\n",
    "       used for data visualization and analysis\n",
    "       Accepts:\n",
    "           depath (str): path to getDiffExpression file\n",
    "           appath (str): path to annotatePeaks file\n",
    "       Returns:\n",
    "           de (pandas.DataFrame): modified getDiffExpression file\n",
    "           ge (pandas.DataFrame): modified annotatePeaks,\n",
    "           ge_mat (pandas.DataFrame): annotatePeaks file without annotation\n",
    "           ge_mat_quatn (pandas.DataFrame) : annotatePeaks file without annotation\n",
    "           and quantile normalized\n",
    "       '''\n",
    "    # import packages\n",
    "    import pandas as pd\n",
    "    import numpy as np\n",
    "\n",
    "    # set autosomes for filtering\n",
    "    autosomes = ['chr1', 'chr2', 'chr3', 'chr4',\n",
    "                 'chr5', 'chr6', 'chr7', 'chr8',\n",
    "                 'chr9', 'chr10', 'chr11', 'chr12',\n",
    "                 'chr13', 'chr14', 'chr15', 'chr16',\n",
    "                 'chr17', 'chr18', 'chr19']\n",
    "\n",
    "    # import differential gene expression\n",
    "    de = pd.read_csv(depath, sep='\\t', index_col=0)\n",
    "    de.index.rename('PeakID', inplace=True)\n",
    "    de = de.loc[de.Chr.str.contains('|'.join(autosomes)), :]\n",
    "\n",
    "\n",
    "    # import ge file\n",
    "    ap = pd.read_csv(appath, sep='\\t', index_col=0)\n",
    "    ap.index.rename('PeakID', inplace=True)\n",
    "\n",
    "    # select ge transcripts that are in diff_gene\n",
    "    print('annotatePeaks all peaks', ap.shape)\n",
    "    print('getDiffExpression selected transcripts', de.shape)\n",
    "    ap = ap.loc[de.index.tolist(), :]\n",
    "    print('annotatePeaks selected peaks', ap.shape)\n",
    "\n",
    "\n",
    "    # return files\n",
    "    return (de, ap, ap.iloc[:, 18:]) # also return count matrix without annotation\n",
    "\n",
    "def pull_comparisons_get_diff(diff_gene, seq_type='Repeat'):\n",
    "    '''This function pulls out comparisons from a diff gene file with multiple comparision groups\n",
    "    and returns a dict of pandas DataFrames with one comparison each.\n",
    "\n",
    "    Accepts:\n",
    "        diff_gene (pandas.DataFrame): diff gene file processed to have\n",
    "        genes as index and column of RefSeqIDs titled RepeatID\n",
    "        seq_type (str): Repeat|Peak type of annotation file. repeat for RNA\n",
    "        peak for ChIP/ATAC\n",
    "\n",
    "    Returns:\n",
    "    comp_dict (dict): dictionary of 1 pandas Data Frame per each comparison\n",
    "    ''' \n",
    "\n",
    "\n",
    "    # import packages\n",
    "    import pandas as pd\n",
    "    import re\n",
    "    \n",
    "    if seq_type=='Repeat':\n",
    "        # extract groups\n",
    "        def subset_get_diff(diff_gene, comp):\n",
    "            return diff_gene.loc[:, [seq_type+'ID',\n",
    "                                     comp + ' Log2 Fold Change',\n",
    "                                     comp + ' p-value',\n",
    "                                     comp + ' adj. p-value']]\n",
    "\n",
    "    if seq_type=='Peak':\n",
    "        # exract groups\n",
    "        def subset_get_diff(diff_gene, comp):\n",
    "             return diff_gene.loc[:, ['Chr', 'Start', 'End',\n",
    "                                      'Annotation',\n",
    "                                      'Gene Name',\n",
    "                                      'Distance to TSS',\n",
    "                                       comp + ' Log2 Fold Change',\n",
    "                                       comp + ' p-value',\n",
    "                                       comp + ' adj. p-value']]\n",
    "    \n",
    "    comp_dict = {}\n",
    "    pattern='(\\w* vs. \\w*).*'\n",
    "    for col in diff_gene.columns.values:\n",
    "        m = re.search(string=col, pattern=pattern)\n",
    "        if m:\n",
    "            df = subset_get_diff(diff_gene, m.group(1))\n",
    "            if seq_type=='Repeat':\n",
    "                df.columns = ['RepeatID', 'log2fc', 'pval', 'adj_pval']\n",
    "            if seq_type=='Peak':\n",
    "                df['location'] = df.Chr.astype(str)+':'+df.Start.astype(str)+'-'+df.End.astype(str)\n",
    "                df.columns = ['Chr', 'Start', 'End',\n",
    "                              'Annotation', 'gene', 'TSS_dist',\n",
    "                              'log2fc', 'pval', 'adj_pval', 'location']\n",
    "    \n",
    "            comp_dict[re.sub('G0[0-9]_', '', m.group(1))] = df\n",
    "    \n",
    "    return comp_dict"
   ]
  },
  {
   "cell_type": "markdown",
   "metadata": {},
   "source": [
    "###  Import differential peak analysis"
   ]
  },
  {
   "cell_type": "code",
   "execution_count": 4,
   "metadata": {},
   "outputs": [
    {
     "name": "stdout",
     "output_type": "stream",
     "text": [
      "annotatePeaks all peaks (84264, 27)\n",
      "getDiffExpression selected transcripts (84264, 36)\n",
      "annotatePeaks selected peaks (84264, 27)\n"
     ]
    }
   ],
   "source": [
    "diff_peak, peaks, peak_mat = import_homer_diffpeak(\n",
    "    './diff_output.txt',\n",
    "    './idr_peaks_h3k27ac_norm.txt')\n",
    "\n",
    "# create dictionary of sub data-frames for each comparison\n",
    "comp_dict = pull_comparisons_get_diff(diff_peak, seq_type='Peak')"
   ]
  },
  {
   "cell_type": "markdown",
   "metadata": {},
   "source": [
    "# Process for motif calling with Homer"
   ]
  },
  {
   "cell_type": "code",
   "execution_count": 5,
   "metadata": {},
   "outputs": [],
   "source": [
    "if not os.path.isdir('./motif_calling/'):\n",
    "    os.mkdir('./motif_calling/')"
   ]
  },
  {
   "cell_type": "markdown",
   "metadata": {},
   "source": [
    "### Correct merge-peaks shifting of atac peak files\n",
    "Make atac peak file with 200bp peaks set on center of current peak (rounding down if fractional center)"
   ]
  },
  {
   "cell_type": "code",
   "execution_count": 6,
   "metadata": {},
   "outputs": [],
   "source": [
    "atac_peaks = pd.read_csv('./idr_peaks.txt', sep='\\t', index_col=0)"
   ]
  },
  {
   "cell_type": "code",
   "execution_count": 7,
   "metadata": {},
   "outputs": [],
   "source": [
    "new_start = []\n",
    "new_end = []\n",
    "for index, row in atac_peaks.iterrows():\n",
    "    center = row.start + int(np.floor((row.end - row.start)/2))\n",
    "    new_start.append(center - 100)\n",
    "    new_end.append(center + 100)\n",
    "    \n",
    "atac_peaks_200bp = atac_peaks.iloc[:, :4].copy(deep=True)\n",
    "atac_peaks_200bp['start'] = new_start\n",
    "atac_peaks_200bp['end'] = new_end\n",
    "atac_peaks_200bp.index.rename('PeakID', inplace=True)"
   ]
  },
  {
   "cell_type": "code",
   "execution_count": 8,
   "metadata": {},
   "outputs": [
    {
     "name": "stdout",
     "output_type": "stream",
     "text": [
      "84264 peaks in differential peak file\n",
      "86301 peaks in ATAC-seq file\n",
      "\n",
      "56602 distal peaks in differential peak file\n",
      "56602 distal peaks in ATAC-seq file\n"
     ]
    }
   ],
   "source": [
    "diff_peak_distal = diff_peak.loc[np.abs(diff_peak.loc[:, 'Distance to TSS'])>3000, :]\n",
    "atac_peaks_200bp_distal = atac_peaks_200bp.reindex(diff_peak_distal.index).dropna(how='all')\n",
    "\n",
    "# write out distal peaks for distal background\n",
    "atac_peaks_200bp_distal.to_csv(\n",
    "    './idr_peaks_distal.txt',\n",
    "    sep='\\t')\n",
    "\n",
    "# print to check that this worked\n",
    "print(diff_peak.shape[0], 'peaks in differential peak file')\n",
    "print(atac_peaks_200bp.shape[0], 'peaks in ATAC-seq file')\n",
    "print()\n",
    "print(diff_peak_distal.shape[0], 'distal peaks in differential peak file')\n",
    "print(atac_peaks_200bp_distal.shape[0], 'distal peaks in ATAC-seq file')"
   ]
  },
  {
   "cell_type": "markdown",
   "metadata": {},
   "source": [
    "# Extract target peaks"
   ]
  },
  {
   "cell_type": "markdown",
   "metadata": {},
   "source": [
    "Set cutoffs"
   ]
  },
  {
   "cell_type": "code",
   "execution_count": 9,
   "metadata": {
    "scrolled": false
   },
   "outputs": [
    {
     "name": "stdout",
     "output_type": "stream",
     "text": [
      "Analyzing aj ...\n",
      "\n",
      "0\n",
      "For comp: aj vs. balbcj\n",
      "Union set at: 815 peaks\n",
      "Intersection set at: 815 peaks\n",
      "\n",
      "1\n",
      "For comp: aj vs. c57bl6j\n",
      "Union set at: 2155 peaks\n",
      "Intersection set at: 280 peaks\n",
      "\n",
      "2\n",
      "For comp: balbcj vs. c57bl6j\n",
      "Union set at: 2155 peaks\n",
      "Intersection set at: 280 peaks\n",
      "\n",
      "Analyzing balbcj ...\n",
      "\n",
      "0\n",
      "For comp: aj vs. balbcj\n",
      "Union set at: 1260 peaks\n",
      "Intersection set at: 1260 peaks\n",
      "\n",
      "1\n",
      "For comp: aj vs. c57bl6j\n",
      "Union set at: 1260 peaks\n",
      "Intersection set at: 1260 peaks\n",
      "\n",
      "1\n",
      "For comp: balbcj vs. c57bl6j\n",
      "Union set at: 3269 peaks\n",
      "Intersection set at: 465 peaks\n",
      "\n",
      "Analyzing c57bl6j ...\n",
      "\n",
      "0\n",
      "For comp: aj vs. balbcj\n",
      "Union set at: 3269 peaks\n",
      "Intersection set at: 465 peaks\n",
      "\n",
      "0\n",
      "For comp: aj vs. c57bl6j\n",
      "Union set at: 2246 peaks\n",
      "Intersection set at: 2246 peaks\n",
      "\n",
      "1\n",
      "For comp: balbcj vs. c57bl6j\n",
      "Union set at: 3398 peaks\n",
      "Intersection set at: 1245 peaks\n",
      "\n"
     ]
    }
   ],
   "source": [
    "# initialize dict and list of cell types\n",
    "peak_lists = {}\n",
    "bg_lists = {}\n",
    "cells = ['aj',\n",
    "         'balbcj',\n",
    "         'c57bl6j']\n",
    "\n",
    "# set pvalue and fc thresholds\n",
    "fc = np.log2(2)\n",
    "pval = 0.05\n",
    "\n",
    "for cell in cells:\n",
    "    print('Analyzing', cell, '...\\n')\n",
    "    \n",
    "    # set count\n",
    "    count = 0\n",
    "    \n",
    "    for key in comp_dict.keys():\n",
    "        \n",
    "        # select get diff data frame.\n",
    "        df = comp_dict[key]\n",
    "        \n",
    "        # check on counter\n",
    "        print(count)\n",
    "        \n",
    "        # store pairwise differential\n",
    "        # strain 1\n",
    "        pairwise_key = key.replace(' vs. ', '_vs_')+'_'+key.split(' vs. ')[0]+'_up'\n",
    "        sig_peaks = df.index[(df['adj_pval'] < pval) & (df['log2fc'] <= -fc)].to_list()\n",
    "        peak_lists[pairwise_key] = list(sig_peaks)\n",
    "        # strain 2\n",
    "        pairwise_key = key.replace(' vs. ', '_vs_')+'_'+key.split(' vs. ')[1]+'_up'\n",
    "        sig_peaks = df.index[(df['adj_pval'] < pval) & (df['log2fc'] >= fc)].to_list()\n",
    "        peak_lists[pairwise_key] = list(sig_peaks)\n",
    "\n",
    "\n",
    "\n",
    "        # initialize lists if count == 0\n",
    "        if count == 0:\n",
    "            # fold change direction depends on the location of the cell in the comparison.\n",
    "            # if cell is in first position it is reference - so negative log2fc is higher in first position\n",
    "            if cell in key.split(' vs. ')[0]:\n",
    "                u = set(df.index[(df.loc[:, 'adj_pval'] <= pval) & (df.loc[:, 'log2fc'] < -fc)])\n",
    "                i = set(df.index[(df.loc[:, 'adj_pval'] <= pval) & (df.loc[:, 'log2fc'] < -fc)])\n",
    "                count = count + 1\n",
    "            # if cell is in second position it is comparison - so positive log2fc is higher in second position\n",
    "            elif cell in key.split(' vs. ')[1]:\n",
    "                u = set(df.index[(df.loc[:, 'adj_pval'] <= pval) & (df.loc[:, 'log2fc'] > fc)])\n",
    "                i = set(df.index[(df.loc[:, 'adj_pval'] <= pval) & (df.loc[:, 'log2fc'] > fc)])\n",
    "                count = count + 1\n",
    "\n",
    "        else:\n",
    "            # fold change direction depends on the location of the cell in the comparison.\n",
    "            # if cell is in first position it is reference - so negative log2fc is higher in first position\n",
    "            if cell in key.split(' vs. ')[0]:\n",
    "                u = u.union(df.index[(df.loc[:, 'adj_pval'] <= pval) & (df.loc[:, 'log2fc'] < -fc)])\n",
    "                i = i.intersection(df.index[(df.loc[:, 'adj_pval'] <= pval) & (df.loc[:, 'log2fc'] < -fc)])\n",
    "                count = count + 1\n",
    "            # if cell is in second position it is comparison - so positive log2fc is higher in second position\n",
    "            elif cell in key.split(' vs. ')[1]:\n",
    "                u = u.union(df.index[(df.loc[:, 'adj_pval'] <= pval) & (df.loc[:, 'log2fc'] > fc)])\n",
    "                i = i.intersection(df.index[(df.loc[:, 'adj_pval'] <= pval) & (df.loc[:, 'log2fc'] > fc)])\n",
    "                count = count + 1\n",
    "\n",
    "        \n",
    "        # summarize iteration\n",
    "        print('For comp:', key)\n",
    "        print('Union set at:', len(u), 'peaks')\n",
    "        print('Intersection set at:', len(i), 'peaks\\n')\n",
    "     \n",
    "    \n",
    "        # store lists\n",
    "        peak_lists[cell+'_union'] = u\n",
    "        peak_lists[cell+'_intersection'] = i"
   ]
  },
  {
   "cell_type": "markdown",
   "metadata": {},
   "source": [
    "Save peaks for motif calling"
   ]
  },
  {
   "cell_type": "code",
   "execution_count": 10,
   "metadata": {},
   "outputs": [],
   "source": [
    "convert_dict = {'start': int,\n",
    "                'end': int}"
   ]
  },
  {
   "cell_type": "code",
   "execution_count": 11,
   "metadata": {},
   "outputs": [],
   "source": [
    "for df, txt in zip([atac_peaks_200bp, atac_peaks_200bp_distal], ['', '_distal']):\n",
    "    for key in peak_lists.keys():\n",
    "        # save cell specific promoters\n",
    "        tmp = df.reindex(peak_lists[key]).dropna(how='all')\n",
    "        tmp = tmp.astype(convert_dict)\n",
    "        tmp.to_csv('./motif_calling/'+key+'_act'+txt+'_peaks.txt',\n",
    "                   sep='\\t')\n",
    "        \n",
    "        # save specific background\n",
    "        tmp = df.loc[df.index.difference(peak_lists[key]), :]\n",
    "        tmp = tmp.astype(convert_dict)\n",
    "        tmp.to_csv('./motif_calling/'+key+'_bg'+txt+'_peaks.txt',\n",
    "                   sep='\\t')"
   ]
  },
  {
   "cell_type": "markdown",
   "metadata": {},
   "source": [
    "### Call motifs using homer"
   ]
  },
  {
   "cell_type": "code",
   "execution_count": 12,
   "metadata": {},
   "outputs": [],
   "source": [
    "strain_dict = {'c57bl6j': 'c57bl6j',\n",
    "               'balbcj': 'balbcj',\n",
    "               'aj': 'aj'}"
   ]
  },
  {
   "cell_type": "markdown",
   "metadata": {},
   "source": [
    "Union and intersection sets   \n",
    "Call with background"
   ]
  },
  {
   "cell_type": "code",
   "execution_count": 13,
   "metadata": {},
   "outputs": [],
   "source": [
    "with open('./findMotifs_differential.sh', 'w') as f:\n",
    "    for peakfile in np.sort(glob.glob('./motif_calling/*ion*act*')):\n",
    "        strain = peakfile.split('/')[-1].split('_')[0]\n",
    "        call = ['/home/vlink/code/marge/bin/MMARGE.pl', 'denovo_motifs',\n",
    "                peakfile, 'mm10', peakfile.replace('_peaks.txt', '_motifs').replace('_act', ''),\n",
    "                '-bg', peakfile.replace('_act_', '_bg_'),\n",
    "                '-len 8,10,12,14,16', '-fg_strain', strain_dict[strain],\n",
    "                '-bg_strain', strain_dict[strain], '-p 8\\n\\n']\n",
    "        f.write(' '.join(call))"
   ]
  },
  {
   "cell_type": "markdown",
   "metadata": {},
   "source": [
    "Call without background"
   ]
  },
  {
   "cell_type": "code",
   "execution_count": 14,
   "metadata": {},
   "outputs": [],
   "source": [
    "with open('./findMotifs_differential_nobg.sh', 'w') as f:\n",
    "    for peakfile in np.sort(glob.glob('./motif_calling/*ion*act*')):\n",
    "        strain = peakfile.split('/')[-1].split('_')[0]\n",
    "        call = ['/home/vlink/code/marge/bin/MMARGE.pl', 'denovo_motifs',\n",
    "                peakfile, 'mm10', peakfile.replace('_peaks.txt', '_motifs').replace('_act', ''),\n",
    "                '-len 8,10,12,14,16', '-fg_strain', strain_dict[strain],\n",
    "                '-bg_strain', strain_dict[strain], '-p 8\\n\\n']\n",
    "        f.write(' '.join(call))"
   ]
  },
  {
   "cell_type": "code",
   "execution_count": null,
   "metadata": {},
   "outputs": [],
   "source": []
  }
 ],
 "metadata": {
  "kernelspec": {
   "display_name": "dataviz",
   "language": "python",
   "name": "dataviz"
  },
  "language_info": {
   "codemirror_mode": {
    "name": "ipython",
    "version": 3
   },
   "file_extension": ".py",
   "mimetype": "text/x-python",
   "name": "python",
   "nbconvert_exporter": "python",
   "pygments_lexer": "ipython3",
   "version": "3.7.5"
  }
 },
 "nbformat": 4,
 "nbformat_minor": 2
}
