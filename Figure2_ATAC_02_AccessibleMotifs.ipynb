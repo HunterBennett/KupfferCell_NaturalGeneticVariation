{
 "cells": [
  {
   "cell_type": "markdown",
   "metadata": {},
   "source": [
    "Hunter Bennett | Glass Lab | Kupffer Strains Project | 15 March 2023\n",
    "\n",
    "This notebook will do a basic analysis of motif enrichment in accessible enhancers over a generic background"
   ]
  },
  {
   "cell_type": "markdown",
   "metadata": {},
   "source": [
    "### Load packages, set plot parameters"
   ]
  },
  {
   "cell_type": "code",
   "execution_count": 1,
   "metadata": {},
   "outputs": [],
   "source": [
    "### header ###\n",
    "__author__ = \"Hunter Bennett\"\n",
    "__license__ = \"BSD\"\n",
    "__email__ = \"hunter.r.bennett@gmail.com\"\n",
    "%load_ext autoreload\n",
    "%autoreload 2\n",
    "### imports ###\n",
    "import os\n",
    "import glob\n",
    "import pandas as pd\n",
    "import numpy as np"
   ]
  },
  {
   "cell_type": "markdown",
   "metadata": {},
   "source": [
    "Set working directory"
   ]
  },
  {
   "cell_type": "code",
   "execution_count": 2,
   "metadata": {},
   "outputs": [],
   "source": [
    "workingDirectory = '/home/h1bennet/strains_github/results/Figure2_ATAC/' # user will need to set own wd\n",
    "if not os.path.isdir(workingDirectory):\n",
    "    os.mkdir(workingDirectory)\n",
    "os.chdir(workingDirectory)"
   ]
  },
  {
   "cell_type": "markdown",
   "metadata": {},
   "source": [
    "### Call motifs using homer\n",
    "____\n",
    "Main difference here is we are just using a general background. This is because most enhancers are 'accessible' by our definition within a strain so we just want to get an idea for the enrichment of different motifs within the open chromatin of each sample"
   ]
  },
  {
   "cell_type": "code",
   "execution_count": 3,
   "metadata": {},
   "outputs": [],
   "source": [
    "strain_dict = {'C57Bl6J': 'c57bl6j',\n",
    "               'shared': 'c57bl6j',\n",
    "               'BALBcJ': 'balbcj',\n",
    "               'AJ': 'aj'}"
   ]
  },
  {
   "cell_type": "code",
   "execution_count": 4,
   "metadata": {},
   "outputs": [],
   "source": [
    "with open('./findMotifs_poised.sh', 'w') as f:\n",
    "    for peakfile in np.sort(glob.glob('./poised_enhancers/*peaks.txt')):\n",
    "        strain = peakfile.split('/')[-1].split('_')[0]\n",
    "        call = ['/home/vlink/code/marge/bin/MMARGE.pl', 'denovo_motifs',\n",
    "                peakfile, 'mm10', peakfile.replace('_peaks.txt', '_motifs'),\n",
    "                '-len 8,10,12,14,16', '-fg_strain', strain_dict[strain],\n",
    "                '-bg_strain', strain_dict[strain], '-p 8\\n\\n']\n",
    "        f.write(' '.join(call))\n",
    "    f.close()"
   ]
  },
  {
   "cell_type": "markdown",
   "metadata": {},
   "source": [
    "Run on command line\n",
    "\n",
    "    bash ./findMotifs_poised.sh"
   ]
  },
  {
   "cell_type": "markdown",
   "metadata": {},
   "source": [
    "# Aggregate results - Homer"
   ]
  },
  {
   "cell_type": "code",
   "execution_count": 5,
   "metadata": {},
   "outputs": [],
   "source": [
    "known_motif_pval_dict = {}\n",
    "for f in np.sort(glob.glob('./poised_enhancers/*/knownResults.txt')):\n",
    "    # read in signifance values using pandas\n",
    "    frame = pd.read_csv(f, sep='\\t', index_col=0)\n",
    "    \n",
    "    # remove duplicates\n",
    "    frame = frame[~frame.index.duplicated(keep='first')]\n",
    "    pval = frame.iloc[:, 2]\n",
    "    \n",
    "    # extract name of sample\n",
    "    sample = f.split('/')[2]\n",
    "    \n",
    "    # store in dict\n",
    "    known_motif_pval_dict[sample] = pval    \n",
    "    \n",
    "# create data frame\n",
    "known_motif_pval_frame = pd.DataFrame(known_motif_pval_dict)\n",
    "\n",
    "# sort by average p value\n",
    "known_motif_pval_frame = known_motif_pval_frame.reindex(known_motif_pval_frame.mean(axis=1).sort_values().index.tolist())\n",
    "\n",
    "known_motif_pval_frame.to_csv('./homer_known_motifs_log.txt', sep='\\t')"
   ]
  },
  {
   "cell_type": "code",
   "execution_count": null,
   "metadata": {},
   "outputs": [],
   "source": []
  }
 ],
 "metadata": {
  "kernelspec": {
   "display_name": "dataviz",
   "language": "python",
   "name": "dataviz"
  },
  "language_info": {
   "codemirror_mode": {
    "name": "ipython",
    "version": 3
   },
   "file_extension": ".py",
   "mimetype": "text/x-python",
   "name": "python",
   "nbconvert_exporter": "python",
   "pygments_lexer": "ipython3",
   "version": "3.7.5"
  }
 },
 "nbformat": 4,
 "nbformat_minor": 2
}
