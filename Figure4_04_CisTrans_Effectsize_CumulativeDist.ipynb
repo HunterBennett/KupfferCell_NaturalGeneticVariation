{
 "cells": [
  {
   "cell_type": "markdown",
   "id": "regional-monroe",
   "metadata": {},
   "source": [
    "Hunter Bennett | Glass Lab | Kupffer Strains Project | 11 April 2023\n",
    "\n",
    "Notebook for analysis of cumulative distribution of effect size (log2fold change of transcription) of *cis* and *trans* genes in the parental strains.\n",
    "\n",
    "### Import packages, set plotting parameters"
   ]
  },
  {
   "cell_type": "code",
   "execution_count": 1,
   "id": "enabling-pharmacy",
   "metadata": {},
   "outputs": [],
   "source": [
    "### header ###\n",
    "__author__ = \"Hunter Bennett\"\n",
    "__license__ = \"BSD\"\n",
    "__email__ = \"hunter.r.bennett@gmail.com\"\n",
    "%load_ext autoreload\n",
    "%autoreload 2\n",
    "%matplotlib inline\n",
    "### imports ###\n",
    "import os\n",
    "import re\n",
    "import glob\n",
    "import pandas as pd\n",
    "import numpy as np\n",
    "from scipy.stats import mannwhitneyu\n",
    "import matplotlib\n",
    "import matplotlib.pyplot as plt\n",
    "import seaborn as sns"
   ]
  },
  {
   "cell_type": "markdown",
   "id": "absent-vessel",
   "metadata": {},
   "source": [
    "Set working directory"
   ]
  },
  {
   "cell_type": "code",
   "execution_count": 2,
   "id": "varied-period",
   "metadata": {},
   "outputs": [],
   "source": [
    "workingDirectory = '/home/h1bennet/strains_github/results/Figure4/'\n",
    "if not os.path.isdir(workingDirectory):\n",
    "    os.mkdir(workingDirectory)\n",
    "os.chdir(workingDirectory)"
   ]
  },
  {
   "cell_type": "code",
   "execution_count": 3,
   "id": "remarkable-blood",
   "metadata": {},
   "outputs": [],
   "source": [
    "#### PLOTTING PARAMETERS FOR MANUSCRIPT ####\n",
    "# # get matplotlib to save readable fonts\n",
    "matplotlib.rcParams['pdf.fonttype'] = 42\n",
    "matplotlib.rcParams['ps.fonttype'] = 42\n",
    "matplotlib.rcParams['font.size'] = 8\n",
    "matplotlib.rcParams['savefig.dpi'] = 500\n",
    "\n",
    "\n",
    "# line widths\n",
    "matplotlib.rcParams['axes.linewidth'] = 1\n",
    "matplotlib.rcParams['xtick.major.width'] = 1\n",
    "matplotlib.rcParams['ytick.major.width'] = 1\n",
    "\n",
    "# adjust defualt color for plots to black\n",
    "# normal default is a dark gray\n",
    "COLOR = 'black'\n",
    "matplotlib.rcParams['text.color'] = COLOR\n",
    "matplotlib.rcParams['axes.labelcolor'] = COLOR\n",
    "matplotlib.rcParams['xtick.color'] = COLOR\n",
    "matplotlib.rcParams['ytick.color'] = COLOR\n",
    "matplotlib.rcParams['axes.edgecolor'] = COLOR\n",
    "\n",
    "#### PLOT PARAMETERS FOR THIS PLOT ####"
   ]
  },
  {
   "cell_type": "markdown",
   "id": "wanted-transcription",
   "metadata": {},
   "source": [
    "Import *cis* and *trans* gene lists"
   ]
  },
  {
   "cell_type": "code",
   "execution_count": 4,
   "id": "honest-supervision",
   "metadata": {},
   "outputs": [],
   "source": [
    "f1_dict = {}\n",
    "for genelist in glob.glob('./gene_lists/*filt_pval.txt'):\n",
    "    with open(genelist, 'r') as f:\n",
    "        listid = genelist.split('/')[-1].replace('.txt','')\n",
    "        f1_dict[listid] = [i.strip() for i in f.readlines()[1:]]"
   ]
  },
  {
   "cell_type": "code",
   "execution_count": 5,
   "id": "moved-leisure",
   "metadata": {},
   "outputs": [],
   "source": [
    "all_trans = set(f1_dict['cb6f1_kupffer_trans_c57_filt_pval']).union(f1_dict['cb6f1_kupffer_trans_balb_filt_pval'])\n",
    "all_cis = set(f1_dict['cb6f1_kupffer_cis_c57_filt_pval']).union(f1_dict['cb6f1_kupffer_cis_balb_filt_pval'])"
   ]
  },
  {
   "cell_type": "markdown",
   "id": "studied-alfred",
   "metadata": {},
   "source": [
    "Import DESeq2 output with log2 fold change values for each gene"
   ]
  },
  {
   "cell_type": "code",
   "execution_count": 6,
   "id": "confident-fleet",
   "metadata": {},
   "outputs": [],
   "source": [
    "df_control = pd.read_csv('./balbcj_control.vs.c57bl6j_control.deseq.txt',\n",
    "                         sep='\\t', index_col=0)"
   ]
  },
  {
   "cell_type": "markdown",
   "id": "intended-official",
   "metadata": {},
   "source": [
    "### Look at magnitude of fold change in F0 for cis and trans genes"
   ]
  },
  {
   "cell_type": "code",
   "execution_count": 7,
   "id": "assigned-topic",
   "metadata": {},
   "outputs": [
    {
     "data": {
      "text/plain": [
       "<matplotlib.legend.Legend at 0x7f0bf0db8e50>"
      ]
     },
     "execution_count": 7,
     "metadata": {},
     "output_type": "execute_result"
    },
    {
     "data": {
      "image/png": "[encoded data removed]",
      "text/plain": [
       "<Figure size 216x216 with 1 Axes>"
      ]
     },
     "metadata": {
      "needs_background": "light"
     },
     "output_type": "display_data"
    }
   ],
   "source": [
    "fig, ax = plt.subplots(figsize=(3,3))\n",
    "\n",
    "cmap = matplotlib.cm.get_cmap('rocket')\n",
    "\n",
    "ax.scatter(np.arange(len(all_trans)),\n",
    "           np.sort(np.abs(df_control.loc[all_trans, 'log2FoldChange']))[::-1],\n",
    "           c=cmap(.4),\n",
    "           label='trans',\n",
    "           s=5)\n",
    "\n",
    "ax.scatter(np.arange(len(all_cis)),\n",
    "           np.sort(np.abs(df_control.loc[all_cis, 'log2FoldChange']))[::-1],\n",
    "           c=cmap(.6),\n",
    "           label='cis',\n",
    "           s=5)\n",
    "\n",
    "# Set axis labels\n",
    "ax.set_xlabel('Allelic FC Rank', fontsize=10)\n",
    "ax.set_ylabel('|Allelic Log2FC|', fontsize=10)\n",
    "\n",
    "# fix spines\n",
    "ax.spines['top'].set_visible(False)\n",
    "ax.spines['right'].set_visible(False)\n",
    "\n",
    "# calculate mann whitney\n",
    "stat, p = mannwhitneyu(np.sort(np.abs(df_control.loc[all_trans, 'log2FoldChange'])),\n",
    "             np.sort(np.abs(df_control.loc[all_cis, 'log2FoldChange'])))\n",
    "\n",
    "# anotate p value\n",
    "ax.text(75, 4,\n",
    "        'Mann-Whitney\\np = %.2e' % p,\n",
    "        fontsize=10)\n",
    "# annotate legend\n",
    "ax.legend(fontsize=10)"
   ]
  }
 ],
 "metadata": {
  "kernelspec": {
   "display_name": "dataviz",
   "language": "python",
   "name": "dataviz"
  },
  "language_info": {
   "codemirror_mode": {
    "name": "ipython",
    "version": 3
   },
   "file_extension": ".py",
   "mimetype": "text/x-python",
   "name": "python",
   "nbconvert_exporter": "python",
   "pygments_lexer": "ipython3",
   "version": "3.7.5"
  }
 },
 "nbformat": 4,
 "nbformat_minor": 5
}
