{
 "cells": [
  {
   "cell_type": "markdown",
   "metadata": {},
   "source": [
    "Hunter Bennett | Kupffer Strains | Glass Lab | 04 March 2023\n",
    "\n",
    "This notebook will assess motif enrichment within accessible enhancers associated with C57BL/6J or BALB/cJ specific *trans* genes\n",
    "\n",
    "### Import packages, set plotting parameters"
   ]
  },
  {
   "cell_type": "code",
   "execution_count": 1,
   "metadata": {},
   "outputs": [],
   "source": [
    "### header ###\n",
    "__author__ = \"Hunter Bennett\"\n",
    "__license__ = \"BSD\"\n",
    "__email__ = \"hunter.r.bennett@gmail.com\"\n",
    "%load_ext autoreload\n",
    "%autoreload 2\n",
    "### imports ###\n",
    "import sys\n",
    "%matplotlib inline\n",
    "import os\n",
    "import re\n",
    "import glob\n",
    "import pandas as pd\n",
    "import numpy as np\n",
    "import matplotlib\n",
    "import matplotlib.pyplot as plt \n",
    "import seaborn as sns"
   ]
  },
  {
   "cell_type": "markdown",
   "metadata": {},
   "source": [
    "Set working directory"
   ]
  },
  {
   "cell_type": "code",
   "execution_count": 2,
   "metadata": {},
   "outputs": [],
   "source": [
    "workingDirectory = '/home/h1bennet/strains_github/results/Figure5_ATAC/'\n",
    "if not os.path.isdir(workingDirectory):\n",
    "    os.mkdir(workingDirectory)\n",
    "os.chdir(workingDirectory)"
   ]
  },
  {
   "cell_type": "markdown",
   "metadata": {},
   "source": [
    "Define custom functions"
   ]
  },
  {
   "cell_type": "code",
   "execution_count": 3,
   "metadata": {},
   "outputs": [],
   "source": [
    "def read_annotated_peaks(path, filter_sex_unknown=True):\n",
    "    '''This function imports an annotated homer peak file using\n",
    "    pandas read_csv function. It also performes common preprocessing steps\n",
    "    such as placing the peak IDs in the index and filtering so that\n",
    "    only autosomal peaks are included. Also renames index to peakID.\n",
    "       \n",
    "       Accepts:\n",
    "           path (str): path to expression file\n",
    "           filter_sex_unkown (bool): filter unknown chromosomes\n",
    "           and sex chromosomes - focus analysis on autosomal chr.\n",
    "       \n",
    "       Returns:\n",
    "           df (pandas.Dataframe): genes by samples with annotation.\n",
    "           mat (pandas.DataFrame): genes by samples without annotation.\n",
    "       '''\n",
    "    # import functions\n",
    "    import pandas as pd\n",
    "\n",
    "    df = pd.read_csv(path, sep='\\t', index_col=0)\n",
    "\n",
    "    # rename index\n",
    "    df.index.rename('PeakID', inplace=True)\n",
    "    # rename sample columns so they are shorter (can add .str.split('/').str[-1] to shorten even more\n",
    "    df = df.rename(\n",
    "        columns=dict(zip(df.iloc[:, 18:].columns.values,\n",
    "                         pd.Series(df.iloc[:, 18:].columns.values).str.split(' Tag Count').str[0])))\n",
    "\n",
    "    \n",
    "    # filter unknown and sex chromosomes\n",
    "    autosomes = ['chr1', 'chr2', 'chr3', 'chr4',\n",
    "                 'chr5', 'chr6', 'chr7', 'chr8',\n",
    "                 'chr9', 'chr10', 'chr11', 'chr12',\n",
    "                 'chr13', 'chr14', 'chr15', 'chr16',\n",
    "                 'chr17', 'chr18', 'chr19']\n",
    "\n",
    "    df = df.loc[df.Chr.str.contains('|'.join(autosomes)), :]\n",
    "      \n",
    "    mat = df.iloc[:, 18:]\n",
    "        \n",
    "    return (df, mat)"
   ]
  },
  {
   "cell_type": "markdown",
   "metadata": {},
   "source": [
    "### Import files\n",
    "\n",
    "Grab list of CB6F1J *trans* genes from previous RNA-seq analysis"
   ]
  },
  {
   "cell_type": "code",
   "execution_count": 4,
   "metadata": {},
   "outputs": [],
   "source": [
    "gene_list_dict = {}\n",
    "for i in np.sort(glob.glob('../Figure4/gene_lists/cb6f1*filt_pval.txt')):\n",
    "    with open(i, 'r') as f:\n",
    "        gene_list_dict[i.split('/')[-1].replace('.txt','')]=[j.strip() for j in f.readlines()[1:]]"
   ]
  },
  {
   "cell_type": "markdown",
   "metadata": {},
   "source": [
    "Annotate poised enhancers to get nearest genes\n",
    "\n",
    "    annotatePeaks.pl ../Figure2_ATAC/poised_enhancers/BALBcJ_poised_enhancer_peaks.txt mm10 \\\n",
    "    > ./BALBcJ_poised_enhancer_peaks_ann.txt\n",
    "\n",
    "    annotatePeaks.pl ../Figure2_ATAC/poised_enhancers/BALBcJ_poised_distal_enhancer_peaks.txt mm10 \\\n",
    "    > ./BALBcJ_poised_distal_enhancer_peaks_ann.txt\n",
    "\n",
    "    annotatePeaks.pl ../Figure2_ATAC/poised_enhancers/C57Bl6J_poised_enhancer_peaks.txt mm10 \\\n",
    "    > ./C57Bl6J_poised_enhancer_peaks_ann.txt\n",
    "\n",
    "    annotatePeaks.pl ../Figure2_ATAC/poised_enhancers/C57Bl6J_poised_distal_enhancer_peaks.txt mm10 \\\n",
    "    > ./C57Bl6J_poised_distal_enhancer_peaks_ann.txt"
   ]
  },
  {
   "cell_type": "markdown",
   "metadata": {},
   "source": [
    "### Link peaks to target genes\n",
    "\n",
    "Use annotated peak files to link peaks associated with *trans* genes by nearest gene analysis"
   ]
  },
  {
   "cell_type": "code",
   "execution_count": 6,
   "metadata": {},
   "outputs": [],
   "source": [
    "if not os.path.isdir('./cis_trans_motif_calling/'):\n",
    "    os.mkdir('./cis_trans_motif_calling/')"
   ]
  },
  {
   "cell_type": "code",
   "execution_count": 7,
   "metadata": {},
   "outputs": [
    {
     "name": "stdout",
     "output_type": "stream",
     "text": [
      "C57Bl6J_poised_enhancer | trans\n",
      "genes: 61\n",
      "enhancers: 317\n",
      "enhancer genes: 56\n",
      "C57Bl6J_poised_distal_enhancer | trans\n",
      "genes: 61\n",
      "enhancers: 215\n",
      "enhancer genes: 45\n",
      "BALBcJ_poised_enhancer | trans\n",
      "genes: 63\n",
      "enhancers: 227\n",
      "enhancer genes: 66\n",
      "BALBcJ_poised_distal_enhancer | trans\n",
      "genes: 63\n",
      "enhancers: 137\n",
      "enhancer genes: 49\n"
     ]
    }
   ],
   "source": [
    "pairs = [('./C57Bl6J_poised_enhancer_peaks_ann.txt', 'cb6f1_kupffer_trans_c57_filt_pval'),\n",
    "         ('./C57Bl6J_poised_distal_enhancer_peaks_ann.txt', 'cb6f1_kupffer_trans_c57_filt_pval'),\n",
    "         ('./BALBcJ_poised_enhancer_peaks_ann.txt', 'cb6f1_kupffer_trans_balb_filt_pval'),\n",
    "         ('./BALBcJ_poised_distal_enhancer_peaks_ann.txt', 'cb6f1_kupffer_trans_balb_filt_pval')]\n",
    "\n",
    "for peakfile, key in pairs:\n",
    "    \n",
    "    file = peakfile.split('/')[-1].replace('_peaks_ann.txt', '')\n",
    "    category = key.split('_')[2]\n",
    "    \n",
    "    print(file,'|',category)\n",
    "    \n",
    "    df, mat = read_annotated_peaks(peakfile)\n",
    "    \n",
    "    trans_enhancers = df['Gene Name'].str.match('|'.join(gene_list_dict[key]))\n",
    "    print('genes: %i' % len(gene_list_dict[key]))\n",
    "    print('enhancers: %i' % trans_enhancers.sum())\n",
    "    print('enhancer genes: %i' % len(df.loc[trans_enhancers, 'Gene Name'].unique()))\n",
    "    df.loc[trans_enhancers, :].iloc[:, :5].to_csv(\n",
    "        './cis_trans_motif_calling/'+file+'_'+category+'_peaks.txt',\n",
    "        sep='\\t')"
   ]
  },
  {
   "cell_type": "markdown",
   "metadata": {},
   "source": [
    "### Call motifs in the selected peak sets using homer"
   ]
  },
  {
   "cell_type": "markdown",
   "metadata": {},
   "source": [
    "Make file for motif analysis"
   ]
  },
  {
   "cell_type": "code",
   "execution_count": 8,
   "metadata": {},
   "outputs": [],
   "source": [
    "strain_dict = {'C57Bl6J': 'c57bl6j',\n",
    "               'BALBcJ': 'balbcj',\n",
    "               'c57': 'c57bl6j',\n",
    "               'balb': 'balbcj'}"
   ]
  },
  {
   "cell_type": "code",
   "execution_count": 9,
   "metadata": {},
   "outputs": [],
   "source": [
    "with open('./findMotifs_accessible_trans_gene_enhancers_nobg.sh', 'w') as f:\n",
    "    for peakfile in np.sort(glob.glob('./cis_trans_motif_calling/*enhancer_trans_peaks*')):\n",
    "        strain = peakfile.split('/')[-1].split('_')[0]\n",
    "        call = ['/home/vlink/code/marge/bin/MMARGE.pl', 'denovo_motifs',\n",
    "                peakfile, 'mm10', peakfile.replace('_peaks.txt', '_motifs_nobg'),\n",
    "                '-fg_strain', strain_dict[strain],\n",
    "                '-bg_strain', strain_dict[strain], '-p 8\\n\\n']\n",
    "        f.write(' '.join(call))"
   ]
  },
  {
   "cell_type": "markdown",
   "metadata": {},
   "source": [
    "### Call motifs with a background peak set\n",
    "This will control for bias in Kupffer cell enhancers"
   ]
  },
  {
   "cell_type": "markdown",
   "metadata": {},
   "source": [
    "Idenfity nonspecific genes"
   ]
  },
  {
   "cell_type": "code",
   "execution_count": 10,
   "metadata": {},
   "outputs": [],
   "source": [
    "log2fc = 1\n",
    "padj = 0.05\n",
    "\n",
    "df = pd.read_csv('../Figure4/c57bl6j_control.vs.balbcj_control.deseq.txt',\n",
    "                 sep='\\t',\n",
    "                 index_col=0)\n",
    "\n",
    "nonspec_genes = df.index[(df['padj'] > padj) | (np.abs(df['log2FoldChange']) < log2fc)]"
   ]
  },
  {
   "cell_type": "markdown",
   "metadata": {},
   "source": [
    "### Set background peak set\n",
    "Background will be non-differential enhancers associated with target genes"
   ]
  },
  {
   "cell_type": "code",
   "execution_count": 11,
   "metadata": {},
   "outputs": [
    {
     "name": "stdout",
     "output_type": "stream",
     "text": [
      "C57Bl6J_poised_enhancer\n",
      "genes: 7306\n",
      "enhancers: 23492\n",
      "enhancer genes: 7103\n",
      "./cis_trans_motif_calling/C57Bl6J_poised_enhancer_nonspec_peaks.txt\n",
      "\n",
      "C57Bl6J_poised_distal_enhancer\n",
      "genes: 7306\n",
      "enhancers: 12109\n",
      "enhancer genes: 3567\n",
      "./cis_trans_motif_calling/C57Bl6J_poised_distal_enhancer_nonspec_peaks.txt\n",
      "\n",
      "BALBcJ_poised_enhancer\n",
      "genes: 7306\n",
      "enhancers: 22428\n",
      "enhancer genes: 7043\n",
      "./cis_trans_motif_calling/BALBcJ_poised_enhancer_nonspec_peaks.txt\n",
      "\n",
      "BALBcJ_poised_distal_enhancer\n",
      "genes: 7306\n",
      "enhancers: 11738\n",
      "enhancer genes: 3442\n",
      "./cis_trans_motif_calling/BALBcJ_poised_distal_enhancer_nonspec_peaks.txt\n",
      "\n"
     ]
    }
   ],
   "source": [
    "peakfiles = ['./C57Bl6J_poised_enhancer_peaks_ann.txt',\n",
    "             './C57Bl6J_poised_distal_enhancer_peaks_ann.txt',\n",
    "             './BALBcJ_poised_enhancer_peaks_ann.txt',\n",
    "             './BALBcJ_poised_distal_enhancer_peaks_ann.txt']\n",
    "\n",
    "for peakfile in peakfiles:\n",
    "    \n",
    "    file = peakfile.split('/')[-1].replace('_peaks_ann.txt', '')\n",
    "    \n",
    "    print(file)\n",
    "    \n",
    "    df, mat = read_annotated_peaks(peakfile)\n",
    "    \n",
    "    trans_enhancers = df['Gene Name'].str.match('|'.join(nonspec_genes))\n",
    "    print('genes: %i' % len(nonspec_genes))\n",
    "    print('enhancers: %i' % trans_enhancers.sum())\n",
    "    print('enhancer genes: %i' % len(df.loc[trans_enhancers, 'Gene Name'].unique()))\n",
    "    print('./cis_trans_motif_calling/'+file+'_'+'nonspec_peaks.txt')\n",
    "    print()\n",
    "    df.loc[trans_enhancers, :].iloc[:, :5].to_csv(\n",
    "        './cis_trans_motif_calling/'+file+'_'+'nonspec_peaks.txt',\n",
    "        sep='\\t')"
   ]
  },
  {
   "cell_type": "code",
   "execution_count": 12,
   "metadata": {},
   "outputs": [],
   "source": [
    "pairs = (('C57Bl6J_poised_enhancer_trans_peaks.txt',\n",
    "          'C57Bl6J_poised_enhancer_nonspec_peaks.txt'),\n",
    "         ('C57Bl6J_poised_distal_enhancer_trans_peaks.txt',\n",
    "          'C57Bl6J_poised_distal_enhancer_nonspec_peaks.txt'),\n",
    "         ('BALBcJ_poised_enhancer_trans_peaks.txt',\n",
    "          'BALBcJ_poised_enhancer_nonspec_peaks.txt'),\n",
    "         ('BALBcJ_poised_distal_enhancer_trans_peaks.txt',\n",
    "          'BALBcJ_poised_distal_enhancer_nonspec_peaks.txt'))\n",
    "\n",
    "with open('./findMotifs_accessible_trans_gene_enhancers.sh', 'w') as f:\n",
    "    for peakfile, bg in pairs:\n",
    "        strain = peakfile.split('/')[-1].split('_')[0]\n",
    "        call = ['/home/vlink/code/marge/bin/MMARGE.pl', 'denovo_motifs',\n",
    "                './cis_trans_motif_calling/'+peakfile, 'mm10',\n",
    "                './cis_trans_motif_calling/'+peakfile.replace('_peaks.txt', '_motifs'),\n",
    "                '-bg', './cis_trans_motif_calling/'+bg,\n",
    "                '-fg_strain', strain_dict[strain],\n",
    "                '-bg_strain', strain_dict[strain], '-p 8\\n\\n']\n",
    "        f.write(' '.join(call))\n",
    "        "
   ]
  },
  {
   "cell_type": "markdown",
   "metadata": {},
   "source": [
    "Run the following commands in terminal\n",
    "\n",
    "    ./findMotifs_accessible_trans_gene_enhancers_nobg.sh\n",
    "    ./findMotifs_accessible_trans_gene_enhancers.sh\n",
    "\n",
    "The *de novo* motif analysis from these is aggregated in Figure 5"
   ]
  },
  {
   "cell_type": "code",
   "execution_count": null,
   "metadata": {},
   "outputs": [],
   "source": []
  }
 ],
 "metadata": {
  "kernelspec": {
   "display_name": "dataviz",
   "language": "python",
   "name": "dataviz"
  },
  "language_info": {
   "codemirror_mode": {
    "name": "ipython",
    "version": 3
   },
   "file_extension": ".py",
   "mimetype": "text/x-python",
   "name": "python",
   "nbconvert_exporter": "python",
   "pygments_lexer": "ipython3",
   "version": "3.7.5"
  }
 },
 "nbformat": 4,
 "nbformat_minor": 2
}
