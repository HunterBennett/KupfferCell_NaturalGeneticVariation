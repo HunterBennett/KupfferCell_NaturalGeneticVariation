{
 "cells": [
  {
   "cell_type": "markdown",
   "metadata": {},
   "source": [
    "Hunter Bennett | Glass Lab | Kupffer Strains Project | 17 Feb 2023\n",
    "\n",
    "Notebook to assess F1 ATAC-seq data quality and assess for batch effects"
   ]
  },
  {
   "cell_type": "markdown",
   "metadata": {},
   "source": [
    "### Load packages, set plot parameters"
   ]
  },
  {
   "cell_type": "code",
   "execution_count": 1,
   "metadata": {},
   "outputs": [],
   "source": [
    "### header ###\n",
    "__author__ = \"Hunter Bennett\"\n",
    "__license__ = \"BSD\"\n",
    "__email__ = \"hunter.r.bennett@gmail.com\"\n",
    "%load_ext autoreload\n",
    "%autoreload 2\n",
    "### imports ###\n",
    "%matplotlib inline\n",
    "import os\n",
    "import re\n",
    "import glob\n",
    "import pandas as pd\n",
    "import numpy as np\n",
    "import matplotlib\n",
    "import matplotlib.pyplot as plt \n",
    "import matplotlib_venn as venn\n",
    "import seaborn as sns\n",
    "from itertools import combinations, permutations\n",
    "from scipy.stats import pearsonr"
   ]
  },
  {
   "cell_type": "markdown",
   "metadata": {},
   "source": [
    "Set working directory"
   ]
  },
  {
   "cell_type": "code",
   "execution_count": 2,
   "metadata": {},
   "outputs": [],
   "source": [
    "workingDirectory = '/home/h1bennet/strains_github/results/Figure5_ATAC/'\n",
    "if not os.path.isdir(workingDirectory):\n",
    "    os.mkdir(workingDirectory)\n",
    "os.chdir(workingDirectory)"
   ]
  },
  {
   "cell_type": "markdown",
   "metadata": {},
   "source": [
    "Define custom functions"
   ]
  },
  {
   "cell_type": "code",
   "execution_count": 3,
   "metadata": {},
   "outputs": [],
   "source": [
    "def label_point(x, y, val, ax, fontsize=12, color='k', plot_points=False, pointsize=8, pointcolor='b'):\n",
    "    '''This function makes it easier to overlay plotted points onto a matplotlib\n",
    "    axes object. Allows for customization of fontsize and color and pointsize and\n",
    "    point color.\n",
    "\n",
    "        Accepts:\n",
    "            x (int): list of x axis coordinates on plot\n",
    "            y (int): list of y axis coordinates on plot\n",
    "            val (str): list of text labels\n",
    "            fontsize (int): size of fonts\n",
    "            color (str): color of text\n",
    "            plot_points (bool): whether to add points over text\n",
    "            pointsize (int): size of points\n",
    "            pointcolor (str): color of points\n",
    "  \n",
    "        Returns:\n",
    "            None'''\n",
    " \n",
    "\n",
    "    # import packages\n",
    "    import matplotlib.pyplot as plt\n",
    "    \n",
    "    # plot over points\n",
    "    if plot_points:\n",
    "        for (xval, yval) in zip(x, y):\n",
    "            ax.plot(xval, yval, markersize=pointsize, color=pointcolor)\n",
    "\n",
    "    # plot over text\n",
    "    for (xval, yval, text) in zip(x, y, val):\n",
    "        ax.text(xval, yval, str(text), fontsize=fontsize)\n",
    "        \n",
    "def pca_rpkm_mat(rpkm, group_labels, n_pca=10, plot_size=8, legend=True):\n",
    "    '''This function takes a pandas DF of rpkm values (genes x samples) with\n",
    "    genes as the index and sample names as the column names and runs a simple\n",
    "    PCA analysis.\n",
    "    Accepts: \n",
    "    rpkm: gene x n_sample matrix of rpkm values\n",
    "    group_labels: n_sample length array of group labels\n",
    "    n_pca: number of principal components to analyze\n",
    "    legend (bool): whether to plot legend\n",
    "    Returns:\n",
    "    tpm_pca_df: dataframe of principal components per each sample\n",
    "    exp_var: array of explained variances for each PC\n",
    "    '''\n",
    "    \n",
    "    # import packages\n",
    "    import pandas as pd\n",
    "    import numpy as np\n",
    "    import seaborn as sns\n",
    "    # Import packages for PCA analysis\n",
    "    from sklearn.preprocessing import StandardScaler\n",
    "    from sklearn.decomposition import PCA # uses SVD\n",
    "    \n",
    "    # scale data\n",
    "    tpm_std = StandardScaler().fit_transform(rpkm)\n",
    "    # run PCA\n",
    "    pca = PCA(n_components=n_pca)\n",
    "    tpm_pca = pca.fit_transform(tpm_std.T)\n",
    "    exp_var = pca.explained_variance_ratio_\n",
    "    \n",
    "    #create df for plotting\n",
    "    tpm_pca_df = pd.DataFrame(tpm_pca,\n",
    "                              columns=['PC'+str(i) for i in np.arange(1,tpm_pca.shape[1]+1)],\n",
    "                              index=(group_labels))\n",
    "    tpm_pca_df.index.rename('group', inplace=True)\n",
    "    tpm_pca_df.reset_index(inplace=True)\n",
    "    \n",
    "    ax = sns.lmplot('PC1', 'PC2', tpm_pca_df, fit_reg=False,\n",
    "                hue='group', # palette=color_dict,\n",
    "                height=plot_size, scatter_kws={'s': 150},\n",
    "                legend=legend)\n",
    "    ax.set(xlabel=('PC1 %.2f' % exp_var[0]), ylabel=('PC2 %.2f' % exp_var[1]))\n",
    "    \n",
    "    # return weights of each gene  \n",
    "    transcript_pc = pd.DataFrame(pca.components_.T,\n",
    "                                 rpkm.index,\n",
    "                                 columns=['PC'+str(i) for i in np.arange(1,tpm_pca.shape[1]+1)])    \n",
    "\n",
    "    return tpm_pca_df, exp_var, transcript_pc\n",
    "\n",
    "def read_annotated_peaks(path, filter_sex_unknown=True):\n",
    "    '''This function imports an annotated homer peak file using\n",
    "    pandas read_csv function. It also performes common preprocessing steps\n",
    "    such as placing the peak IDs in the index and filtering so that\n",
    "    only autosomal peaks are included. Also renames index to peakID.\n",
    "       \n",
    "       Accepts:\n",
    "           path (str): path to expression file\n",
    "           filter_sex_unkown (bool): filter unknown chromosomes\n",
    "           and sex chromosomes - focus analysis on autosomal chr.\n",
    "       \n",
    "       Returns:\n",
    "           df (pandas.Dataframe): genes by samples with annotation.\n",
    "           mat (pandas.DataFrame): genes by samples without annotation.\n",
    "       '''\n",
    "    # import functions\n",
    "    import pandas as pd\n",
    "\n",
    "    df = pd.read_csv(path, sep='\\t', index_col=0)\n",
    "\n",
    "    # rename index\n",
    "    df.index.rename('PeakID', inplace=True)\n",
    "    # rename sample columns so they are shorter (can add .str.split('/').str[-1] to shorten even more\n",
    "    df = df.rename(\n",
    "        columns=dict(zip(df.iloc[:, 18:].columns.values,\n",
    "                         pd.Series(df.iloc[:, 18:].columns.values).str.split(' Tag Count').str[0])))\n",
    "\n",
    "    \n",
    "    # filter unknown and sex chromosomes\n",
    "    autosomes = ['chr1', 'chr2', 'chr3', 'chr4',\n",
    "                 'chr5', 'chr6', 'chr7', 'chr8',\n",
    "                 'chr9', 'chr10', 'chr11', 'chr12',\n",
    "                 'chr13', 'chr14', 'chr15', 'chr16',\n",
    "                 'chr17', 'chr18', 'chr19']\n",
    "\n",
    "    df = df.loc[df.Chr.str.contains('|'.join(autosomes)), :]\n",
    "      \n",
    "    mat = df.iloc[:, 18:]\n",
    "        \n",
    "    return (df, mat)"
   ]
  },
  {
   "cell_type": "code",
   "execution_count": 4,
   "metadata": {},
   "outputs": [],
   "source": [
    "#### PLOTTING PARAMETERS FOR MANUSCRIPT ####\n",
    "# # get matplotlib to save readable fonts\n",
    "matplotlib.rcParams['pdf.fonttype'] = 42\n",
    "matplotlib.rcParams['ps.fonttype'] = 42\n",
    "matplotlib.rcParams['font.size'] = 8\n",
    "matplotlib.rcParams['savefig.dpi'] = 500\n",
    "\n",
    "# line widths\n",
    "matplotlib.rcParams['axes.linewidth'] = 1\n",
    "matplotlib.rcParams['xtick.major.width'] = 1\n",
    "matplotlib.rcParams['ytick.major.width'] = 1\n",
    "\n",
    "# adjust defualt color for plots to black\n",
    "# normal default is a dark gray\n",
    "COLOR = 'black'\n",
    "matplotlib.rcParams['text.color'] = COLOR\n",
    "matplotlib.rcParams['axes.labelcolor'] = COLOR\n",
    "matplotlib.rcParams['xtick.color'] = COLOR\n",
    "matplotlib.rcParams['ytick.color'] = COLOR\n",
    "matplotlib.rcParams['axes.edgecolor'] = COLOR\n",
    "\n",
    "#### PLOT PARAMETERS FOR THIS PLOT ####\n",
    "plt.rcParams[\"axes.labelsize\"] = 10\n",
    "plt.rcParams[\"xtick.labelsize\"] = 8\n",
    "plt.rcParams[\"ytick.labelsize\"] = 8"
   ]
  },
  {
   "cell_type": "markdown",
   "metadata": {},
   "source": [
    "Import annotated peak files"
   ]
  },
  {
   "cell_type": "code",
   "execution_count": 5,
   "metadata": {},
   "outputs": [],
   "source": [
    "df = pd.read_csv('https://zenodo.org/record/7829622/files/f1_idr_peaks_atac_norm.txt', sep='\\t', index_col=0)\n",
    "df.to_csv('./f1_idr_peaks_atac_norm.txt', sep='\\t')\n",
    "\n",
    "df = pd.read_csv('https://zenodo.org/record/7829622/files/f1_idr_peaks_atac_raw.txt', sep='\\t', index_col=0)\n",
    "df.to_csv('./f1_idr_peaks_atac_raw.txt', sep='\\t')"
   ]
  },
  {
   "cell_type": "markdown",
   "metadata": {},
   "source": [
    "# Descriptive analysis of data quality\n",
    "1. Mean variance plot\n",
    "2. Principal component analysis"
   ]
  },
  {
   "cell_type": "markdown",
   "metadata": {},
   "source": [
    "Read in annotated peak files"
   ]
  },
  {
   "cell_type": "code",
   "execution_count": 6,
   "metadata": {},
   "outputs": [],
   "source": [
    "# import annotation file\n",
    "df, mat = read_annotated_peaks('./f1_idr_peaks_atac_norm.txt')"
   ]
  },
  {
   "cell_type": "markdown",
   "metadata": {},
   "source": [
    "Lets start by looking at the peak intensity distribution for each sample."
   ]
  },
  {
   "cell_type": "code",
   "execution_count": 7,
   "metadata": {},
   "outputs": [],
   "source": [
    "greps = ['.*tag_perfect_mm10',\n",
    "         '.*tag_perfect_balbcj',\n",
    "         '.*only_muts_mm10',\n",
    "         '.*only_muts_balbcj']\n",
    "\n",
    "labels = ['C57BL6J Tag Perfect',\n",
    "          'BALBcJ Tag Perfect',\n",
    "          'C57BL6J Mutation Spanning',\n",
    "          'BALBcJ Mutation Spanning']\n",
    "\n",
    "colors = ['#31a354',\n",
    "          '#3182bd',\n",
    "          '#006d2c',\n",
    "          '#08519c']\n",
    "\n",
    "n_bins=20\n",
    "transparency=0.6"
   ]
  },
  {
   "cell_type": "code",
   "execution_count": 8,
   "metadata": {},
   "outputs": [
    {
     "data": {
      "image/png": "[encoded data removed]",
      "text/plain": [
       "<Figure size 432x432 with 4 Axes>"
      ]
     },
     "metadata": {
      "needs_background": "light"
     },
     "output_type": "display_data"
    }
   ],
   "source": [
    "fig, axs = plt.subplots(2, 2, figsize=(6,6),\n",
    "                        sharex=True,\n",
    "                        sharey=True)\n",
    "# plt.subplots_adjust(hspace=0.4, wspace=0.4)\n",
    "\n",
    "for grep, label, color, ax in zip(greps, labels, colors, axs.flat):\n",
    "    \n",
    "    for col in mat.columns[mat.columns.str.contains(grep)]:\n",
    "        ax.hist(np.log2(mat.loc[:, col]+1),\n",
    "                bins=n_bins,\n",
    "                histtype='bar',\n",
    "                color=color,\n",
    "                alpha=transparency);\n",
    "        ax.set_title(label, fontsize=10)"
   ]
  },
  {
   "cell_type": "markdown",
   "metadata": {},
   "source": [
    "Zeros appear to dominate the above plot so lets try while filtering out peaks with less than 4 tag counts"
   ]
  },
  {
   "cell_type": "code",
   "execution_count": 9,
   "metadata": {},
   "outputs": [
    {
     "data": {
      "image/png": "[encoded data removed]",
      "text/plain": [
       "<Figure size 432x432 with 4 Axes>"
      ]
     },
     "metadata": {
      "needs_background": "light"
     },
     "output_type": "display_data"
    }
   ],
   "source": [
    "fig, axs = plt.subplots(2, 2, figsize=(6,6),\n",
    "                        sharex=True,\n",
    "                        sharey=True)\n",
    "# plt.subplots_adjust(hspace=0.4, wspace=0.4)\n",
    "\n",
    "for grep, label, color, ax in zip(greps, labels, colors, axs.flat):\n",
    "    \n",
    "    for col in mat.columns[mat.columns.str.contains(grep)]:\n",
    "        ax.hist(np.log2(mat.loc[:, col]+1),\n",
    "                bins=n_bins,\n",
    "                histtype='bar',\n",
    "                color=color,\n",
    "                alpha=transparency,\n",
    "                range=[4,12]);\n",
    "        ax.set_title(label, fontsize=10)"
   ]
  },
  {
   "cell_type": "markdown",
   "metadata": {},
   "source": [
    "### How do they look when plotted in a pairwise fashion?"
   ]
  },
  {
   "cell_type": "code",
   "execution_count": 10,
   "metadata": {},
   "outputs": [
    {
     "data": {
      "text/plain": [
       "Text(0.5,1,'Mutation Spanning')"
      ]
     },
     "execution_count": 10,
     "metadata": {},
     "output_type": "execute_result"
    },
    {
     "data": {
      "image/png": "[encoded data removed]",
      "text/plain": [
       "<Figure size 432x216 with 2 Axes>"
      ]
     },
     "metadata": {
      "needs_background": "light"
     },
     "output_type": "display_data"
    }
   ],
   "source": [
    "fig, axs = plt.subplots(1, 2, figsize=(6,3),\n",
    "                        sharex=True,\n",
    "                        sharey=True)\n",
    "\n",
    "axs[0].scatter(np.log2(mat.loc[:, mat.columns.str.contains('.*tag_perfect_mm10')].mean(1)+1),\n",
    "               np.log2(mat.loc[:, mat.columns.str.contains('.*tag_perfect_balbcj')].mean(1)+1),\n",
    "               s=2,\n",
    "               rasterized=True)\n",
    "\n",
    "axs[0].text(0.5,11.5, 'R: %.2f' % pearsonr(\n",
    "    np.log2(mat.loc[:, mat.columns.str.contains('.*tag_perfect_mm10')].mean(1)+1),\n",
    "    np.log2(mat.loc[:, mat.columns.str.contains('.*tag_perfect_balbcj')].mean(1)+1))[0],\n",
    "    fontsize=10)\n",
    "\n",
    "axs[0].set_xlabel('C57 Aligned Tags')\n",
    "axs[0].set_ylabel('BALB Aligned Tags')\n",
    "axs[0].set_title('Perfectly Aligned')\n",
    "\n",
    "axs[1].scatter(np.log2(mat.loc[:, mat.columns.str.contains('.*only_muts_mm10')].mean(1)+1),\n",
    "               np.log2(mat.loc[:, mat.columns.str.contains('.*only_muts_balbcj')].mean(1)+1),\n",
    "               s=2,\n",
    "               rasterized=True)\n",
    "\n",
    "axs[1].text(0.5,11.5, 'R: %.2f' % pearsonr(\n",
    "    np.log2(mat.loc[:, mat.columns.str.contains('.*only_muts_mm10')].mean(1)+1),\n",
    "    np.log2(mat.loc[:, mat.columns.str.contains('.*only_muts_balbcj')].mean(1)+1))[0],\n",
    "    fontsize=10)\n",
    "\n",
    "axs[1].set_xlabel('C57 Aligned Tags')\n",
    "# axs[1].set_ylabel('BALB Aligned Tags')\n",
    "axs[1].set_title('Mutation Spanning')\n"
   ]
  },
  {
   "cell_type": "markdown",
   "metadata": {},
   "source": [
    "### Principal Component Analysis\n",
    "Create sample ID data frame for ease of plotting. In our case we will extract the metadata from the smaple names themselves to create our sample info data frame"
   ]
  },
  {
   "cell_type": "code",
   "execution_count": 11,
   "metadata": {},
   "outputs": [
    {
     "data": {
      "image/png": "[encoded data removed]",
      "text/plain": [
       "<Figure size 393.3x288 with 1 Axes>"
      ]
     },
     "metadata": {
      "needs_background": "light"
     },
     "output_type": "display_data"
    }
   ],
   "source": [
    "pca, exp_var, pcs = pca_rpkm_mat(rpkm=mat,\n",
    "                                 group_labels=mat.columns.str[33:],\n",
    "                                 plot_size=4,\n",
    "                                 n_pca=3)\n",
    "\n",
    "label_point(pca.PC1,\n",
    "            pca.PC2,\n",
    "            mat.columns.str[28:32],\n",
    "            plt.gca())"
   ]
  },
  {
   "cell_type": "code",
   "execution_count": null,
   "metadata": {},
   "outputs": [],
   "source": []
  }
 ],
 "metadata": {
  "kernelspec": {
   "display_name": "dataviz",
   "language": "python",
   "name": "dataviz"
  },
  "language_info": {
   "codemirror_mode": {
    "name": "ipython",
    "version": 3
   },
   "file_extension": ".py",
   "mimetype": "text/x-python",
   "name": "python",
   "nbconvert_exporter": "python",
   "pygments_lexer": "ipython3",
   "version": "3.7.5"
  }
 },
 "nbformat": 4,
 "nbformat_minor": 2
}
