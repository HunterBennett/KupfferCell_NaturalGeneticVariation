{
 "cells": [
  {
   "cell_type": "markdown",
   "metadata": {},
   "source": [
    "Hunter Bennett | Glass Lab | Kupffer Strains Project\n",
    "\n",
    "Notebook to examine data quality and identify poised enhancers from annotated set of merged peaks. PCA plots compiled in **Extended Data Figure 3**"
   ]
  },
  {
   "cell_type": "markdown",
   "metadata": {},
   "source": [
    "### Load packages, set plot parameters"
   ]
  },
  {
   "cell_type": "code",
   "execution_count": 1,
   "metadata": {},
   "outputs": [],
   "source": [
    "### header ###\n",
    "__author__ = \"Hunter Bennett\"\n",
    "__license__ = \"BSD\"\n",
    "__email__ = \"hunter.r.bennett@gmail.com\"\n",
    "%load_ext autoreload\n",
    "%autoreload 2\n",
    "### imports ###\n",
    "import sys\n",
    "%matplotlib inline\n",
    "import os\n",
    "import re\n",
    "import glob\n",
    "import pandas as pd\n",
    "import numpy as np\n",
    "import matplotlib\n",
    "import matplotlib.pyplot as plt \n",
    "import matplotlib_venn as venn\n",
    "import seaborn as sns"
   ]
  },
  {
   "cell_type": "markdown",
   "metadata": {},
   "source": [
    "Set working directory"
   ]
  },
  {
   "cell_type": "code",
   "execution_count": 2,
   "metadata": {},
   "outputs": [],
   "source": [
    "workingDirectory = '/home/h1bennet/strains_github/results/Figure2_ATAC/' # user will need to set own wd\n",
    "workingDirectory = './Figure2_ATAC/'\n",
    "if not os.path.isdir(workingDirectory):\n",
    "    os.mkdir(workingDirectory)\n",
    "os.chdir(workingDirectory)"
   ]
  },
  {
   "cell_type": "markdown",
   "metadata": {},
   "source": [
    "Define custom functions"
   ]
  },
  {
   "cell_type": "code",
   "execution_count": 3,
   "metadata": {},
   "outputs": [],
   "source": [
    "def label_point(x, y, val, ax, fontsize=12, color='k', plot_points=False, pointsize=8, pointcolor='b'):\n",
    "    '''This function makes it easier to overlay plotted points onto a matplotlib\n",
    "    axes object. Allows for customization of fontsize and color and pointsize and\n",
    "    point color.\n",
    "\n",
    "        Accepts:\n",
    "            x (int): list of x axis coordinates on plot\n",
    "            y (int): list of y axis coordinates on plot\n",
    "            val (str): list of text labels\n",
    "            fontsize (int): size of fonts\n",
    "            color (str): color of text\n",
    "            plot_points (bool): whether to add points over text\n",
    "            pointsize (int): size of points\n",
    "            pointcolor (str): color of points\n",
    "  \n",
    "        Returns:\n",
    "            None'''\n",
    " \n",
    "\n",
    "    # import packages\n",
    "    import matplotlib.pyplot as plt\n",
    "    \n",
    "    # plot over points\n",
    "    if plot_points:\n",
    "        for (xval, yval) in zip(x, y):\n",
    "            ax.plot(xval, yval, markersize=pointsize, color=pointcolor)\n",
    "\n",
    "    # plot over text\n",
    "    for (xval, yval, text) in zip(x, y, val):\n",
    "        ax.text(xval, yval, str(text), fontsize=fontsize)\n",
    "        \n",
    "def pca_rpkm_mat(rpkm, group_labels, n_pca=10, plot_size=8, legend=True):\n",
    "    '''This function takes a pandas DF of rpkm values (genes x samples) with\n",
    "    genes as the index and sample names as the column names and runs a simple\n",
    "    PCA analysis.\n",
    "    Accepts: \n",
    "    rpkm: gene x n_sample matrix of rpkm values\n",
    "    group_labels: n_sample length array of group labels\n",
    "    n_pca: number of principal components to analyze\n",
    "    legend (bool): whether to plot legend\n",
    "    Returns:\n",
    "    tpm_pca_df: dataframe of principal components per each sample\n",
    "    exp_var: array of explained variances for each PC\n",
    "    '''\n",
    "    \n",
    "    # import packages\n",
    "    import pandas as pd\n",
    "    import numpy as np\n",
    "    import seaborn as sns\n",
    "    # Import packages for PCA analysis\n",
    "    from sklearn.preprocessing import StandardScaler\n",
    "    from sklearn.decomposition import PCA # uses SVD\n",
    "    \n",
    "    # scale data\n",
    "    tpm_std = StandardScaler().fit_transform(rpkm)\n",
    "    # run PCA\n",
    "    pca = PCA(n_components=n_pca)\n",
    "    tpm_pca = pca.fit_transform(tpm_std.T)\n",
    "    exp_var = pca.explained_variance_ratio_\n",
    "    \n",
    "    #create df for plotting\n",
    "    tpm_pca_df = pd.DataFrame(tpm_pca,\n",
    "                              columns=['PC'+str(i) for i in np.arange(1,tpm_pca.shape[1]+1)],\n",
    "                              index=(group_labels))\n",
    "    tpm_pca_df.index.rename('group', inplace=True)\n",
    "    tpm_pca_df.reset_index(inplace=True)\n",
    "    \n",
    "    ax = sns.lmplot('PC1', 'PC2', tpm_pca_df, fit_reg=False,\n",
    "                hue='group', # palette=color_dict,\n",
    "                height=plot_size, scatter_kws={'s': 150},\n",
    "                legend=legend)\n",
    "    ax.set(xlabel=('PC1 %.2f' % exp_var[0]), ylabel=('PC2 %.2f' % exp_var[1]))\n",
    "    \n",
    "    # return weights of each gene  \n",
    "    transcript_pc = pd.DataFrame(pca.components_.T,\n",
    "                                 rpkm.index,\n",
    "                                 columns=['PC'+str(i) for i in np.arange(1,tpm_pca.shape[1]+1)])    \n",
    "\n",
    "    return tpm_pca_df, exp_var, transcript_pc\n",
    "\n",
    "def read_annotated_peaks(path, filter_sex_unknown=True):\n",
    "    '''This function imports an annotated homer peak file using\n",
    "    pandas read_csv function. It also performes common preprocessing steps\n",
    "    such as placing the peak IDs in the index and filtering so that\n",
    "    only autosomal peaks are included. Also renames index to peakID.\n",
    "       \n",
    "       Accepts:\n",
    "           path (str): path to expression file\n",
    "           filter_sex_unkown (bool): filter unknown chromosomes\n",
    "           and sex chromosomes - focus analysis on autosomal chr.\n",
    "       \n",
    "       Returns:\n",
    "           df (pandas.Dataframe): genes by samples with annotation.\n",
    "           mat (pandas.DataFrame): genes by samples without annotation.\n",
    "       '''\n",
    "    # import functions\n",
    "    import pandas as pd\n",
    "\n",
    "    df = pd.read_csv(path, sep='\\t', index_col=0)\n",
    "\n",
    "    # rename index\n",
    "    df.index.rename('PeakID', inplace=True)\n",
    "    # rename sample columns so they are shorter (can add .str.split('/').str[-1] to shorten even more\n",
    "    df = df.rename(\n",
    "        columns=dict(zip(df.iloc[:, 18:].columns.values,\n",
    "                         pd.Series(df.iloc[:, 18:].columns.values).str.split(' Tag Count').str[0])))\n",
    "\n",
    "    \n",
    "    # filter unknown and sex chromosomes\n",
    "    autosomes = ['chr1', 'chr2', 'chr3', 'chr4',\n",
    "                 'chr5', 'chr6', 'chr7', 'chr8',\n",
    "                 'chr9', 'chr10', 'chr11', 'chr12',\n",
    "                 'chr13', 'chr14', 'chr15', 'chr16',\n",
    "                 'chr17', 'chr18', 'chr19']\n",
    "\n",
    "    df = df.loc[df.Chr.str.contains('|'.join(autosomes)), :]\n",
    "      \n",
    "    mat = df.iloc[:, 18:]\n",
    "        \n",
    "    return (df, mat)"
   ]
  },
  {
   "cell_type": "code",
   "execution_count": 4,
   "metadata": {},
   "outputs": [],
   "source": [
    "#### PLOTTING PARAMETERS FOR MANUSCRIPT ####\n",
    "# # get matplotlib to save readable fonts\n",
    "matplotlib.rcParams['pdf.fonttype'] = 42\n",
    "matplotlib.rcParams['ps.fonttype'] = 42\n",
    "matplotlib.rcParams['font.size'] = 8\n",
    "matplotlib.rcParams['savefig.dpi'] = 500\n",
    "\n",
    "# line widths\n",
    "matplotlib.rcParams['axes.linewidth'] = 1\n",
    "matplotlib.rcParams['xtick.major.width'] = 1\n",
    "matplotlib.rcParams['ytick.major.width'] = 1\n",
    "\n",
    "# adjust defualt color for plots to black\n",
    "# normal default is a dark gray\n",
    "COLOR = 'black'\n",
    "matplotlib.rcParams['text.color'] = COLOR\n",
    "matplotlib.rcParams['axes.labelcolor'] = COLOR\n",
    "matplotlib.rcParams['xtick.color'] = COLOR\n",
    "matplotlib.rcParams['ytick.color'] = COLOR\n",
    "matplotlib.rcParams['axes.edgecolor'] = COLOR\n",
    "\n",
    "#### PLOT PARAMETERS FOR THIS PLOT ####\n",
    "plt.rcParams[\"axes.labelsize\"] = 10\n",
    "plt.rcParams[\"xtick.labelsize\"] = 8\n",
    "plt.rcParams[\"ytick.labelsize\"] = 8"
   ]
  },
  {
   "cell_type": "markdown",
   "metadata": {},
   "source": [
    "# Descriptive analysis of data quality\n",
    "1. Mean variance plot\n",
    "2. Principal component analysis"
   ]
  },
  {
   "cell_type": "markdown",
   "metadata": {},
   "source": [
    "Make folder for plots"
   ]
  },
  {
   "cell_type": "code",
   "execution_count": 5,
   "metadata": {},
   "outputs": [],
   "source": [
    "if not os.path.isdir('./figures'):\n",
    "    os.mkdir('./figures')"
   ]
  },
  {
   "cell_type": "markdown",
   "metadata": {},
   "source": [
    "Read in annotated peak files"
   ]
  },
  {
   "cell_type": "code",
   "execution_count": 6,
   "metadata": {},
   "outputs": [],
   "source": [
    "# import annotation file\n",
    "df, mat = read_annotated_peaks(\n",
    "    'https://zenodo.org/record/7829622/files/idr_peaks_atac_norm.txt') # change to zenodo url\n",
    "\n",
    "df.to_csv('./idr_peaks_atac_norm.txt', sep='\\t') # save for use in future scripts"
   ]
  },
  {
   "cell_type": "markdown",
   "metadata": {},
   "source": [
    "Filter low tag peaks - using group based average tag filter"
   ]
  },
  {
   "cell_type": "code",
   "execution_count": 7,
   "metadata": {},
   "outputs": [
    {
     "name": "stdout",
     "output_type": "stream",
     "text": [
      "84264 total peaks\n",
      "filtering low tag count peaks\n",
      "79421 total peaks\n"
     ]
    }
   ],
   "source": [
    "min_tag = 5 # set minimum average normalized tags per peak\n",
    "\n",
    "print(mat.shape[0], 'total peaks')\n",
    "print('filtering low tag count peaks')\n",
    "groups=[mat.columns.str.contains('AJ_Kupffer_Control'),\n",
    "        mat.columns.str.contains('BALBcJ_Kupffer_Control'),\n",
    "        mat.columns.str.contains('C57_Kupffer_Control')]\n",
    "peaks = []\n",
    "for group in groups:\n",
    "    peaks.extend(mat.loc[mat.loc[:, group].mean(1) > min_tag, :].index.tolist())\n",
    "mat = mat.reindex(list(set(peaks)))\n",
    "mat = mat.dropna(how='all')\n",
    "print(mat.shape[0], 'total peaks')"
   ]
  },
  {
   "cell_type": "markdown",
   "metadata": {},
   "source": [
    "### Mean variance plot"
   ]
  },
  {
   "cell_type": "code",
   "execution_count": 8,
   "metadata": {},
   "outputs": [
    {
     "data": {
      "image/png": "[encoded data removed]",
      "text/plain": [
       "<Figure size 432x288 with 1 Axes>"
      ]
     },
     "metadata": {
      "needs_background": "light"
     },
     "output_type": "display_data"
    }
   ],
   "source": [
    "ax = plt.scatter(mat.mean(), mat.var())\n",
    "plt.xlabel('Average Peak Tags')\n",
    "plt.ylabel('Peak Tag Variance')\n",
    "label_point(mat.mean(),\n",
    "            mat.var(),\n",
    "            mat.columns,\n",
    "            plt.gca())"
   ]
  },
  {
   "cell_type": "markdown",
   "metadata": {},
   "source": [
    "### Principal Component Analysis\n",
    "Create sample ID data frame for ease of plotting. In our case we will extract the metadata from the smaple names themselves to create our sample info data frame"
   ]
  },
  {
   "cell_type": "code",
   "execution_count": 9,
   "metadata": {
    "scrolled": false
   },
   "outputs": [
    {
     "data": {
      "image/png": "[encoded data removed]",
      "text/plain": [
       "<Figure size 627.175x504 with 1 Axes>"
      ]
     },
     "metadata": {
      "needs_background": "light"
     },
     "output_type": "display_data"
    }
   ],
   "source": [
    "pca, exp_var, pcs = pca_rpkm_mat(rpkm=mat,\n",
    "                                 group_labels=mat.columns.str[5:-5],\n",
    "                                 plot_size=7,\n",
    "                                 n_pca=3)\n",
    "\n",
    "label_point(pca.PC1,\n",
    "            pca.PC2,\n",
    "            mat.columns.str[-4:],\n",
    "            plt.gca())\n"
   ]
  },
  {
   "cell_type": "markdown",
   "metadata": {},
   "source": [
    "# Assess degree of strain specific overlap of open enhancers\n",
    "\n",
    "To do this we will create a list of peaks exceeding a certain tag thershold that we define as open (in this case 2^4 tags), and compare the degree to which these overlap amongst the strains."
   ]
  },
  {
   "cell_type": "code",
   "execution_count": 10,
   "metadata": {},
   "outputs": [],
   "source": [
    "# generate data frame with average tags per strain\n",
    "groups = ['AJ', 'BALBcJ', 'C57Bl6J']\n",
    "columns = [mat.columns.str.contains('AJ_Kupffer_Control'),\n",
    "           mat.columns.str.contains('BALBcJ_Kupffer_Control'),\n",
    "           mat.columns.str.contains('C57_Kupffer_Control')]\n",
    "\n",
    "avg_tags = {}\n",
    "\n",
    "for group, col in zip(groups, columns):\n",
    "    avg_tags[group] = mat.loc[:, col].mean(1)\n",
    "    \n",
    "avg_tags_df = pd.DataFrame(avg_tags)\n",
    "\n",
    "# create list of peaks exceeding tag threshold for venn diagram comparison\n",
    "thresh=16\n",
    "\n",
    "peak_dict = {}\n",
    "for col in avg_tags_df.columns:\n",
    "    peak_dict[col] = avg_tags_df.index[avg_tags_df[col]>thresh].tolist()"
   ]
  },
  {
   "cell_type": "markdown",
   "metadata": {},
   "source": [
    "Plot as venn diagram"
   ]
  },
  {
   "cell_type": "code",
   "execution_count": 11,
   "metadata": {},
   "outputs": [
    {
     "data": {
      "image/png": "[encoded data removed]",
      "text/plain": [
       "<Figure size 288x288 with 1 Axes>"
      ]
     },
     "metadata": {},
     "output_type": "display_data"
    }
   ],
   "source": [
    "fig, ax = plt.subplots(figsize=(4,4))\n",
    "\n",
    "# venn3 accepts a list with the following order\n",
    "# (100, 010, 110, 001, 101, 011, 111)\n",
    "# group1, group2, group1+2, group3, group1+3, group2+3, group3\n",
    "venn.venn3(subsets=[set(peak_dict['AJ']),\n",
    "                    set(peak_dict['BALBcJ']),\n",
    "                    set(peak_dict['C57Bl6J'])],\n",
    "      set_colors=('#a50f15', '#08519c', '#006d2c'),\n",
    "      set_labels=('A/J', 'BALB/cJ', 'C57BL/6J'),\n",
    "      alpha=0.5,\n",
    "      ax=ax)\n",
    "ax.set_title('Poised Enhancers (ATAC Tags > %d)' % thresh);"
   ]
  },
  {
   "cell_type": "markdown",
   "metadata": {},
   "source": [
    "# Write 'poised' enhancers out for analysis with HOMER\n",
    "___\n",
    "Should use the same threshold as venn diagram above"
   ]
  },
  {
   "cell_type": "code",
   "execution_count": 12,
   "metadata": {},
   "outputs": [],
   "source": [
    "if not os.path.isdir('./poised_enhancers/'):\n",
    "    os.mkdir('./poised_enhancers/')"
   ]
  },
  {
   "cell_type": "markdown",
   "metadata": {},
   "source": [
    "Select distal peaks"
   ]
  },
  {
   "cell_type": "code",
   "execution_count": 13,
   "metadata": {},
   "outputs": [],
   "source": [
    "df_distal = df.loc[np.abs(df['Distance to TSS']) > 3*10**3, :]"
   ]
  },
  {
   "cell_type": "markdown",
   "metadata": {},
   "source": [
    "if np.NaN get introduced into the matrix then it converts 'int' type columns to 'float' type columns, this is not ideal and interferes with downstream peak analysis so we create a dict to change the start and end columns back to integers just in case"
   ]
  },
  {
   "cell_type": "code",
   "execution_count": 14,
   "metadata": {},
   "outputs": [],
   "source": [
    "convert_dict = {'Start': int,\n",
    "                'End': int}"
   ]
  },
  {
   "cell_type": "code",
   "execution_count": 15,
   "metadata": {},
   "outputs": [],
   "source": [
    "for col in avg_tags_df.columns:\n",
    "    tmp = df.reindex(avg_tags_df.index[avg_tags_df[col]>thresh].tolist())\n",
    "    tmp = tmp.dropna(how='all').iloc[:, :5]\n",
    "    tmp = tmp.astype(convert_dict)\n",
    "    tmp.to_csv('./poised_enhancers/'+col+'_poised_enhancer_peaks.txt', sep='\\t')\n",
    "    \n",
    "    tmp = df_distal.reindex(avg_tags_df.index[avg_tags_df[col]>thresh].tolist())\n",
    "    tmp = tmp.dropna(how='all').iloc[:, :5]\n",
    "    tmp = tmp.astype(convert_dict)\n",
    "    tmp.to_csv('./poised_enhancers/'+col+'_poised_distal_enhancer_peaks.txt', sep='\\t')"
   ]
  },
  {
   "cell_type": "markdown",
   "metadata": {},
   "source": [
    "### Write shared enhancers"
   ]
  },
  {
   "cell_type": "code",
   "execution_count": 16,
   "metadata": {},
   "outputs": [],
   "source": [
    "shared = set(peak_dict['AJ']).intersection(peak_dict['BALBcJ']).intersection(peak_dict['C57Bl6J'])\n",
    "tmp = df.reindex(shared)\n",
    "tmp = tmp.dropna(how='all').iloc[:, :5]\n",
    "tmp = tmp.astype(convert_dict)\n",
    "tmp.to_csv('./poised_enhancers/shared_poised_enhancer_peaks.txt', sep='\\t')\n",
    "\n",
    "tmp = df_distal.reindex(shared)\n",
    "tmp = tmp.dropna(how='all').iloc[:, :5]\n",
    "tmp = tmp.astype(convert_dict)\n",
    "tmp.to_csv('./poised_enhancers/shared_poised_distal_enhancer_peaks.txt', sep='\\t')"
   ]
  },
  {
   "cell_type": "code",
   "execution_count": null,
   "metadata": {},
   "outputs": [],
   "source": []
  }
 ],
 "metadata": {
  "kernelspec": {
   "display_name": "dataviz",
   "language": "python",
   "name": "dataviz"
  },
  "language_info": {
   "codemirror_mode": {
    "name": "ipython",
    "version": 3
   },
   "file_extension": ".py",
   "mimetype": "text/x-python",
   "name": "python",
   "nbconvert_exporter": "python",
   "pygments_lexer": "ipython3",
   "version": "3.7.5"
  }
 },
 "nbformat": 4,
 "nbformat_minor": 2
}
