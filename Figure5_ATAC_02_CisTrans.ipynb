{
 "cells": [
  {
   "cell_type": "markdown",
   "id": "oriental-egypt",
   "metadata": {},
   "source": [
    "Hunter Bennett | Glass Lab | Kupffer Strains Project | 14 March 2023\n",
    "\n",
    "Notebook for cis trans analysis of F1 hybrid ATAC-seq data"
   ]
  },
  {
   "cell_type": "markdown",
   "id": "vanilla-museum",
   "metadata": {},
   "source": [
    "### Import packages, set plotting parameters"
   ]
  },
  {
   "cell_type": "code",
   "execution_count": 1,
   "id": "sustainable-pizza",
   "metadata": {},
   "outputs": [],
   "source": [
    "### header ###\n",
    "__author__ = \"Hunter Bennett\"\n",
    "__license__ = \"BSD\"\n",
    "__email__ = \"hunter.r.bennett@gmail.com\"\n",
    "%load_ext autoreload\n",
    "%autoreload 2\n",
    "### imports ###\n",
    "%matplotlib inline\n",
    "import os\n",
    "import re\n",
    "import glob\n",
    "import pandas as pd\n",
    "import numpy as np\n",
    "import matplotlib\n",
    "import matplotlib.pyplot as plt\n",
    "import seaborn as sns\n",
    "from matplotlib.lines import Line2D"
   ]
  },
  {
   "cell_type": "markdown",
   "id": "dated-toilet",
   "metadata": {},
   "source": [
    "Set working directory"
   ]
  },
  {
   "cell_type": "code",
   "execution_count": 2,
   "id": "severe-supervision",
   "metadata": {},
   "outputs": [],
   "source": [
    "workingDirectory = '/home/h1bennet/strains_github/results/Figure5_ATAC/'\n",
    "if not os.path.isdir(workingDirectory):\n",
    "    os.mkdir(workingDirectory)\n",
    "os.chdir(workingDirectory)"
   ]
  },
  {
   "cell_type": "markdown",
   "id": "charitable-reply",
   "metadata": {},
   "source": [
    "Define custom functions"
   ]
  },
  {
   "cell_type": "code",
   "execution_count": 3,
   "id": "unsigned-burton",
   "metadata": {},
   "outputs": [],
   "source": [
    "def import_homer_diffpeak(depath, appath):\n",
    "    '''This function takes in a getDiffExpression file created from raw tag counts\n",
    "       and a peak tag file created with annotatePeaks\n",
    "       and processes the files so that they contain the same set of genes and can be\n",
    "       used for data visualization and analysis\n",
    "       Accepts:\n",
    "           depath (str): path to getDiffExpression file\n",
    "           appath (str): path to annotatePeaks file\n",
    "       Returns:\n",
    "           de (pandas.DataFrame): modified getDiffExpression file\n",
    "           ge (pandas.DataFrame): modified annotatePeaks,\n",
    "           ge_mat (pandas.DataFrame): annotatePeaks file without annotation\n",
    "           ge_mat_quatn (pandas.DataFrame) : annotatePeaks file without annotation\n",
    "           and quantile normalized\n",
    "       '''\n",
    "    # import packages\n",
    "    import pandas as pd\n",
    "    import numpy as np\n",
    "\n",
    "    # set autosomes for filtering\n",
    "    autosomes = ['chr1', 'chr2', 'chr3', 'chr4',\n",
    "                 'chr5', 'chr6', 'chr7', 'chr8',\n",
    "                 'chr9', 'chr10', 'chr11', 'chr12',\n",
    "                 'chr13', 'chr14', 'chr15', 'chr16',\n",
    "                 'chr17', 'chr18', 'chr19']\n",
    "\n",
    "    # import differential gene expression\n",
    "    de = pd.read_csv(depath, sep='\\t', index_col=0)\n",
    "    de.index.rename('PeakID', inplace=True)\n",
    "    de = de.loc[de.Chr.str.contains('|'.join(autosomes)), :]\n",
    "\n",
    "\n",
    "    # import ge file\n",
    "    ap = pd.read_csv(appath, sep='\\t', index_col=0)\n",
    "    ap.index.rename('PeakID', inplace=True)\n",
    "\n",
    "    # select ge transcripts that are in diff_gene\n",
    "    print('annotatePeaks all peaks', ap.shape)\n",
    "    print('getDiffExpression selected transcripts', de.shape)\n",
    "    ap = ap.loc[de.index.tolist(), :]\n",
    "    print('annotatePeaks selected peaks', ap.shape)\n",
    "\n",
    "\n",
    "    # return files\n",
    "    return (de, ap, ap.iloc[:, 18:]) # also return count matrix without annotation\n",
    "\n",
    "def pull_comparisons_get_diff(diff_gene, seq_type='Repeat'):\n",
    "    '''This function pulls out comparisons from a diff gene file with multiple comparision groups\n",
    "    and returns a dict of pandas DataFrames with one comparison each.\n",
    "\n",
    "    Accepts:\n",
    "        diff_gene (pandas.DataFrame): diff gene file processed to have\n",
    "        genes as index and column of RefSeqIDs titled RepeatID\n",
    "        seq_type (str): Repeat|Peak type of annotation file. repeat for RNA\n",
    "        peak for ChIP/ATAC\n",
    "\n",
    "    Returns:\n",
    "    comp_dict (dict): dictionary of 1 pandas Data Frame per each comparison\n",
    "    ''' \n",
    "\n",
    "\n",
    "    # import packages\n",
    "    import pandas as pd\n",
    "    import re\n",
    "    \n",
    "    if seq_type=='Repeat':\n",
    "        # extract groups\n",
    "        def subset_get_diff(diff_gene, comp):\n",
    "            return diff_gene.loc[:, [seq_type+'ID',\n",
    "                                     comp + ' Log2 Fold Change',\n",
    "                                     comp + ' p-value',\n",
    "                                     comp + ' adj. p-value']]\n",
    "\n",
    "    if seq_type=='Peak':\n",
    "        # exract groups\n",
    "        def subset_get_diff(diff_gene, comp):\n",
    "             return diff_gene.loc[:, ['Chr', 'Start', 'End',\n",
    "                                      'Annotation',\n",
    "                                      'Gene Name',\n",
    "                                      'Distance to TSS',\n",
    "                                       comp + ' Log2 Fold Change',\n",
    "                                       comp + ' p-value',\n",
    "                                       comp + ' adj. p-value']]\n",
    "    \n",
    "    comp_dict = {}\n",
    "    pattern='(\\w* vs. \\w*).*'\n",
    "    for col in diff_gene.columns.values:\n",
    "        m = re.search(string=col, pattern=pattern)\n",
    "        if m:\n",
    "            df = subset_get_diff(diff_gene, m.group(1))\n",
    "            if seq_type=='Repeat':\n",
    "                df.columns = ['RepeatID', 'log2fc', 'pval', 'adj_pval']\n",
    "            if seq_type=='Peak':\n",
    "                df['location'] = df.Chr.astype(str)+':'+df.Start.astype(str)+'-'+df.End.astype(str)\n",
    "                df.columns = ['Chr', 'Start', 'End',\n",
    "                              'Annotation', 'gene', 'TSS_dist',\n",
    "                              'log2fc', 'pval', 'adj_pval', 'location']\n",
    "    \n",
    "            comp_dict[re.sub('G0[0-9]_', '', m.group(1))] = df\n",
    "    \n",
    "    return comp_dict"
   ]
  },
  {
   "cell_type": "code",
   "execution_count": 4,
   "id": "fossil-progress",
   "metadata": {},
   "outputs": [],
   "source": [
    "#### PLOTTING PARAMETERS FOR MANUSCRIPT ####\n",
    "# # get matplotlib to save readable fonts\n",
    "matplotlib.rcParams['pdf.fonttype'] = 42\n",
    "matplotlib.rcParams['ps.fonttype'] = 42\n",
    "matplotlib.rcParams['font.size'] = 8\n",
    "matplotlib.rcParams['savefig.dpi'] = 500\n",
    "\n",
    "\n",
    "# line widths\n",
    "matplotlib.rcParams['axes.linewidth'] = 1\n",
    "matplotlib.rcParams['xtick.major.width'] = 1\n",
    "matplotlib.rcParams['ytick.major.width'] = 1\n",
    "\n",
    "# adjust defualt color for plots to black\n",
    "# normal default is a dark gray\n",
    "COLOR = 'black'\n",
    "matplotlib.rcParams['text.color'] = COLOR\n",
    "matplotlib.rcParams['axes.labelcolor'] = COLOR\n",
    "matplotlib.rcParams['xtick.color'] = COLOR\n",
    "matplotlib.rcParams['ytick.color'] = COLOR\n",
    "matplotlib.rcParams['axes.edgecolor'] = COLOR\n",
    "\n",
    "#### PLOT PARAMETERS FOR THIS PLOT ####"
   ]
  },
  {
   "cell_type": "markdown",
   "id": "according-suite",
   "metadata": {},
   "source": [
    "Import data  \n",
    "For this analysis we need differential peaks and annotated peak data for a merged set of f1 and f0 atac-seq peaks."
   ]
  },
  {
   "cell_type": "code",
   "execution_count": 5,
   "id": "careful-joint",
   "metadata": {},
   "outputs": [],
   "source": [
    "files = [\n",
    "    'https://zenodo.org/record/7829622/files/f1f0_merged_atac_peaks_f0_raw.txt',\n",
    "    'https://zenodo.org/record/7829622/files/f1f0_merged_atac_peaks_f1_raw.txt',\n",
    "    'https://zenodo.org/record/7829622/files/f1f0_merged_diff_output_atac_f0.txt',\n",
    "    'https://zenodo.org/record/7829622/files/f1f0_merged_diff_output_atac_f1.txt',\n",
    "]\n",
    "\n",
    "for f in files:\n",
    "    df = pd.read_csv(f, sep='\\t', index_col=0)\n",
    "    df.to_csv('./'+f.split('/')[-1], sep='\\t')"
   ]
  },
  {
   "cell_type": "markdown",
   "id": "raising-bubble",
   "metadata": {},
   "source": [
    "Read in f0 parental differential peak analysis"
   ]
  },
  {
   "cell_type": "code",
   "execution_count": 6,
   "id": "strange-husband",
   "metadata": {},
   "outputs": [
    {
     "name": "stdout",
     "output_type": "stream",
     "text": [
      "annotatePeaks all peaks (71183, 26)\n",
      "getDiffExpression selected transcripts (71183, 29)\n",
      "annotatePeaks selected peaks (71183, 26)\n"
     ]
    },
    {
     "data": {
      "text/plain": [
       "dict_keys(['balbcj_atac vs. c57bl6j_atac'])"
      ]
     },
     "execution_count": 6,
     "metadata": {},
     "output_type": "execute_result"
    }
   ],
   "source": [
    "diff_peak_f0, peaks_f0, peak_mat_f0 = import_homer_diffpeak(\n",
    "    './f1f0_merged_diff_output_atac_f0.txt',\n",
    "    './f1f0_merged_atac_peaks_f0_raw.txt')\n",
    "\n",
    "comp_dict = pull_comparisons_get_diff(diff_peak_f0, seq_type='Peak')\n",
    "comp_dict.keys()"
   ]
  },
  {
   "cell_type": "markdown",
   "id": "stainless-safety",
   "metadata": {},
   "source": [
    "Read in f1 hybrid differential peak analysis"
   ]
  },
  {
   "cell_type": "code",
   "execution_count": 7,
   "id": "rotary-buffalo",
   "metadata": {},
   "outputs": [
    {
     "name": "stdout",
     "output_type": "stream",
     "text": [
      "annotatePeaks all peaks (137971, 26)\n",
      "getDiffExpression selected transcripts (137971, 29)\n",
      "annotatePeaks selected peaks (137971, 26)\n"
     ]
    },
    {
     "data": {
      "text/plain": [
       "dict_keys(['00_cb6f1_c57 vs. 01_cb6f1_balb'])"
      ]
     },
     "execution_count": 7,
     "metadata": {},
     "output_type": "execute_result"
    }
   ],
   "source": [
    "diff_peak_f1, peaks_f1, peak_mat_f1 = import_homer_diffpeak(\n",
    "    './f1f0_merged_diff_output_atac_f1.txt',\n",
    "    './f1f0_merged_atac_peaks_f1_raw.txt')\n",
    "\n",
    "comp_dict = pull_comparisons_get_diff(diff_peak_f1, seq_type='Peak')\n",
    "comp_dict.keys()"
   ]
  },
  {
   "cell_type": "markdown",
   "id": "beautiful-string",
   "metadata": {},
   "source": [
    "Merge differential peak analysis"
   ]
  },
  {
   "cell_type": "code",
   "execution_count": 8,
   "id": "molecular-romantic",
   "metadata": {
    "scrolled": true
   },
   "outputs": [
    {
     "name": "stdout",
     "output_type": "stream",
     "text": [
      "(15419, 58)\n",
      "(10311, 58)\n"
     ]
    }
   ],
   "source": [
    "# save dict to convert columns to integers\n",
    "convert_dict = {'Start':int,\n",
    "                'End':int}\n",
    "\n",
    "df = diff_peak_f0.merge(diff_peak_f1,\n",
    "                             suffixes=['', '_f1'],\n",
    "                             left_index=True,\n",
    "                             right_index=True,\n",
    "                             how='outer')\n",
    "\n",
    "# drop columns without results in both the f1 and f0\n",
    "df = df.dropna(how='any')\n",
    "print(df.shape)\n",
    "df.iloc[:, :5].astype(convert_dict).to_csv('./f1f0_merged_diff_output_atac_f1_f0.txt',\n",
    "                      sep='\\t')\n",
    "\n",
    "# distal version for motif calling\n",
    "df_distal = df.reindex(df.index[np.abs(df['Distance to TSS']) > 3000])\n",
    "print(df_distal.shape)\n",
    "df_distal.iloc[:, :5].astype(convert_dict).to_csv('./f1f0_merged_diff_output_atac_f1_f0_distal.txt',\n",
    "                             sep='\\t')"
   ]
  },
  {
   "cell_type": "markdown",
   "id": "persistent-interpretation",
   "metadata": {},
   "source": [
    "# Cis/trans analysis\n",
    "For this analysis we define cis regulated transcripts as those that are differentially expressed in a strain specific manner in both the F1 hybrid and the F0 parental strains at a particular p-value and fold change threshold.\n",
    "\n",
    "we define trans regulated transcripts as those that are differentially expressed in a strain specific manner in the F0 parental strain but not the F1 hybrid at a particular p-value and fold change threshold.\n",
    "\n",
    "we define mixed regulated transcripts as those that are differentially expressed in a strain specific manner in the F1 hybrid strain but not the F0 parental strain at a particular p-value and fold change threshold.\n",
    "\n",
    "This approach gives us greater confidence in our estimate of biased allelic expression of a particular transcript, as there is some variance in the relative average expression.\n",
    "\n",
    "Read in F0 parental differential gene expression"
   ]
  },
  {
   "cell_type": "code",
   "execution_count": 9,
   "id": "interested-posting",
   "metadata": {},
   "outputs": [],
   "source": [
    "fc = np.log2(2)\n",
    "padj = 0.05"
   ]
  },
  {
   "cell_type": "markdown",
   "id": "positive-method",
   "metadata": {},
   "source": [
    "Note that the order is switched in these, so in fc sign is different:\n",
    "* F0: C57BL6J biased are > 0\n",
    "* F1: C57BL6J biased are < 0"
   ]
  },
  {
   "cell_type": "code",
   "execution_count": 10,
   "id": "brazilian-planner",
   "metadata": {},
   "outputs": [],
   "source": [
    "f0_log2fc_col = 'balbcj_atac vs. c57bl6j_atac Log2 Fold Change'\n",
    "f0_padj_col = 'balbcj_atac vs. c57bl6j_atac adj. p-value'\n",
    "\n",
    "f1_log2fc_col = '00_cb6f1_c57 vs. 01_cb6f1_balb Log2 Fold Change'\n",
    "f1_padj_col = '00_cb6f1_c57 vs. 01_cb6f1_balb adj. p-value'\n",
    "\n",
    "# flip sign of f1 for cis.\n",
    "sig_f0 = (df[f0_padj_col] < 0.05)\n",
    "sig_f1 = (df[f1_padj_col] < 0.05)\n",
    "sig_both = (sig_f1 & sig_f0)\n",
    "\n",
    "# same: not sig different and FC < 1\n",
    "same_f0 = (np.abs(df.loc[:,f0_log2fc_col]) < 1) & (~sig_f0)\n",
    "same_f1 = (np.abs(df.loc[:,f1_log2fc_col]) < 1) & (~sig_f1)\n",
    "same_both = (same_f0) & (same_f1)\n",
    "\n",
    "# cis: difference of f0 and f1 is less than 1 log2fc, also require that at least one has a log2fc > 1\n",
    "cis = ((np.abs(df.loc[:,f0_log2fc_col] - (-df.loc[:,f1_log2fc_col])) < 1) & ((np.abs(df.loc[:,f0_log2fc_col]) > 1) & sig_both) )\n",
    "\n",
    "# trans: not cis, abs(f0 log2fc) > 1, abs(f1 log2fc) < 1\n",
    "trans = ((~cis) & ((np.abs(df.loc[:,f0_log2fc_col])>1) & ((np.abs(df.loc[:,f1_log2fc_col]) < 1))) & sig_f0 )\n",
    "\n",
    "# mixed: not cis or trans, abs(f0 log2fc) < 1, abs(f1 log2fc) > 1\n",
    "mixed = ( (~cis) & ((~trans) & ((np.abs(df.loc[:,f0_log2fc_col]) < 1) & (np.abs(df.loc[:,f1_log2fc_col]) > 1))) & sig_f1 )"
   ]
  },
  {
   "cell_type": "markdown",
   "id": "fresh-scanning",
   "metadata": {},
   "source": [
    "### Make cis/trans log plot\n",
    "Set parameters"
   ]
  },
  {
   "cell_type": "code",
   "execution_count": 11,
   "id": "informative-sussex",
   "metadata": {},
   "outputs": [],
   "source": [
    "lists = [cis, trans, mixed]\n",
    "\n",
    "\n",
    "labels = ['cis', 'trans', 'mixed']\n",
    "cmap = matplotlib.cm.get_cmap('rocket')\n",
    "colors = [cmap(0.6), cmap(0.4), cmap(0.2)]\n",
    "\n",
    "n_cis = cis.sum()\n",
    "n_trans = trans.sum()\n",
    "n_mixed = mixed.sum()\n",
    "n_same = df.shape[0] - (n_cis + n_trans + n_mixed)\n",
    "\n",
    "legend_elements = [Line2D([0], [0],\n",
    "                          marker='o', color='w',\n",
    "                          label='Same: %i' % n_same,\n",
    "                          markerfacecolor=cmap(0.99),\n",
    "                          markersize=5),\n",
    "                   Line2D([0], [0],\n",
    "                          marker='o', color='w',\n",
    "                          label='Cis: %i' % n_cis,\n",
    "                          markerfacecolor=cmap(0.6),\n",
    "                          markersize=5),\n",
    "                   Line2D([0], [0],\n",
    "                          marker='o', color='w',\n",
    "                          label='Trans: %i' % n_trans,\n",
    "                          markerfacecolor=cmap(0.4),\n",
    "                          markersize=5),\n",
    "                   Line2D([0], [0],\n",
    "                          marker='o', color='w',\n",
    "                          label='Mixed: %i' % n_mixed,\n",
    "                          markerfacecolor=cmap(0.2),\n",
    "                          markersize=5)]"
   ]
  },
  {
   "cell_type": "markdown",
   "id": "latter-burns",
   "metadata": {},
   "source": [
    "Make actual plot"
   ]
  },
  {
   "cell_type": "code",
   "execution_count": 12,
   "id": "wireless-developer",
   "metadata": {},
   "outputs": [
    {
     "data": {
      "image/png": "[encoded data removed]",
      "text/plain": [
       "<Figure size 288x288 with 1 Axes>"
      ]
     },
     "metadata": {
      "needs_background": "light"
     },
     "output_type": "display_data"
    }
   ],
   "source": [
    "fig, ax = plt.subplots(figsize=(4,4))\n",
    "\n",
    "# plot bounding lines\n",
    "ax.plot([-10,10], [-10,10], c='k',\n",
    "        linewidth=0.5, zorder=1)\n",
    "ax.axhline(0, c='k', linewidth=0.5,\n",
    "           zorder=1)\n",
    "ax.axvline(0, c='k', linewidth=0.5,\n",
    "           zorder=1)\n",
    "\n",
    "ax.scatter(df.loc[:, f0_log2fc_col],\n",
    "          -df.loc[:, f1_log2fc_col],\n",
    "           s=0.5,\n",
    "           c=[cmap(0.99)],\n",
    "           alpha = 0.2,\n",
    "           rasterized=True,\n",
    "           zorder=2)\n",
    "\n",
    "for peaklist, color in zip(lists, colors):\n",
    "    ax.scatter(df.loc[peaklist, f0_log2fc_col],\n",
    "               -df.loc[peaklist, f1_log2fc_col],\n",
    "               s=0.5,\n",
    "               c=[color],\n",
    "               rasterized=True,\n",
    "               zorder=3)\n",
    "# Hide the right and top spines\n",
    "ax.spines['right'].set_visible(False)\n",
    "ax.spines['top'].set_visible(False)\n",
    "\n",
    "ax.set_xlabel('C57/BALB\\nLog2(FC F0)')\n",
    "ax.set_ylabel('C57/BALB\\nLog2(FC F1)')\n",
    "\n",
    "ax.legend(handles=legend_elements,\n",
    "          fontsize=8,\n",
    "          frameon=False, ncol=1, loc=(0.05,0.7),\n",
    "          handletextpad=0.05, columnspacing=0.05)\n",
    "\n",
    "ax.set_xlim([-10,10]);\n",
    "ax.set_ylim([-10,10]);"
   ]
  },
  {
   "cell_type": "markdown",
   "id": "beginning-minimum",
   "metadata": {},
   "source": [
    "### Save peak sets for motif analysis"
   ]
  },
  {
   "cell_type": "code",
   "execution_count": 13,
   "id": "forward-yesterday",
   "metadata": {},
   "outputs": [],
   "source": [
    "if not os.path.isdir('./motif_calling/'):\n",
    "    os.mkdir('./motif_calling/')"
   ]
  },
  {
   "cell_type": "code",
   "execution_count": 14,
   "id": "armed-public",
   "metadata": {},
   "outputs": [],
   "source": [
    "# cis\n",
    "cis_balb = (cis) & (df[f0_log2fc_col] < -fc)\n",
    "cis_c57 = (cis) & (df[f0_log2fc_col] > fc)\n",
    "\n",
    "# trans\n",
    "trans_balb = (trans) & (df[f0_log2fc_col] < -fc)\n",
    "trans_c57 = (trans) & (df[f0_log2fc_col] > fc)\n",
    "\n",
    "# flipped sign for f1\n",
    "mixed_balb = (mixed) & (df[f1_log2fc_col] > fc)\n",
    "mixed_c57 = (mixed) & (df[f1_log2fc_col] < -fc)"
   ]
  },
  {
   "cell_type": "code",
   "execution_count": 15,
   "id": "green-heaven",
   "metadata": {},
   "outputs": [],
   "source": [
    "lists = [cis_balb, cis_c57, trans_balb, trans_c57, mixed_balb, mixed_c57, same_f0, same_f1, same_both]\n",
    "labels = ['cis_balb_hunterFCThenPadj', 'cis_c57_hunterFCThenPadj',\n",
    "          'trans_balb_hunterFCThenPadj', 'trans_c57_hunterFCThenPadj',\n",
    "          'mixed_balb_hunterFCThenPadj', 'mixed_c57_hunterFCThenPadj',\n",
    "          'same_f0_hunterFCThenPadj', 'same_f1_hunterFCThenPadj',\n",
    "          'same_f0f1_hunterFCThenPadj']"
   ]
  },
  {
   "cell_type": "code",
   "execution_count": 16,
   "id": "hawaiian-complaint",
   "metadata": {},
   "outputs": [],
   "source": [
    "for label, peaklist in zip(labels, lists):\n",
    "    df.loc[peaklist, :].astype(convert_dict).iloc[:, :5].to_csv(\n",
    "        './motif_calling/atac_'+label+'.txt',\n",
    "        sep='\\t')\n",
    "    df_distal.loc[peaklist, :].astype(convert_dict).iloc[:, :5].to_csv(\n",
    "        './motif_calling/atac_'+label+'_distal.txt',\n",
    "        sep='\\t')"
   ]
  },
  {
   "cell_type": "code",
   "execution_count": null,
   "id": "twelve-belize",
   "metadata": {},
   "outputs": [],
   "source": []
  }
 ],
 "metadata": {
  "kernelspec": {
   "display_name": "dataviz",
   "language": "python",
   "name": "dataviz"
  },
  "language_info": {
   "codemirror_mode": {
    "name": "ipython",
    "version": 3
   },
   "file_extension": ".py",
   "mimetype": "text/x-python",
   "name": "python",
   "nbconvert_exporter": "python",
   "pygments_lexer": "ipython3",
   "version": "3.7.5"
  }
 },
 "nbformat": 4,
 "nbformat_minor": 5
}
