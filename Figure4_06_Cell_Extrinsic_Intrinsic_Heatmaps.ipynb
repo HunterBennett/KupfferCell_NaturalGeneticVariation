{
 "cells": [
  {
   "cell_type": "markdown",
   "id": "regional-monroe",
   "metadata": {},
   "source": [
    "Hunter Bennett | Glass Lab | Kupffer Strains Project | 14 March 2023\n",
    "\n",
    "Notebook for heatmap partitioning of *trans* genes into cell extrinsic and cell intrinsic *trans* via comparison of F1 and NSG experiments.\n",
    "\n",
    "### Import packages, set plotting parameters"
   ]
  },
  {
   "cell_type": "code",
   "execution_count": 1,
   "id": "enabling-pharmacy",
   "metadata": {},
   "outputs": [],
   "source": [
    "### header ###\n",
    "__author__ = \"Hunter Bennett\"\n",
    "__license__ = \"BSD\"\n",
    "__email__ = \"hunter.r.bennett@gmail.com\"\n",
    "%load_ext autoreload\n",
    "%autoreload 2\n",
    "%matplotlib inline\n",
    "### imports ###\n",
    "import sys\n",
    "import os\n",
    "import re\n",
    "import glob\n",
    "import pandas as pd\n",
    "import numpy as np\n",
    "import matplotlib\n",
    "import matplotlib.pyplot as plt\n",
    "import seaborn as sns"
   ]
  },
  {
   "cell_type": "code",
   "execution_count": 2,
   "id": "remarkable-blood",
   "metadata": {},
   "outputs": [],
   "source": [
    "#### PLOTTING PARAMETERS FOR MANUSCRIPT ####\n",
    "# # get matplotlib to save readable fonts\n",
    "matplotlib.rcParams['pdf.fonttype'] = 42\n",
    "matplotlib.rcParams['ps.fonttype'] = 42\n",
    "matplotlib.rcParams['font.size'] = 6\n",
    "matplotlib.rcParams['savefig.dpi'] = 500\n",
    "\n",
    "\n",
    "# line widths\n",
    "matplotlib.rcParams['axes.linewidth'] = 1\n",
    "matplotlib.rcParams['xtick.major.width'] = 1\n",
    "matplotlib.rcParams['ytick.major.width'] = 1\n",
    "\n",
    "# adjust defualt color for plots to black\n",
    "# normal default is a dark gray\n",
    "COLOR = 'black'\n",
    "matplotlib.rcParams['text.color'] = COLOR\n",
    "matplotlib.rcParams['axes.labelcolor'] = COLOR\n",
    "matplotlib.rcParams['xtick.color'] = COLOR\n",
    "matplotlib.rcParams['ytick.color'] = COLOR\n",
    "matplotlib.rcParams['axes.edgecolor'] = COLOR\n",
    "\n",
    "#### PLOT PARAMETERS FOR THIS PLOT ####"
   ]
  },
  {
   "cell_type": "markdown",
   "id": "amazing-harvest",
   "metadata": {},
   "source": [
    "Set working directory"
   ]
  },
  {
   "cell_type": "code",
   "execution_count": 3,
   "id": "round-swing",
   "metadata": {},
   "outputs": [],
   "source": [
    "workingDirectory = '/home/h1bennet/strains_github/results/Figure4/'\n",
    "if not os.path.isdir(workingDirectory):\n",
    "    os.mkdir(workingDirectory)\n",
    "os.chdir(workingDirectory)"
   ]
  },
  {
   "cell_type": "markdown",
   "id": "wanted-transcription",
   "metadata": {},
   "source": [
    "Read in gene lists"
   ]
  },
  {
   "cell_type": "code",
   "execution_count": 4,
   "id": "honest-supervision",
   "metadata": {},
   "outputs": [],
   "source": [
    "f1_dict = {}\n",
    "for genelist in glob.glob('./gene_lists/f1nsg*filt_pval.txt'):\n",
    "    with open(genelist, 'r') as f:\n",
    "        listid = genelist.split('/')[-1].replace('.txt','').replace('f1nsg_', '')\n",
    "        f1_dict[listid] = [i.strip() for i in f.readlines()[1:]]"
   ]
  },
  {
   "cell_type": "code",
   "execution_count": 5,
   "id": "standing-trader",
   "metadata": {},
   "outputs": [],
   "source": [
    "nsg_dict = {}\n",
    "for genelist in glob.glob('./gene_lists/nsg*filt_pval.txt'):\n",
    "    with open(genelist, 'r') as f:\n",
    "        listid = genelist.split('/')[-1].replace('.txt','').replace('nsg_', '')\n",
    "        nsg_dict[listid] = [i.strip() for i in f.readlines()[1:]]"
   ]
  },
  {
   "cell_type": "markdown",
   "id": "loose-safety",
   "metadata": {},
   "source": [
    "Compare overlap of all sets..."
   ]
  },
  {
   "cell_type": "code",
   "execution_count": 6,
   "id": "hydraulic-hardware",
   "metadata": {
    "scrolled": false
   },
   "outputs": [
    {
     "name": "stdout",
     "output_type": "stream",
     "text": [
      "kupffer_trans_balb_filt_pval\n",
      "58 genes in F1-NSG set\n",
      "84 genes in F0-NSG set\n",
      "31 / 111 genes shared\n",
      "kupffer_mixed_c57_filt_pval\n",
      "38 genes in F1-NSG set\n",
      "17 genes in F0-NSG set\n",
      "1 / 54 genes shared\n",
      "kupffer_cis_balb_filt_pval\n",
      "31 genes in F1-NSG set\n",
      "77 genes in F0-NSG set\n",
      "22 / 86 genes shared\n",
      "kupffer_cis_c57_filt_pval\n",
      "40 genes in F1-NSG set\n",
      "73 genes in F0-NSG set\n",
      "34 / 79 genes shared\n",
      "kupffer_trans_c57_filt_pval\n",
      "59 genes in F1-NSG set\n",
      "89 genes in F0-NSG set\n",
      "40 / 108 genes shared\n",
      "kupffer_mixed_balb_filt_pval\n",
      "29 genes in F1-NSG set\n",
      "18 genes in F0-NSG set\n",
      "2 / 45 genes shared\n"
     ]
    }
   ],
   "source": [
    "for key in f1_dict.keys():\n",
    "    print(key)\n",
    "    print(len(f1_dict[key]), 'genes in F1-NSG set')\n",
    "    print(len(nsg_dict[key]), 'genes in F0-NSG set')\n",
    "    shared = set(nsg_dict[key]).intersection(f1_dict[key])\n",
    "    total = set(nsg_dict[key]).union(f1_dict[key])\n",
    "    print('%i / %i genes shared' % (len(shared), len(total)))"
   ]
  },
  {
   "cell_type": "markdown",
   "id": "excess-safety",
   "metadata": {},
   "source": [
    "Read in differential expression analysis files from previous anlalyses - key here is these files contain DESeq2 estimated log2foldchange between strains/alleles"
   ]
  },
  {
   "cell_type": "code",
   "execution_count": 7,
   "id": "nasty-detroit",
   "metadata": {},
   "outputs": [],
   "source": [
    "# F0\n",
    "df_control = pd.read_csv('./balbcj_control.vs.c57bl6j_control.deseq.txt',\n",
    "                         sep='\\t', index_col=0)\n",
    "\n",
    "# F1\n",
    "df_f1 = pd.read_csv('./balbcj_f1nsg_variants.vs.c57bl6j_f1nsg_variants.deseq.txt',\n",
    "                    sep='\\t', index_col=0)\n",
    "\n",
    "# NSG\n",
    "df_nsg = pd.read_csv('./balbcj_NSG.vs.c57bl6j_NSG.deseq.txt',\n",
    "                 sep='\\t', index_col=0)\n",
    "\n",
    "# Mege into master data frame\n",
    "df = df_control.merge(df_f1.merge(df_nsg, left_index=True, right_index=True, how='inner', suffixes=('_f1','_nsg')),\n",
    "                      left_index=True,\n",
    "                      right_index=True,\n",
    "                      how='inner',\n",
    "                      suffixes=('_control', ''))"
   ]
  },
  {
   "cell_type": "markdown",
   "id": "maritime-reset",
   "metadata": {},
   "source": [
    "## Trans gene analysis"
   ]
  },
  {
   "cell_type": "code",
   "execution_count": 8,
   "id": "informal-cleaner",
   "metadata": {},
   "outputs": [],
   "source": [
    "# set column labels\n",
    "log2fc_cols = ['log2FoldChange',\n",
    "             'log2FoldChange_nsg',\n",
    "             'log2FoldChange_f1']"
   ]
  },
  {
   "cell_type": "markdown",
   "id": "restricted-crisis",
   "metadata": {},
   "source": [
    "C57BL6/J plots  \n",
    "Unlabeled"
   ]
  },
  {
   "cell_type": "code",
   "execution_count": 9,
   "id": "selective-secretariat",
   "metadata": {},
   "outputs": [
    {
     "name": "stdout",
     "output_type": "stream",
     "text": [
      "40\n",
      "16\n",
      "4\n"
     ]
    },
    {
     "data": {
      "image/png": "[encoded data removed]",
      "text/plain": [
       "<Figure size 144x504 with 3 Axes>"
      ]
     },
     "metadata": {},
     "output_type": "display_data"
    }
   ],
   "source": [
    "key = 'kupffer_trans_c57_filt_pval'\n",
    "shared_set = df.reindex(set(nsg_dict[key]).intersection(f1_dict[key])).dropna().index.tolist()\n",
    "f1_only = df.reindex(set(f1_dict[key]).difference(nsg_dict[key])).dropna().index.tolist()\n",
    "nsg_only = df.reindex(set(nsg_dict[key]).difference(f1_dict[key])).dropna().index.tolist()\n",
    "\n",
    "sets = [shared_set, f1_only, nsg_only]\n",
    "set_lengths = [len(i) for i in sets]\n",
    "\n",
    "f, axs = plt.subplots(3, 1, figsize=(2,7), gridspec_kw={'height_ratios': set_lengths})\n",
    "plt.subplots_adjust(hspace=0.025)\n",
    "for geneset, ax in zip(sets, axs):\n",
    "    print(len(geneset))\n",
    "    sns.heatmap(df.loc[geneset, log2fc_cols].sort_values('log2FoldChange', ascending=False),\n",
    "                cmap='Greens',\n",
    "                # linewidth=1,\n",
    "                # linecolor='k',\n",
    "                # z_score=2,\n",
    "                vmin=0,\n",
    "                vmax=2,\n",
    "                # annot=True,\n",
    "                fmt='.1f',\n",
    "                xticklabels=0,\n",
    "                yticklabels=0,\n",
    "                cbar=False,\n",
    "                cbar_kws={'orientation':'vertical',\n",
    "                          'pad':0.05,\n",
    "                          'label':'-log2fc'},\n",
    "                ax=ax)"
   ]
  },
  {
   "cell_type": "markdown",
   "id": "gorgeous-official",
   "metadata": {},
   "source": [
    "Labeled"
   ]
  },
  {
   "cell_type": "code",
   "execution_count": 10,
   "id": "wicked-portal",
   "metadata": {},
   "outputs": [
    {
     "name": "stdout",
     "output_type": "stream",
     "text": [
      "40\n",
      "16\n",
      "4\n"
     ]
    },
    {
     "data": {
      "image/png": "[encoded data removed]",
      "text/plain": [
       "<Figure size 72x504 with 3 Axes>"
      ]
     },
     "metadata": {
      "needs_background": "light"
     },
     "output_type": "display_data"
    }
   ],
   "source": [
    "key = 'kupffer_trans_c57_filt_pval'\n",
    "shared_set = df.reindex(set(nsg_dict[key]).intersection(f1_dict[key])).dropna().index.tolist()\n",
    "f1_only = df.reindex(set(f1_dict[key]).difference(nsg_dict[key])).dropna().index.tolist()\n",
    "nsg_only = df.reindex(set(nsg_dict[key]).difference(f1_dict[key])).dropna().index.tolist()\n",
    "\n",
    "sets = [shared_set, f1_only, nsg_only]\n",
    "set_lengths = [len(i) for i in sets]\n",
    "\n",
    "f, axs = plt.subplots(3, 1, figsize=(1,7), gridspec_kw={'height_ratios': set_lengths})\n",
    "plt.subplots_adjust(hspace=0.025)\n",
    "for geneset, ax in zip(sets, axs):\n",
    "    print(len(geneset))\n",
    "    sns.heatmap(df.loc[geneset, log2fc_cols].sort_values('log2FoldChange', ascending=False),\n",
    "                cmap='Greens',\n",
    "                # linewidth=1,\n",
    "                # linecolor='k',\n",
    "                # z_score=2,\n",
    "                vmin=0,\n",
    "                vmax=2,\n",
    "                # annot=True,\n",
    "                fmt='.1f',\n",
    "                xticklabels=0,\n",
    "                yticklabels=1,\n",
    "                cbar=False,\n",
    "                cbar_kws={'orientation':'vertical',\n",
    "                          'pad':0.05,\n",
    "                          'label':'-log2fc'},\n",
    "                ax=ax)"
   ]
  },
  {
   "cell_type": "markdown",
   "id": "sacred-florence",
   "metadata": {},
   "source": [
    "BALB/cJ plots  \n",
    "Unlabeled"
   ]
  },
  {
   "cell_type": "code",
   "execution_count": 11,
   "id": "alternate-prayer",
   "metadata": {},
   "outputs": [
    {
     "name": "stdout",
     "output_type": "stream",
     "text": [
      "31\n",
      "26\n",
      "4\n"
     ]
    },
    {
     "data": {
      "image/png": "[encoded data removed]",
      "text/plain": [
       "<Figure size 144x504 with 3 Axes>"
      ]
     },
     "metadata": {},
     "output_type": "display_data"
    }
   ],
   "source": [
    "key = 'kupffer_trans_balb_filt_pval'\n",
    "shared_set = df.reindex(set(nsg_dict[key]).intersection(f1_dict[key])).dropna().index.tolist()\n",
    "f1_only = df.reindex(set(f1_dict[key]).difference(nsg_dict[key])).dropna().index.tolist()\n",
    "nsg_only = df.reindex(set(nsg_dict[key]).difference(f1_dict[key])).dropna().index.tolist()\n",
    "\n",
    "sets = [shared_set, f1_only, nsg_only]\n",
    "set_lengths = [len(i) for i in sets]\n",
    "\n",
    "f, axs = plt.subplots(3, 1, figsize=(2,7), gridspec_kw={'height_ratios': set_lengths})\n",
    "plt.subplots_adjust(hspace=0.025)\n",
    "for geneset, ax in zip(sets, axs):\n",
    "    print(len(geneset))\n",
    "    sns.heatmap(-df.loc[geneset, log2fc_cols].sort_values('log2FoldChange', ascending=True),\n",
    "                cmap='Blues',\n",
    "                # linewidth=1,\n",
    "                # linecolor='k',\n",
    "                # z_score=2,\n",
    "                vmin=0,\n",
    "                vmax=2,\n",
    "                # annot=True,\n",
    "                fmt='.1f',\n",
    "                xticklabels=0,\n",
    "                yticklabels=0,\n",
    "                cbar=False,\n",
    "                cbar_kws={'orientation':'horizontal',\n",
    "                          'pad':0.05,\n",
    "                          'label':'-log2fc'},\n",
    "                ax=ax)"
   ]
  },
  {
   "cell_type": "markdown",
   "id": "difficult-coral",
   "metadata": {},
   "source": [
    "Labeled"
   ]
  },
  {
   "cell_type": "code",
   "execution_count": 12,
   "id": "adolescent-automation",
   "metadata": {},
   "outputs": [
    {
     "name": "stdout",
     "output_type": "stream",
     "text": [
      "31\n",
      "26\n",
      "4\n"
     ]
    },
    {
     "data": {
      "image/png": "[encoded data removed]",
      "text/plain": [
       "<Figure size 72x504 with 3 Axes>"
      ]
     },
     "metadata": {
      "needs_background": "light"
     },
     "output_type": "display_data"
    }
   ],
   "source": [
    "key = 'kupffer_trans_balb_filt_pval'\n",
    "shared_set = df.reindex(set(nsg_dict[key]).intersection(f1_dict[key])).dropna().index.tolist()\n",
    "f1_only = df.reindex(set(f1_dict[key]).difference(nsg_dict[key])).dropna().index.tolist()\n",
    "nsg_only = df.reindex(set(nsg_dict[key]).difference(f1_dict[key])).dropna().index.tolist()\n",
    "\n",
    "sets = [shared_set, f1_only, nsg_only]\n",
    "set_lengths = [len(i) for i in sets]\n",
    "\n",
    "f, axs = plt.subplots(3, 1, figsize=(1,7), gridspec_kw={'height_ratios': set_lengths})\n",
    "plt.subplots_adjust(hspace=0.025)\n",
    "for geneset, ax in zip(sets, axs):\n",
    "    print(len(geneset))\n",
    "    sns.heatmap(-df.loc[geneset, log2fc_cols].sort_values('log2FoldChange', ascending=True),\n",
    "                cmap='Blues',\n",
    "                # linewidth=1,\n",
    "                # linecolor='k',\n",
    "                # z_score=2,\n",
    "                vmin=0,\n",
    "                vmax=2,\n",
    "                # annot=True,\n",
    "                fmt='.1f',\n",
    "                xticklabels=0,\n",
    "                yticklabels=1,\n",
    "                cbar=False,\n",
    "                cbar_kws={'orientation':'horizontal',\n",
    "                          'pad':0.05,\n",
    "                          'label':'-log2fc'},\n",
    "                ax=ax)"
   ]
  },
  {
   "cell_type": "markdown",
   "id": "nasty-subdivision",
   "metadata": {},
   "source": [
    "### Make colorbars for use in illustrator"
   ]
  },
  {
   "cell_type": "code",
   "execution_count": 13,
   "id": "pharmaceutical-college",
   "metadata": {},
   "outputs": [
    {
     "data": {
      "image/png": "[encoded data removed]",
      "text/plain": [
       "<Figure size 144x72 with 2 Axes>"
      ]
     },
     "metadata": {
      "needs_background": "light"
     },
     "output_type": "display_data"
    }
   ],
   "source": [
    "fig, ax = plt.subplots(figsize=(2,1))\n",
    "\n",
    "cmap = matplotlib.cm.Greens\n",
    "norm = matplotlib.colors.Normalize(vmin=0, vmax=2)\n",
    "plt.gca().set_visible(False)\n",
    "mapper = matplotlib.cm.ScalarMappable(norm=norm,  cmap=cmap)\n",
    "mapper.set_array([])\n",
    "cb = fig.colorbar(mapper,\n",
    "                  use_gridspec=True,\n",
    "                  orientation='horizontal',\n",
    "                  label='log2FC\\n(C57BL/6J/BALB/cJ)',\n",
    "                  aspect=8)"
   ]
  },
  {
   "cell_type": "code",
   "execution_count": 14,
   "id": "ecological-exercise",
   "metadata": {},
   "outputs": [
    {
     "data": {
      "image/png": "[encoded data removed]",
      "text/plain": [
       "<Figure size 144x72 with 2 Axes>"
      ]
     },
     "metadata": {
      "needs_background": "light"
     },
     "output_type": "display_data"
    }
   ],
   "source": [
    "fig, ax = plt.subplots(figsize=(2,1))\n",
    "\n",
    "cmap = matplotlib.cm.Blues\n",
    "norm = matplotlib.colors.Normalize(vmin=0, vmax=2)\n",
    "plt.gca().set_visible(False)\n",
    "mapper = matplotlib.cm.ScalarMappable(norm=norm,  cmap=cmap)\n",
    "mapper.set_array([])\n",
    "cb = fig.colorbar(mapper,\n",
    "                  use_gridspec=True,\n",
    "                  orientation='horizontal',\n",
    "                  label='log2FC\\n(BALB/cJ/C57BL/6J)',\n",
    "                  aspect=8)"
   ]
  }
 ],
 "metadata": {
  "kernelspec": {
   "display_name": "dataviz",
   "language": "python",
   "name": "dataviz"
  },
  "language_info": {
   "codemirror_mode": {
    "name": "ipython",
    "version": 3
   },
   "file_extension": ".py",
   "mimetype": "text/x-python",
   "name": "python",
   "nbconvert_exporter": "python",
   "pygments_lexer": "ipython3",
   "version": "3.7.5"
  }
 },
 "nbformat": 4,
 "nbformat_minor": 5
}
